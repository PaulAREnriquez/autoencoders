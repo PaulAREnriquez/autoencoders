{
 "cells": [
  {
   "attachments": {},
   "cell_type": "markdown",
   "metadata": {},
   "source": [
    "#### **Unsupervised Neural Networks with Autoencoders**"
   ]
  },
  {
   "attachments": {},
   "cell_type": "markdown",
   "metadata": {},
   "source": [
    "##### **What is an Autoencoder?**\n",
    "\n",
    "![autoencoder-structure.png](./pictures/autoencoder-structure.png)"
   ]
  },
  {
   "attachments": {},
   "cell_type": "markdown",
   "metadata": {},
   "source": [
    "An **Autoencoder** is an **Unsupervised** Neural Network. It learns from *data without labels*. It looks at the data, our **input**, and tries to learn and create a meaningful, condensed representation of that data, which is the **code** in the middle, and from the **code**, it will try to ***reconstruct*** the input, albeit with some **amount of error**, called the ***reconstruction error***.\n",
    "\n",
    "It consists of three parts:\n",
    "\n",
    "1. **Encoder** - is a module that compresses the input data into an encoded representation that is typically orders of magnitude smaller than the input data.\n",
    "2. **Code** - also called \"bottleneck\" or \"latent space\", is the **most important** part of the neural network. The code exists to restrict the flow of information to the decoder from the encoder, thus, allowing only the most vital information to pass through. The **code** helps us form a *knowledge representation* of the input.\n",
    "\n",
    "As a compressed representation, it prevents the neural network from memorizing the input and overfitting the data. The smaller the code, the lower the risk of overfitting.\n",
    "\n",
    "Such Autoencoder, with the input as the **original input**, the **bottleneck** or **hidden layer** has lower number of neurons than the input, and a **non-linear** activation, is called an ***UNDERCOMPLETE*** **Autoencoder**.\n",
    "\n",
    "3. **Decoder** - It acts as the **\"interpreter\"** of code. It decompresses the knowledge representations and reconstructs the data back to its encoded form. The output is then compared to the ground truth.\n",
    "\n",
    "It is a **feed-forward** neural network trained to reproduce its input at the output layer. The structure is symmetrical, which means that the weights dimension on the decoder part is just the **transposed or mirrored** version of the weights dimension of the encoder part. It is not necessarily always the case, but the convergence happens faster with this kind of structure.\n",
    "\n",
    "In summary, an **Undercomplete Autoencoder (basic form)**, is a **shallow neural network** (small number of encoder and decoder layers), with a hidden layer having smaller number of neurons than the input and a **non-linear** activation. It tries to use this lower dimension representation of data, to recreate the original input. The difference between the recreation and the original input is the **reconstruction error**.\n",
    "\n",
    "![tied-weights.png](./pictures/tied-weights.png)"
   ]
  },
  {
   "cell_type": "code",
   "execution_count": 1,
   "metadata": {},
   "outputs": [],
   "source": [
    "import pandas as pd\n",
    "import torch\n",
    "import torch.nn as nn\n",
    "import torch.optim as optim\n",
    "from tqdm import tqdm\n",
    "from torch.utils.data import Dataset, DataLoader\n",
    "import matplotlib.pyplot as plt\n",
    "\n",
    "device = \"cpu\""
   ]
  },
  {
   "attachments": {},
   "cell_type": "markdown",
   "metadata": {},
   "source": [
    "#### **Implementing Undercomplete Autoencoder for Feature Extraction in Pytorch**\n",
    "\n",
    "Real data is not random, instead it has structure. It means we do not need to use every part of our full input space to represent our data. And it's the encoder's job to map it from the input space, to a meaningful lower dimension.\n",
    "\n",
    "![pca_vs_autoencoder.png](./pictures/pca_vs_autoencoder.png)"
   ]
  },
  {
   "attachments": {},
   "cell_type": "markdown",
   "metadata": {},
   "source": [
    "**Principal Component Analysis** is a method used in Machine Learning to perform Feature Dimensional Reduction. The problem is that it assumes and can only build **linear relationships**. Thus, **Undercomplete Autoencoder** has an advantage because it can reduce dimensions even from **non-linear relationships** among features, and therefore performs better.\n",
    "\n",
    "Effectively, if we remove all non-linear activations from an Undercomplete Autoencoder and use only Mean Squared Error as a loss function, we reduce the autoencoder into something that works at an equal footing with PCA."
   ]
  },
  {
   "cell_type": "code",
   "execution_count": 2,
   "metadata": {},
   "outputs": [
    {
     "data": {
      "text/html": [
       "<div>\n",
       "<style scoped>\n",
       "    .dataframe tbody tr th:only-of-type {\n",
       "        vertical-align: middle;\n",
       "    }\n",
       "\n",
       "    .dataframe tbody tr th {\n",
       "        vertical-align: top;\n",
       "    }\n",
       "\n",
       "    .dataframe thead th {\n",
       "        text-align: right;\n",
       "    }\n",
       "</style>\n",
       "<table border=\"1\" class=\"dataframe\">\n",
       "  <thead>\n",
       "    <tr style=\"text-align: right;\">\n",
       "      <th></th>\n",
       "      <th>0</th>\n",
       "      <th>1</th>\n",
       "      <th>2</th>\n",
       "      <th>3</th>\n",
       "      <th>4</th>\n",
       "      <th>5</th>\n",
       "      <th>6</th>\n",
       "      <th>7</th>\n",
       "      <th>8</th>\n",
       "      <th>9</th>\n",
       "      <th>...</th>\n",
       "      <th>22</th>\n",
       "      <th>23</th>\n",
       "      <th>24</th>\n",
       "      <th>25</th>\n",
       "      <th>26</th>\n",
       "      <th>27</th>\n",
       "      <th>28</th>\n",
       "      <th>29</th>\n",
       "      <th>30</th>\n",
       "      <th>31</th>\n",
       "    </tr>\n",
       "  </thead>\n",
       "  <tbody>\n",
       "    <tr>\n",
       "      <th>0</th>\n",
       "      <td>842302</td>\n",
       "      <td>M</td>\n",
       "      <td>17.99</td>\n",
       "      <td>10.38</td>\n",
       "      <td>122.80</td>\n",
       "      <td>1001.0</td>\n",
       "      <td>0.11840</td>\n",
       "      <td>0.27760</td>\n",
       "      <td>0.30010</td>\n",
       "      <td>0.14710</td>\n",
       "      <td>...</td>\n",
       "      <td>25.380</td>\n",
       "      <td>17.33</td>\n",
       "      <td>184.60</td>\n",
       "      <td>2019.0</td>\n",
       "      <td>0.16220</td>\n",
       "      <td>0.66560</td>\n",
       "      <td>0.7119</td>\n",
       "      <td>0.2654</td>\n",
       "      <td>0.4601</td>\n",
       "      <td>0.11890</td>\n",
       "    </tr>\n",
       "    <tr>\n",
       "      <th>1</th>\n",
       "      <td>842517</td>\n",
       "      <td>M</td>\n",
       "      <td>20.57</td>\n",
       "      <td>17.77</td>\n",
       "      <td>132.90</td>\n",
       "      <td>1326.0</td>\n",
       "      <td>0.08474</td>\n",
       "      <td>0.07864</td>\n",
       "      <td>0.08690</td>\n",
       "      <td>0.07017</td>\n",
       "      <td>...</td>\n",
       "      <td>24.990</td>\n",
       "      <td>23.41</td>\n",
       "      <td>158.80</td>\n",
       "      <td>1956.0</td>\n",
       "      <td>0.12380</td>\n",
       "      <td>0.18660</td>\n",
       "      <td>0.2416</td>\n",
       "      <td>0.1860</td>\n",
       "      <td>0.2750</td>\n",
       "      <td>0.08902</td>\n",
       "    </tr>\n",
       "    <tr>\n",
       "      <th>2</th>\n",
       "      <td>84300903</td>\n",
       "      <td>M</td>\n",
       "      <td>19.69</td>\n",
       "      <td>21.25</td>\n",
       "      <td>130.00</td>\n",
       "      <td>1203.0</td>\n",
       "      <td>0.10960</td>\n",
       "      <td>0.15990</td>\n",
       "      <td>0.19740</td>\n",
       "      <td>0.12790</td>\n",
       "      <td>...</td>\n",
       "      <td>23.570</td>\n",
       "      <td>25.53</td>\n",
       "      <td>152.50</td>\n",
       "      <td>1709.0</td>\n",
       "      <td>0.14440</td>\n",
       "      <td>0.42450</td>\n",
       "      <td>0.4504</td>\n",
       "      <td>0.2430</td>\n",
       "      <td>0.3613</td>\n",
       "      <td>0.08758</td>\n",
       "    </tr>\n",
       "    <tr>\n",
       "      <th>3</th>\n",
       "      <td>84348301</td>\n",
       "      <td>M</td>\n",
       "      <td>11.42</td>\n",
       "      <td>20.38</td>\n",
       "      <td>77.58</td>\n",
       "      <td>386.1</td>\n",
       "      <td>0.14250</td>\n",
       "      <td>0.28390</td>\n",
       "      <td>0.24140</td>\n",
       "      <td>0.10520</td>\n",
       "      <td>...</td>\n",
       "      <td>14.910</td>\n",
       "      <td>26.50</td>\n",
       "      <td>98.87</td>\n",
       "      <td>567.7</td>\n",
       "      <td>0.20980</td>\n",
       "      <td>0.86630</td>\n",
       "      <td>0.6869</td>\n",
       "      <td>0.2575</td>\n",
       "      <td>0.6638</td>\n",
       "      <td>0.17300</td>\n",
       "    </tr>\n",
       "    <tr>\n",
       "      <th>4</th>\n",
       "      <td>84358402</td>\n",
       "      <td>M</td>\n",
       "      <td>20.29</td>\n",
       "      <td>14.34</td>\n",
       "      <td>135.10</td>\n",
       "      <td>1297.0</td>\n",
       "      <td>0.10030</td>\n",
       "      <td>0.13280</td>\n",
       "      <td>0.19800</td>\n",
       "      <td>0.10430</td>\n",
       "      <td>...</td>\n",
       "      <td>22.540</td>\n",
       "      <td>16.67</td>\n",
       "      <td>152.20</td>\n",
       "      <td>1575.0</td>\n",
       "      <td>0.13740</td>\n",
       "      <td>0.20500</td>\n",
       "      <td>0.4000</td>\n",
       "      <td>0.1625</td>\n",
       "      <td>0.2364</td>\n",
       "      <td>0.07678</td>\n",
       "    </tr>\n",
       "    <tr>\n",
       "      <th>...</th>\n",
       "      <td>...</td>\n",
       "      <td>...</td>\n",
       "      <td>...</td>\n",
       "      <td>...</td>\n",
       "      <td>...</td>\n",
       "      <td>...</td>\n",
       "      <td>...</td>\n",
       "      <td>...</td>\n",
       "      <td>...</td>\n",
       "      <td>...</td>\n",
       "      <td>...</td>\n",
       "      <td>...</td>\n",
       "      <td>...</td>\n",
       "      <td>...</td>\n",
       "      <td>...</td>\n",
       "      <td>...</td>\n",
       "      <td>...</td>\n",
       "      <td>...</td>\n",
       "      <td>...</td>\n",
       "      <td>...</td>\n",
       "      <td>...</td>\n",
       "    </tr>\n",
       "    <tr>\n",
       "      <th>564</th>\n",
       "      <td>926424</td>\n",
       "      <td>M</td>\n",
       "      <td>21.56</td>\n",
       "      <td>22.39</td>\n",
       "      <td>142.00</td>\n",
       "      <td>1479.0</td>\n",
       "      <td>0.11100</td>\n",
       "      <td>0.11590</td>\n",
       "      <td>0.24390</td>\n",
       "      <td>0.13890</td>\n",
       "      <td>...</td>\n",
       "      <td>25.450</td>\n",
       "      <td>26.40</td>\n",
       "      <td>166.10</td>\n",
       "      <td>2027.0</td>\n",
       "      <td>0.14100</td>\n",
       "      <td>0.21130</td>\n",
       "      <td>0.4107</td>\n",
       "      <td>0.2216</td>\n",
       "      <td>0.2060</td>\n",
       "      <td>0.07115</td>\n",
       "    </tr>\n",
       "    <tr>\n",
       "      <th>565</th>\n",
       "      <td>926682</td>\n",
       "      <td>M</td>\n",
       "      <td>20.13</td>\n",
       "      <td>28.25</td>\n",
       "      <td>131.20</td>\n",
       "      <td>1261.0</td>\n",
       "      <td>0.09780</td>\n",
       "      <td>0.10340</td>\n",
       "      <td>0.14400</td>\n",
       "      <td>0.09791</td>\n",
       "      <td>...</td>\n",
       "      <td>23.690</td>\n",
       "      <td>38.25</td>\n",
       "      <td>155.00</td>\n",
       "      <td>1731.0</td>\n",
       "      <td>0.11660</td>\n",
       "      <td>0.19220</td>\n",
       "      <td>0.3215</td>\n",
       "      <td>0.1628</td>\n",
       "      <td>0.2572</td>\n",
       "      <td>0.06637</td>\n",
       "    </tr>\n",
       "    <tr>\n",
       "      <th>566</th>\n",
       "      <td>926954</td>\n",
       "      <td>M</td>\n",
       "      <td>16.60</td>\n",
       "      <td>28.08</td>\n",
       "      <td>108.30</td>\n",
       "      <td>858.1</td>\n",
       "      <td>0.08455</td>\n",
       "      <td>0.10230</td>\n",
       "      <td>0.09251</td>\n",
       "      <td>0.05302</td>\n",
       "      <td>...</td>\n",
       "      <td>18.980</td>\n",
       "      <td>34.12</td>\n",
       "      <td>126.70</td>\n",
       "      <td>1124.0</td>\n",
       "      <td>0.11390</td>\n",
       "      <td>0.30940</td>\n",
       "      <td>0.3403</td>\n",
       "      <td>0.1418</td>\n",
       "      <td>0.2218</td>\n",
       "      <td>0.07820</td>\n",
       "    </tr>\n",
       "    <tr>\n",
       "      <th>567</th>\n",
       "      <td>927241</td>\n",
       "      <td>M</td>\n",
       "      <td>20.60</td>\n",
       "      <td>29.33</td>\n",
       "      <td>140.10</td>\n",
       "      <td>1265.0</td>\n",
       "      <td>0.11780</td>\n",
       "      <td>0.27700</td>\n",
       "      <td>0.35140</td>\n",
       "      <td>0.15200</td>\n",
       "      <td>...</td>\n",
       "      <td>25.740</td>\n",
       "      <td>39.42</td>\n",
       "      <td>184.60</td>\n",
       "      <td>1821.0</td>\n",
       "      <td>0.16500</td>\n",
       "      <td>0.86810</td>\n",
       "      <td>0.9387</td>\n",
       "      <td>0.2650</td>\n",
       "      <td>0.4087</td>\n",
       "      <td>0.12400</td>\n",
       "    </tr>\n",
       "    <tr>\n",
       "      <th>568</th>\n",
       "      <td>92751</td>\n",
       "      <td>B</td>\n",
       "      <td>7.76</td>\n",
       "      <td>24.54</td>\n",
       "      <td>47.92</td>\n",
       "      <td>181.0</td>\n",
       "      <td>0.05263</td>\n",
       "      <td>0.04362</td>\n",
       "      <td>0.00000</td>\n",
       "      <td>0.00000</td>\n",
       "      <td>...</td>\n",
       "      <td>9.456</td>\n",
       "      <td>30.37</td>\n",
       "      <td>59.16</td>\n",
       "      <td>268.6</td>\n",
       "      <td>0.08996</td>\n",
       "      <td>0.06444</td>\n",
       "      <td>0.0000</td>\n",
       "      <td>0.0000</td>\n",
       "      <td>0.2871</td>\n",
       "      <td>0.07039</td>\n",
       "    </tr>\n",
       "  </tbody>\n",
       "</table>\n",
       "<p>569 rows × 32 columns</p>\n",
       "</div>"
      ],
      "text/plain": [
       "           0  1      2      3       4       5        6        7        8   \\\n",
       "0      842302  M  17.99  10.38  122.80  1001.0  0.11840  0.27760  0.30010   \n",
       "1      842517  M  20.57  17.77  132.90  1326.0  0.08474  0.07864  0.08690   \n",
       "2    84300903  M  19.69  21.25  130.00  1203.0  0.10960  0.15990  0.19740   \n",
       "3    84348301  M  11.42  20.38   77.58   386.1  0.14250  0.28390  0.24140   \n",
       "4    84358402  M  20.29  14.34  135.10  1297.0  0.10030  0.13280  0.19800   \n",
       "..        ... ..    ...    ...     ...     ...      ...      ...      ...   \n",
       "564    926424  M  21.56  22.39  142.00  1479.0  0.11100  0.11590  0.24390   \n",
       "565    926682  M  20.13  28.25  131.20  1261.0  0.09780  0.10340  0.14400   \n",
       "566    926954  M  16.60  28.08  108.30   858.1  0.08455  0.10230  0.09251   \n",
       "567    927241  M  20.60  29.33  140.10  1265.0  0.11780  0.27700  0.35140   \n",
       "568     92751  B   7.76  24.54   47.92   181.0  0.05263  0.04362  0.00000   \n",
       "\n",
       "          9   ...      22     23      24      25       26       27      28  \\\n",
       "0    0.14710  ...  25.380  17.33  184.60  2019.0  0.16220  0.66560  0.7119   \n",
       "1    0.07017  ...  24.990  23.41  158.80  1956.0  0.12380  0.18660  0.2416   \n",
       "2    0.12790  ...  23.570  25.53  152.50  1709.0  0.14440  0.42450  0.4504   \n",
       "3    0.10520  ...  14.910  26.50   98.87   567.7  0.20980  0.86630  0.6869   \n",
       "4    0.10430  ...  22.540  16.67  152.20  1575.0  0.13740  0.20500  0.4000   \n",
       "..       ...  ...     ...    ...     ...     ...      ...      ...     ...   \n",
       "564  0.13890  ...  25.450  26.40  166.10  2027.0  0.14100  0.21130  0.4107   \n",
       "565  0.09791  ...  23.690  38.25  155.00  1731.0  0.11660  0.19220  0.3215   \n",
       "566  0.05302  ...  18.980  34.12  126.70  1124.0  0.11390  0.30940  0.3403   \n",
       "567  0.15200  ...  25.740  39.42  184.60  1821.0  0.16500  0.86810  0.9387   \n",
       "568  0.00000  ...   9.456  30.37   59.16   268.6  0.08996  0.06444  0.0000   \n",
       "\n",
       "         29      30       31  \n",
       "0    0.2654  0.4601  0.11890  \n",
       "1    0.1860  0.2750  0.08902  \n",
       "2    0.2430  0.3613  0.08758  \n",
       "3    0.2575  0.6638  0.17300  \n",
       "4    0.1625  0.2364  0.07678  \n",
       "..      ...     ...      ...  \n",
       "564  0.2216  0.2060  0.07115  \n",
       "565  0.1628  0.2572  0.06637  \n",
       "566  0.1418  0.2218  0.07820  \n",
       "567  0.2650  0.4087  0.12400  \n",
       "568  0.0000  0.2871  0.07039  \n",
       "\n",
       "[569 rows x 32 columns]"
      ]
     },
     "execution_count": 2,
     "metadata": {},
     "output_type": "execute_result"
    }
   ],
   "source": [
    "df_raw = pd.read_csv(\"./data/wdbc.csv\", header=None)\n",
    "df_raw\n"
   ]
  },
  {
   "attachments": {},
   "cell_type": "markdown",
   "metadata": {},
   "source": [
    "**Our Input Feature**"
   ]
  },
  {
   "cell_type": "code",
   "execution_count": 3,
   "metadata": {},
   "outputs": [
    {
     "data": {
      "text/plain": [
       "tensor([[0.5210, 0.0227, 0.5460,  ..., 0.9120, 0.5985, 0.4189],\n",
       "        [0.6431, 0.2726, 0.6158,  ..., 0.6392, 0.2336, 0.2229],\n",
       "        [0.6015, 0.3903, 0.5957,  ..., 0.8351, 0.4037, 0.2134],\n",
       "        ...,\n",
       "        [0.4553, 0.6212, 0.4458,  ..., 0.4873, 0.1287, 0.1519],\n",
       "        [0.6446, 0.6635, 0.6655,  ..., 0.9107, 0.4971, 0.4523],\n",
       "        [0.0369, 0.5015, 0.0285,  ..., 0.0000, 0.2574, 0.1007]])"
      ]
     },
     "execution_count": 3,
     "metadata": {},
     "output_type": "execute_result"
    }
   ],
   "source": [
    "x = df_raw.iloc[:, 2:]\n",
    "\n",
    "# Normalizing of x features using Min-Max Normalization\n",
    "x = (x - x.min()) / (x.max() - x.min())\n",
    "\n",
    "x = torch.Tensor(x.values).to(device)\n",
    "\n",
    "x"
   ]
  },
  {
   "attachments": {},
   "cell_type": "markdown",
   "metadata": {},
   "source": [
    "**Autoencoder Class**"
   ]
  },
  {
   "cell_type": "code",
   "execution_count": 4,
   "metadata": {},
   "outputs": [],
   "source": [
    "class Autoencoder(nn.Module):\n",
    "    # Layers is an array of integers representing the encoder architecture\n",
    "    # Example: 30 --> 3 --> 30: layers = [30, 3]\n",
    "    def __init__(self, layers):\n",
    "        super().__init__()\n",
    "        self.in_dim = layers[0]\n",
    "\n",
    "        # Encoder\n",
    "        self.encoder_layers = []\n",
    "\n",
    "        for i in range(len(layers) - 1):\n",
    "            self.encoder_layers.append(nn.Linear(layers[i], layers[i + 1]))\n",
    "            # we append the activation\n",
    "            self.encoder_layers.append(nn.Sigmoid())\n",
    "        # we pass it to a Sequential\n",
    "        self.encoder_sequence = nn.Sequential(*self.encoder_layers)\n",
    "\n",
    "        # Decoder\n",
    "        self.decoder_layers = []\n",
    "\n",
    "        reversed_layers = sorted(\n",
    "            layers\n",
    "        )  # it will sort the values in ascending order ie. [30, 3] -> [3, 30]\n",
    "        for i in range(len(reversed_layers) - 1):\n",
    "            self.decoder_layers.append(\n",
    "                nn.Linear(reversed_layers[i], reversed_layers[i + 1])\n",
    "            )\n",
    "            self.decoder_layers.append(nn.Sigmoid())\n",
    "\n",
    "        self.decoder_sequence = nn.Sequential(*self.decoder_layers)\n",
    "\n",
    "    # we separate the encode and decode function\n",
    "    # this is so when we want to get the hidden_layer (z), we can do so with the weights of the encoder\n",
    "    def encode(self, x):\n",
    "        return self.encoder_sequence(x)\n",
    "\n",
    "    def decode(self, x):\n",
    "        return self.decoder_sequence(x)\n",
    "\n",
    "    def forward(self, x):\n",
    "        x = self.encode(x)\n",
    "        y = self.decode(x)\n",
    "        return y"
   ]
  },
  {
   "cell_type": "code",
   "execution_count": 5,
   "metadata": {},
   "outputs": [
    {
     "name": "stdout",
     "output_type": "stream",
     "text": [
      "Autoencoder(\n",
      "  (encoder_sequence): Sequential(\n",
      "    (0): Linear(in_features=30, out_features=20, bias=True)\n",
      "    (1): Sigmoid()\n",
      "    (2): Linear(in_features=20, out_features=3, bias=True)\n",
      "    (3): Sigmoid()\n",
      "  )\n",
      "  (decoder_sequence): Sequential(\n",
      "    (0): Linear(in_features=3, out_features=20, bias=True)\n",
      "    (1): Sigmoid()\n",
      "    (2): Linear(in_features=20, out_features=30, bias=True)\n",
      "    (3): Sigmoid()\n",
      "  )\n",
      ")\n"
     ]
    }
   ],
   "source": [
    "# A stacked Autoencoder\n",
    "model = Autoencoder([30, 20, 3])\n",
    "\n",
    "print(model)\n"
   ]
  },
  {
   "cell_type": "code",
   "execution_count": 6,
   "metadata": {},
   "outputs": [],
   "source": [
    "# Custom dataset to treat how the model picks an x, y combination from the dataset\n",
    "class AutoencoderDataset(Dataset):\n",
    "    def __init__(self, x):\n",
    "        self.x = x\n",
    "\n",
    "    def __len__(self):\n",
    "        return len(self.x)\n",
    "\n",
    "    # Requires you to return data as a pair of _x, _y\n",
    "    def __getitem__(self, index):\n",
    "        return self.x[index], self.x[index]"
   ]
  },
  {
   "attachments": {},
   "cell_type": "markdown",
   "metadata": {},
   "source": [
    "**Hyperparameters**"
   ]
  },
  {
   "cell_type": "code",
   "execution_count": 7,
   "metadata": {},
   "outputs": [],
   "source": [
    "learning_rate = 3e-4\n",
    "loss_fn = nn.MSELoss()\n",
    "optimizer = optim.Adam(model.parameters(), lr=learning_rate)\n",
    "batch_size = 5\n"
   ]
  },
  {
   "attachments": {},
   "cell_type": "markdown",
   "metadata": {},
   "source": [
    "**Defining the Train Function**"
   ]
  },
  {
   "cell_type": "code",
   "execution_count": 8,
   "metadata": {},
   "outputs": [
    {
     "name": "stdout",
     "output_type": "stream",
     "text": [
      "Epoch: 0\n"
     ]
    },
    {
     "name": "stderr",
     "output_type": "stream",
     "text": [
      "100%|██████████████████████████████████████████████████████████████████████████████████████████████████████████| 114/114 [00:00<00:00, 300.03it/s, loss=0.0618]\n"
     ]
    },
    {
     "name": "stdout",
     "output_type": "stream",
     "text": [
      "Ave Loss: 0.07237727645980685\n",
      "Epoch: 1\n"
     ]
    },
    {
     "name": "stderr",
     "output_type": "stream",
     "text": [
      "100%|██████████████████████████████████████████████████████████████████████████████████████████████████████████| 114/114 [00:00<00:00, 360.37it/s, loss=0.0509]\n"
     ]
    },
    {
     "name": "stdout",
     "output_type": "stream",
     "text": [
      "Ave Loss: 0.04801311205026873\n",
      "Epoch: 2\n"
     ]
    },
    {
     "name": "stderr",
     "output_type": "stream",
     "text": [
      "100%|██████████████████████████████████████████████████████████████████████████████████████████████████████████| 114/114 [00:00<00:00, 343.48it/s, loss=0.0464]\n"
     ]
    },
    {
     "name": "stdout",
     "output_type": "stream",
     "text": [
      "Ave Loss: 0.03457042476848552\n",
      "Epoch: 3\n"
     ]
    },
    {
     "name": "stderr",
     "output_type": "stream",
     "text": [
      "100%|███████████████████████████████████████████████████████████████████████████████████████████████████████████| 114/114 [00:00<00:00, 330.62it/s, loss=0.045]\n"
     ]
    },
    {
     "name": "stdout",
     "output_type": "stream",
     "text": [
      "Ave Loss: 0.027639164540328477\n",
      "Epoch: 4\n"
     ]
    },
    {
     "name": "stderr",
     "output_type": "stream",
     "text": [
      "100%|██████████████████████████████████████████████████████████████████████████████████████████████████████████| 114/114 [00:00<00:00, 327.89it/s, loss=0.0448]\n"
     ]
    },
    {
     "name": "stdout",
     "output_type": "stream",
     "text": [
      "Ave Loss: 0.024240763572028333\n",
      "Epoch: 5\n"
     ]
    },
    {
     "name": "stderr",
     "output_type": "stream",
     "text": [
      "100%|███████████████████████████████████████████████████████████████████████████████████████████████████████████| 114/114 [00:00<00:00, 336.16it/s, loss=0.045]\n"
     ]
    },
    {
     "name": "stdout",
     "output_type": "stream",
     "text": [
      "Ave Loss: 0.02261164041007297\n",
      "Epoch: 6\n"
     ]
    },
    {
     "name": "stderr",
     "output_type": "stream",
     "text": [
      "100%|██████████████████████████████████████████████████████████████████████████████████████████████████████████| 114/114 [00:00<00:00, 324.21it/s, loss=0.0452]\n"
     ]
    },
    {
     "name": "stdout",
     "output_type": "stream",
     "text": [
      "Ave Loss: 0.021816669334249014\n",
      "Epoch: 7\n"
     ]
    },
    {
     "name": "stderr",
     "output_type": "stream",
     "text": [
      "100%|██████████████████████████████████████████████████████████████████████████████████████████████████████████| 114/114 [00:00<00:00, 326.24it/s, loss=0.0454]\n"
     ]
    },
    {
     "name": "stdout",
     "output_type": "stream",
     "text": [
      "Ave Loss: 0.021406481173216252\n",
      "Epoch: 8\n"
     ]
    },
    {
     "name": "stderr",
     "output_type": "stream",
     "text": [
      "100%|██████████████████████████████████████████████████████████████████████████████████████████████████████████| 114/114 [00:00<00:00, 319.68it/s, loss=0.0455]\n"
     ]
    },
    {
     "name": "stdout",
     "output_type": "stream",
     "text": [
      "Ave Loss: 0.021176213872406566\n",
      "Epoch: 9\n"
     ]
    },
    {
     "name": "stderr",
     "output_type": "stream",
     "text": [
      "100%|██████████████████████████████████████████████████████████████████████████████████████████████████████████| 114/114 [00:00<00:00, 320.73it/s, loss=0.0455]\n"
     ]
    },
    {
     "name": "stdout",
     "output_type": "stream",
     "text": [
      "Ave Loss: 0.02103297342954759\n",
      "Epoch: 10\n"
     ]
    },
    {
     "name": "stderr",
     "output_type": "stream",
     "text": [
      "100%|██████████████████████████████████████████████████████████████████████████████████████████████████████████| 114/114 [00:00<00:00, 323.91it/s, loss=0.0455]\n"
     ]
    },
    {
     "name": "stdout",
     "output_type": "stream",
     "text": [
      "Ave Loss: 0.020933784895756265\n",
      "Epoch: 11\n"
     ]
    },
    {
     "name": "stderr",
     "output_type": "stream",
     "text": [
      "100%|██████████████████████████████████████████████████████████████████████████████████████████████████████████| 114/114 [00:00<00:00, 316.67it/s, loss=0.0455]\n"
     ]
    },
    {
     "name": "stdout",
     "output_type": "stream",
     "text": [
      "Ave Loss: 0.02085820103488993\n",
      "Epoch: 12\n"
     ]
    },
    {
     "name": "stderr",
     "output_type": "stream",
     "text": [
      "100%|██████████████████████████████████████████████████████████████████████████████████████████████████████████| 114/114 [00:00<00:00, 401.90it/s, loss=0.0454]\n"
     ]
    },
    {
     "name": "stdout",
     "output_type": "stream",
     "text": [
      "Ave Loss: 0.02079593272177143\n",
      "Epoch: 13\n"
     ]
    },
    {
     "name": "stderr",
     "output_type": "stream",
     "text": [
      "100%|██████████████████████████████████████████████████████████████████████████████████████████████████████████| 114/114 [00:00<00:00, 214.50it/s, loss=0.0453]\n"
     ]
    },
    {
     "name": "stdout",
     "output_type": "stream",
     "text": [
      "Ave Loss: 0.02074104348981851\n",
      "Epoch: 14\n"
     ]
    },
    {
     "name": "stderr",
     "output_type": "stream",
     "text": [
      "100%|██████████████████████████████████████████████████████████████████████████████████████████████████████████| 114/114 [00:00<00:00, 210.58it/s, loss=0.0453]\n"
     ]
    },
    {
     "name": "stdout",
     "output_type": "stream",
     "text": [
      "Ave Loss: 0.020689298043419655\n",
      "Epoch: 15\n"
     ]
    },
    {
     "name": "stderr",
     "output_type": "stream",
     "text": [
      "100%|██████████████████████████████████████████████████████████████████████████████████████████████████████████| 114/114 [00:00<00:00, 210.84it/s, loss=0.0452]\n"
     ]
    },
    {
     "name": "stdout",
     "output_type": "stream",
     "text": [
      "Ave Loss: 0.020637013806487647\n",
      "Epoch: 16\n"
     ]
    },
    {
     "name": "stderr",
     "output_type": "stream",
     "text": [
      "100%|██████████████████████████████████████████████████████████████████████████████████████████████████████████| 114/114 [00:00<00:00, 212.99it/s, loss=0.0451]\n"
     ]
    },
    {
     "name": "stdout",
     "output_type": "stream",
     "text": [
      "Ave Loss: 0.020580804559581896\n",
      "Epoch: 17\n"
     ]
    },
    {
     "name": "stderr",
     "output_type": "stream",
     "text": [
      "100%|██████████████████████████████████████████████████████████████████████████████████████████████████████████| 114/114 [00:00<00:00, 241.08it/s, loss=0.0449]\n"
     ]
    },
    {
     "name": "stdout",
     "output_type": "stream",
     "text": [
      "Ave Loss: 0.020517922435446007\n",
      "Epoch: 18\n"
     ]
    },
    {
     "name": "stderr",
     "output_type": "stream",
     "text": [
      "100%|██████████████████████████████████████████████████████████████████████████████████████████████████████████| 114/114 [00:00<00:00, 222.86it/s, loss=0.0448]\n"
     ]
    },
    {
     "name": "stdout",
     "output_type": "stream",
     "text": [
      "Ave Loss: 0.02044620108382221\n",
      "Epoch: 19\n"
     ]
    },
    {
     "name": "stderr",
     "output_type": "stream",
     "text": [
      "100%|██████████████████████████████████████████████████████████████████████████████████████████████████████████| 114/114 [00:00<00:00, 232.68it/s, loss=0.0446]\n"
     ]
    },
    {
     "name": "stdout",
     "output_type": "stream",
     "text": [
      "Ave Loss: 0.020363341428731616\n",
      "Epoch: 20\n"
     ]
    },
    {
     "name": "stderr",
     "output_type": "stream",
     "text": [
      "100%|██████████████████████████████████████████████████████████████████████████████████████████████████████████| 114/114 [00:00<00:00, 258.64it/s, loss=0.0443]\n"
     ]
    },
    {
     "name": "stdout",
     "output_type": "stream",
     "text": [
      "Ave Loss: 0.020266269223372404\n",
      "Epoch: 21\n"
     ]
    },
    {
     "name": "stderr",
     "output_type": "stream",
     "text": [
      "100%|███████████████████████████████████████████████████████████████████████████████████████████████████████████| 114/114 [00:00<00:00, 251.05it/s, loss=0.044]\n"
     ]
    },
    {
     "name": "stdout",
     "output_type": "stream",
     "text": [
      "Ave Loss: 0.020151497898296566\n",
      "Epoch: 22\n"
     ]
    },
    {
     "name": "stderr",
     "output_type": "stream",
     "text": [
      "100%|██████████████████████████████████████████████████████████████████████████████████████████████████████████| 114/114 [00:00<00:00, 259.65it/s, loss=0.0437]\n"
     ]
    },
    {
     "name": "stdout",
     "output_type": "stream",
     "text": [
      "Ave Loss: 0.020016605259131705\n",
      "Epoch: 23\n"
     ]
    },
    {
     "name": "stderr",
     "output_type": "stream",
     "text": [
      "100%|██████████████████████████████████████████████████████████████████████████████████████████████████████████| 114/114 [00:00<00:00, 263.68it/s, loss=0.0433]\n"
     ]
    },
    {
     "name": "stdout",
     "output_type": "stream",
     "text": [
      "Ave Loss: 0.01986033488636869\n",
      "Epoch: 24\n"
     ]
    },
    {
     "name": "stderr",
     "output_type": "stream",
     "text": [
      "100%|██████████████████████████████████████████████████████████████████████████████████████████████████████████| 114/114 [00:00<00:00, 241.40it/s, loss=0.0429]\n"
     ]
    },
    {
     "name": "stdout",
     "output_type": "stream",
     "text": [
      "Ave Loss: 0.01968167694040427\n",
      "Epoch: 25\n"
     ]
    },
    {
     "name": "stderr",
     "output_type": "stream",
     "text": [
      "100%|██████████████████████████████████████████████████████████████████████████████████████████████████████████| 114/114 [00:00<00:00, 258.22it/s, loss=0.0424]\n"
     ]
    },
    {
     "name": "stdout",
     "output_type": "stream",
     "text": [
      "Ave Loss: 0.019479783742051376\n",
      "Epoch: 26\n"
     ]
    },
    {
     "name": "stderr",
     "output_type": "stream",
     "text": [
      "100%|██████████████████████████████████████████████████████████████████████████████████████████████████████████| 114/114 [00:00<00:00, 261.05it/s, loss=0.0418]\n"
     ]
    },
    {
     "name": "stdout",
     "output_type": "stream",
     "text": [
      "Ave Loss: 0.019254286013739675\n",
      "Epoch: 27\n"
     ]
    },
    {
     "name": "stderr",
     "output_type": "stream",
     "text": [
      "100%|██████████████████████████████████████████████████████████████████████████████████████████████████████████| 114/114 [00:00<00:00, 251.44it/s, loss=0.0412]\n"
     ]
    },
    {
     "name": "stdout",
     "output_type": "stream",
     "text": [
      "Ave Loss: 0.019005491296156196\n",
      "Epoch: 28\n"
     ]
    },
    {
     "name": "stderr",
     "output_type": "stream",
     "text": [
      "100%|██████████████████████████████████████████████████████████████████████████████████████████████████████████| 114/114 [00:00<00:00, 248.13it/s, loss=0.0406]\n"
     ]
    },
    {
     "name": "stdout",
     "output_type": "stream",
     "text": [
      "Ave Loss: 0.018734420261656243\n",
      "Epoch: 29\n"
     ]
    },
    {
     "name": "stderr",
     "output_type": "stream",
     "text": [
      "100%|██████████████████████████████████████████████████████████████████████████████████████████████████████████| 114/114 [00:00<00:00, 234.46it/s, loss=0.0399]\n"
     ]
    },
    {
     "name": "stdout",
     "output_type": "stream",
     "text": [
      "Ave Loss: 0.01844272921433705\n",
      "Epoch: 30\n"
     ]
    },
    {
     "name": "stderr",
     "output_type": "stream",
     "text": [
      "100%|██████████████████████████████████████████████████████████████████████████████████████████████████████████| 114/114 [00:00<00:00, 256.82it/s, loss=0.0392]\n"
     ]
    },
    {
     "name": "stdout",
     "output_type": "stream",
     "text": [
      "Ave Loss: 0.018132561286747978\n",
      "Epoch: 31\n"
     ]
    },
    {
     "name": "stderr",
     "output_type": "stream",
     "text": [
      "100%|██████████████████████████████████████████████████████████████████████████████████████████████████████████| 114/114 [00:00<00:00, 250.15it/s, loss=0.0384]\n"
     ]
    },
    {
     "name": "stdout",
     "output_type": "stream",
     "text": [
      "Ave Loss: 0.017806360869782798\n",
      "Epoch: 32\n"
     ]
    },
    {
     "name": "stderr",
     "output_type": "stream",
     "text": [
      "100%|██████████████████████████████████████████████████████████████████████████████████████████████████████████| 114/114 [00:00<00:00, 242.14it/s, loss=0.0377]\n"
     ]
    },
    {
     "name": "stdout",
     "output_type": "stream",
     "text": [
      "Ave Loss: 0.017466688647114655\n",
      "Epoch: 33\n"
     ]
    },
    {
     "name": "stderr",
     "output_type": "stream",
     "text": [
      "100%|██████████████████████████████████████████████████████████████████████████████████████████████████████████| 114/114 [00:00<00:00, 244.96it/s, loss=0.0369]\n"
     ]
    },
    {
     "name": "stdout",
     "output_type": "stream",
     "text": [
      "Ave Loss: 0.01711607034922692\n",
      "Epoch: 34\n"
     ]
    },
    {
     "name": "stderr",
     "output_type": "stream",
     "text": [
      "100%|███████████████████████████████████████████████████████████████████████████████████████████████████████████| 114/114 [00:00<00:00, 250.49it/s, loss=0.036]\n"
     ]
    },
    {
     "name": "stdout",
     "output_type": "stream",
     "text": [
      "Ave Loss: 0.01675690354354549\n",
      "Epoch: 35\n"
     ]
    },
    {
     "name": "stderr",
     "output_type": "stream",
     "text": [
      "100%|██████████████████████████████████████████████████████████████████████████████████████████████████████████| 114/114 [00:00<00:00, 237.89it/s, loss=0.0352]\n"
     ]
    },
    {
     "name": "stdout",
     "output_type": "stream",
     "text": [
      "Ave Loss: 0.01639144022932701\n",
      "Epoch: 36\n"
     ]
    },
    {
     "name": "stderr",
     "output_type": "stream",
     "text": [
      "100%|██████████████████████████████████████████████████████████████████████████████████████████████████████████| 114/114 [00:00<00:00, 231.67it/s, loss=0.0343]\n"
     ]
    },
    {
     "name": "stdout",
     "output_type": "stream",
     "text": [
      "Ave Loss: 0.01602184133636847\n",
      "Epoch: 37\n"
     ]
    },
    {
     "name": "stderr",
     "output_type": "stream",
     "text": [
      "100%|██████████████████████████████████████████████████████████████████████████████████████████████████████████| 114/114 [00:00<00:00, 220.04it/s, loss=0.0334]\n"
     ]
    },
    {
     "name": "stdout",
     "output_type": "stream",
     "text": [
      "Ave Loss: 0.015650279770948385\n",
      "Epoch: 38\n"
     ]
    },
    {
     "name": "stderr",
     "output_type": "stream",
     "text": [
      "100%|██████████████████████████████████████████████████████████████████████████████████████████████████████████| 114/114 [00:00<00:00, 246.24it/s, loss=0.0325]\n"
     ]
    },
    {
     "name": "stdout",
     "output_type": "stream",
     "text": [
      "Ave Loss: 0.01527906879129117\n",
      "Epoch: 39\n"
     ]
    },
    {
     "name": "stderr",
     "output_type": "stream",
     "text": [
      "100%|██████████████████████████████████████████████████████████████████████████████████████████████████████████| 114/114 [00:00<00:00, 250.57it/s, loss=0.0316]\n"
     ]
    },
    {
     "name": "stdout",
     "output_type": "stream",
     "text": [
      "Ave Loss: 0.01491077147473238\n",
      "Epoch: 40\n"
     ]
    },
    {
     "name": "stderr",
     "output_type": "stream",
     "text": [
      "100%|██████████████████████████████████████████████████████████████████████████████████████████████████████████| 114/114 [00:00<00:00, 248.94it/s, loss=0.0307]\n"
     ]
    },
    {
     "name": "stdout",
     "output_type": "stream",
     "text": [
      "Ave Loss: 0.014548262127822167\n",
      "Epoch: 41\n"
     ]
    },
    {
     "name": "stderr",
     "output_type": "stream",
     "text": [
      "100%|██████████████████████████████████████████████████████████████████████████████████████████████████████████| 114/114 [00:00<00:00, 243.54it/s, loss=0.0298]\n"
     ]
    },
    {
     "name": "stdout",
     "output_type": "stream",
     "text": [
      "Ave Loss: 0.014194708954738943\n",
      "Epoch: 42\n"
     ]
    },
    {
     "name": "stderr",
     "output_type": "stream",
     "text": [
      "100%|██████████████████████████████████████████████████████████████████████████████████████████████████████████| 114/114 [00:00<00:00, 256.59it/s, loss=0.0289]\n"
     ]
    },
    {
     "name": "stdout",
     "output_type": "stream",
     "text": [
      "Ave Loss: 0.01385346895263514\n",
      "Epoch: 43\n"
     ]
    },
    {
     "name": "stderr",
     "output_type": "stream",
     "text": [
      "100%|███████████████████████████████████████████████████████████████████████████████████████████████████████████| 114/114 [00:00<00:00, 270.32it/s, loss=0.028]\n"
     ]
    },
    {
     "name": "stdout",
     "output_type": "stream",
     "text": [
      "Ave Loss: 0.013527909759432077\n",
      "Epoch: 44\n"
     ]
    },
    {
     "name": "stderr",
     "output_type": "stream",
     "text": [
      "100%|██████████████████████████████████████████████████████████████████████████████████████████████████████████| 114/114 [00:00<00:00, 241.31it/s, loss=0.0271]\n"
     ]
    },
    {
     "name": "stdout",
     "output_type": "stream",
     "text": [
      "Ave Loss: 0.013221184919147115\n",
      "Epoch: 45\n"
     ]
    },
    {
     "name": "stderr",
     "output_type": "stream",
     "text": [
      "100%|██████████████████████████████████████████████████████████████████████████████████████████████████████████| 114/114 [00:00<00:00, 235.54it/s, loss=0.0263]\n"
     ]
    },
    {
     "name": "stdout",
     "output_type": "stream",
     "text": [
      "Ave Loss: 0.012935997344341064\n",
      "Epoch: 46\n"
     ]
    },
    {
     "name": "stderr",
     "output_type": "stream",
     "text": [
      "100%|██████████████████████████████████████████████████████████████████████████████████████████████████████████| 114/114 [00:00<00:00, 268.85it/s, loss=0.0255]\n"
     ]
    },
    {
     "name": "stdout",
     "output_type": "stream",
     "text": [
      "Ave Loss: 0.012674398665120335\n",
      "Epoch: 47\n"
     ]
    },
    {
     "name": "stderr",
     "output_type": "stream",
     "text": [
      "100%|██████████████████████████████████████████████████████████████████████████████████████████████████████████| 114/114 [00:00<00:00, 248.24it/s, loss=0.0248]\n"
     ]
    },
    {
     "name": "stdout",
     "output_type": "stream",
     "text": [
      "Ave Loss: 0.01243764392239156\n",
      "Epoch: 48\n"
     ]
    },
    {
     "name": "stderr",
     "output_type": "stream",
     "text": [
      "100%|██████████████████████████████████████████████████████████████████████████████████████████████████████████| 114/114 [00:00<00:00, 272.75it/s, loss=0.0241]\n"
     ]
    },
    {
     "name": "stdout",
     "output_type": "stream",
     "text": [
      "Ave Loss: 0.012226131242258768\n",
      "Epoch: 49\n"
     ]
    },
    {
     "name": "stderr",
     "output_type": "stream",
     "text": [
      "100%|██████████████████████████████████████████████████████████████████████████████████████████████████████████| 114/114 [00:00<00:00, 241.55it/s, loss=0.0235]\n"
     ]
    },
    {
     "name": "stdout",
     "output_type": "stream",
     "text": [
      "Ave Loss: 0.012039424888299484\n",
      "Epoch: 50\n"
     ]
    },
    {
     "name": "stderr",
     "output_type": "stream",
     "text": [
      "100%|██████████████████████████████████████████████████████████████████████████████████████████████████████████| 114/114 [00:00<00:00, 234.66it/s, loss=0.0229]\n"
     ]
    },
    {
     "name": "stdout",
     "output_type": "stream",
     "text": [
      "Ave Loss: 0.01187635387963893\n",
      "Epoch: 51\n"
     ]
    },
    {
     "name": "stderr",
     "output_type": "stream",
     "text": [
      "100%|██████████████████████████████████████████████████████████████████████████████████████████████████████████| 114/114 [00:00<00:00, 256.89it/s, loss=0.0224]\n"
     ]
    },
    {
     "name": "stdout",
     "output_type": "stream",
     "text": [
      "Ave Loss: 0.011735167135811296\n",
      "Epoch: 52\n"
     ]
    },
    {
     "name": "stderr",
     "output_type": "stream",
     "text": [
      "100%|██████████████████████████████████████████████████████████████████████████████████████████████████████████| 114/114 [00:00<00:00, 245.52it/s, loss=0.0219]\n"
     ]
    },
    {
     "name": "stdout",
     "output_type": "stream",
     "text": [
      "Ave Loss: 0.011613717884756625\n",
      "Epoch: 53\n"
     ]
    },
    {
     "name": "stderr",
     "output_type": "stream",
     "text": [
      "100%|██████████████████████████████████████████████████████████████████████████████████████████████████████████| 114/114 [00:00<00:00, 229.02it/s, loss=0.0214]\n"
     ]
    },
    {
     "name": "stdout",
     "output_type": "stream",
     "text": [
      "Ave Loss: 0.011509650352149549\n",
      "Epoch: 54\n"
     ]
    },
    {
     "name": "stderr",
     "output_type": "stream",
     "text": [
      "100%|███████████████████████████████████████████████████████████████████████████████████████████████████████████| 114/114 [00:00<00:00, 257.50it/s, loss=0.021]\n"
     ]
    },
    {
     "name": "stdout",
     "output_type": "stream",
     "text": [
      "Ave Loss: 0.011420569010895857\n",
      "Epoch: 55\n"
     ]
    },
    {
     "name": "stderr",
     "output_type": "stream",
     "text": [
      "100%|██████████████████████████████████████████████████████████████████████████████████████████████████████████| 114/114 [00:00<00:00, 289.97it/s, loss=0.0207]\n"
     ]
    },
    {
     "name": "stdout",
     "output_type": "stream",
     "text": [
      "Ave Loss: 0.01134417225859994\n",
      "Epoch: 56\n"
     ]
    },
    {
     "name": "stderr",
     "output_type": "stream",
     "text": [
      "100%|██████████████████████████████████████████████████████████████████████████████████████████████████████████| 114/114 [00:00<00:00, 250.83it/s, loss=0.0203]\n"
     ]
    },
    {
     "name": "stdout",
     "output_type": "stream",
     "text": [
      "Ave Loss: 0.01127834463279629\n",
      "Epoch: 57\n"
     ]
    },
    {
     "name": "stderr",
     "output_type": "stream",
     "text": [
      "100%|████████████████████████████████████████████████████████████████████████████████████████████████████████████| 114/114 [00:00<00:00, 246.34it/s, loss=0.02]\n"
     ]
    },
    {
     "name": "stdout",
     "output_type": "stream",
     "text": [
      "Ave Loss: 0.01122120858513211\n",
      "Epoch: 58\n"
     ]
    },
    {
     "name": "stderr",
     "output_type": "stream",
     "text": [
      "100%|██████████████████████████████████████████████████████████████████████████████████████████████████████████| 114/114 [00:00<00:00, 244.98it/s, loss=0.0198]\n"
     ]
    },
    {
     "name": "stdout",
     "output_type": "stream",
     "text": [
      "Ave Loss: 0.01117114201923342\n",
      "Epoch: 59\n"
     ]
    },
    {
     "name": "stderr",
     "output_type": "stream",
     "text": [
      "100%|██████████████████████████████████████████████████████████████████████████████████████████████████████████| 114/114 [00:00<00:00, 238.23it/s, loss=0.0195]\n"
     ]
    },
    {
     "name": "stdout",
     "output_type": "stream",
     "text": [
      "Ave Loss: 0.011126770905480442\n",
      "Epoch: 60\n"
     ]
    },
    {
     "name": "stderr",
     "output_type": "stream",
     "text": [
      "100%|██████████████████████████████████████████████████████████████████████████████████████████████████████████| 114/114 [00:00<00:00, 261.72it/s, loss=0.0193]\n"
     ]
    },
    {
     "name": "stdout",
     "output_type": "stream",
     "text": [
      "Ave Loss: 0.011086946739325006\n",
      "Epoch: 61\n"
     ]
    },
    {
     "name": "stderr",
     "output_type": "stream",
     "text": [
      "100%|██████████████████████████████████████████████████████████████████████████████████████████████████████████| 114/114 [00:00<00:00, 253.41it/s, loss=0.0191]\n"
     ]
    },
    {
     "name": "stdout",
     "output_type": "stream",
     "text": [
      "Ave Loss: 0.011050714073670014\n",
      "Epoch: 62\n"
     ]
    },
    {
     "name": "stderr",
     "output_type": "stream",
     "text": [
      "100%|██████████████████████████████████████████████████████████████████████████████████████████████████████████| 114/114 [00:00<00:00, 212.33it/s, loss=0.0189]\n"
     ]
    },
    {
     "name": "stdout",
     "output_type": "stream",
     "text": [
      "Ave Loss: 0.011017276807443091\n",
      "Epoch: 63\n"
     ]
    },
    {
     "name": "stderr",
     "output_type": "stream",
     "text": [
      "100%|██████████████████████████████████████████████████████████████████████████████████████████████████████████| 114/114 [00:00<00:00, 231.87it/s, loss=0.0187]\n"
     ]
    },
    {
     "name": "stdout",
     "output_type": "stream",
     "text": [
      "Ave Loss: 0.010985965327882584\n",
      "Epoch: 64\n"
     ]
    },
    {
     "name": "stderr",
     "output_type": "stream",
     "text": [
      "100%|██████████████████████████████████████████████████████████████████████████████████████████████████████████| 114/114 [00:00<00:00, 227.54it/s, loss=0.0185]\n"
     ]
    },
    {
     "name": "stdout",
     "output_type": "stream",
     "text": [
      "Ave Loss: 0.010956208184851627\n",
      "Epoch: 65\n"
     ]
    },
    {
     "name": "stderr",
     "output_type": "stream",
     "text": [
      "100%|██████████████████████████████████████████████████████████████████████████████████████████████████████████| 114/114 [00:00<00:00, 253.10it/s, loss=0.0184]\n"
     ]
    },
    {
     "name": "stdout",
     "output_type": "stream",
     "text": [
      "Ave Loss: 0.01092750644066224\n",
      "Epoch: 66\n"
     ]
    },
    {
     "name": "stderr",
     "output_type": "stream",
     "text": [
      "100%|██████████████████████████████████████████████████████████████████████████████████████████████████████████| 114/114 [00:00<00:00, 236.89it/s, loss=0.0182]\n"
     ]
    },
    {
     "name": "stdout",
     "output_type": "stream",
     "text": [
      "Ave Loss: 0.010899417894778022\n",
      "Epoch: 67\n"
     ]
    },
    {
     "name": "stderr",
     "output_type": "stream",
     "text": [
      "100%|██████████████████████████████████████████████████████████████████████████████████████████████████████████| 114/114 [00:00<00:00, 246.22it/s, loss=0.0181]\n"
     ]
    },
    {
     "name": "stdout",
     "output_type": "stream",
     "text": [
      "Ave Loss: 0.010871548569156673\n",
      "Epoch: 68\n"
     ]
    },
    {
     "name": "stderr",
     "output_type": "stream",
     "text": [
      "100%|██████████████████████████████████████████████████████████████████████████████████████████████████████████| 114/114 [00:00<00:00, 255.95it/s, loss=0.0179]\n"
     ]
    },
    {
     "name": "stdout",
     "output_type": "stream",
     "text": [
      "Ave Loss: 0.010843554764920682\n",
      "Epoch: 69\n"
     ]
    },
    {
     "name": "stderr",
     "output_type": "stream",
     "text": [
      "100%|██████████████████████████████████████████████████████████████████████████████████████████████████████████| 114/114 [00:00<00:00, 260.66it/s, loss=0.0178]\n"
     ]
    },
    {
     "name": "stdout",
     "output_type": "stream",
     "text": [
      "Ave Loss: 0.010815159552485534\n",
      "Epoch: 70\n"
     ]
    },
    {
     "name": "stderr",
     "output_type": "stream",
     "text": [
      "100%|██████████████████████████████████████████████████████████████████████████████████████████████████████████| 114/114 [00:00<00:00, 238.72it/s, loss=0.0177]\n"
     ]
    },
    {
     "name": "stdout",
     "output_type": "stream",
     "text": [
      "Ave Loss: 0.010786179659414318\n",
      "Epoch: 71\n"
     ]
    },
    {
     "name": "stderr",
     "output_type": "stream",
     "text": [
      "100%|██████████████████████████████████████████████████████████████████████████████████████████████████████████| 114/114 [00:00<00:00, 226.86it/s, loss=0.0175]\n"
     ]
    },
    {
     "name": "stdout",
     "output_type": "stream",
     "text": [
      "Ave Loss: 0.010756560613548285\n",
      "Epoch: 72\n"
     ]
    },
    {
     "name": "stderr",
     "output_type": "stream",
     "text": [
      "100%|██████████████████████████████████████████████████████████████████████████████████████████████████████████| 114/114 [00:00<00:00, 243.15it/s, loss=0.0174]\n"
     ]
    },
    {
     "name": "stdout",
     "output_type": "stream",
     "text": [
      "Ave Loss: 0.01072640594691365\n",
      "Epoch: 73\n"
     ]
    },
    {
     "name": "stderr",
     "output_type": "stream",
     "text": [
      "100%|██████████████████████████████████████████████████████████████████████████████████████████████████████████| 114/114 [00:00<00:00, 258.59it/s, loss=0.0173]\n"
     ]
    },
    {
     "name": "stdout",
     "output_type": "stream",
     "text": [
      "Ave Loss: 0.010695977013950286\n",
      "Epoch: 74\n"
     ]
    },
    {
     "name": "stderr",
     "output_type": "stream",
     "text": [
      "100%|██████████████████████████████████████████████████████████████████████████████████████████████████████████| 114/114 [00:00<00:00, 239.01it/s, loss=0.0172]\n"
     ]
    },
    {
     "name": "stdout",
     "output_type": "stream",
     "text": [
      "Ave Loss: 0.010665650383503944\n",
      "Epoch: 75\n"
     ]
    },
    {
     "name": "stderr",
     "output_type": "stream",
     "text": [
      "100%|███████████████████████████████████████████████████████████████████████████████████████████████████████████| 114/114 [00:00<00:00, 247.07it/s, loss=0.017]\n"
     ]
    },
    {
     "name": "stdout",
     "output_type": "stream",
     "text": [
      "Ave Loss: 0.010635831107369117\n",
      "Epoch: 76\n"
     ]
    },
    {
     "name": "stderr",
     "output_type": "stream",
     "text": [
      "100%|██████████████████████████████████████████████████████████████████████████████████████████████████████████| 114/114 [00:00<00:00, 258.04it/s, loss=0.0169]\n"
     ]
    },
    {
     "name": "stdout",
     "output_type": "stream",
     "text": [
      "Ave Loss: 0.010606857590589738\n",
      "Epoch: 77\n"
     ]
    },
    {
     "name": "stderr",
     "output_type": "stream",
     "text": [
      "100%|██████████████████████████████████████████████████████████████████████████████████████████████████████████| 114/114 [00:00<00:00, 225.29it/s, loss=0.0168]\n"
     ]
    },
    {
     "name": "stdout",
     "output_type": "stream",
     "text": [
      "Ave Loss: 0.010578939997542062\n",
      "Epoch: 78\n"
     ]
    },
    {
     "name": "stderr",
     "output_type": "stream",
     "text": [
      "100%|██████████████████████████████████████████████████████████████████████████████████████████████████████████| 114/114 [00:00<00:00, 253.90it/s, loss=0.0166]\n"
     ]
    },
    {
     "name": "stdout",
     "output_type": "stream",
     "text": [
      "Ave Loss: 0.010552155777093088\n",
      "Epoch: 79\n"
     ]
    },
    {
     "name": "stderr",
     "output_type": "stream",
     "text": [
      "100%|██████████████████████████████████████████████████████████████████████████████████████████████████████████| 114/114 [00:00<00:00, 237.90it/s, loss=0.0165]\n"
     ]
    },
    {
     "name": "stdout",
     "output_type": "stream",
     "text": [
      "Ave Loss: 0.010526485099833002\n",
      "Epoch: 80\n"
     ]
    },
    {
     "name": "stderr",
     "output_type": "stream",
     "text": [
      "100%|██████████████████████████████████████████████████████████████████████████████████████████████████████████| 114/114 [00:00<00:00, 260.61it/s, loss=0.0164]\n"
     ]
    },
    {
     "name": "stdout",
     "output_type": "stream",
     "text": [
      "Ave Loss: 0.010501855124490695\n",
      "Epoch: 81\n"
     ]
    },
    {
     "name": "stderr",
     "output_type": "stream",
     "text": [
      "100%|██████████████████████████████████████████████████████████████████████████████████████████████████████████| 114/114 [00:00<00:00, 238.21it/s, loss=0.0163]\n"
     ]
    },
    {
     "name": "stdout",
     "output_type": "stream",
     "text": [
      "Ave Loss: 0.01047817639508203\n",
      "Epoch: 82\n"
     ]
    },
    {
     "name": "stderr",
     "output_type": "stream",
     "text": [
      "100%|██████████████████████████████████████████████████████████████████████████████████████████████████████████| 114/114 [00:00<00:00, 254.63it/s, loss=0.0161]\n"
     ]
    },
    {
     "name": "stdout",
     "output_type": "stream",
     "text": [
      "Ave Loss: 0.010455359964174005\n",
      "Epoch: 83\n"
     ]
    },
    {
     "name": "stderr",
     "output_type": "stream",
     "text": [
      "100%|███████████████████████████████████████████████████████████████████████████████████████████████████████████| 114/114 [00:00<00:00, 248.30it/s, loss=0.016]\n"
     ]
    },
    {
     "name": "stdout",
     "output_type": "stream",
     "text": [
      "Ave Loss: 0.010433324994601048\n",
      "Epoch: 84\n"
     ]
    },
    {
     "name": "stderr",
     "output_type": "stream",
     "text": [
      "100%|██████████████████████████████████████████████████████████████████████████████████████████████████████████| 114/114 [00:00<00:00, 232.26it/s, loss=0.0159]\n"
     ]
    },
    {
     "name": "stdout",
     "output_type": "stream",
     "text": [
      "Ave Loss: 0.010412000511821947\n",
      "Epoch: 85\n"
     ]
    },
    {
     "name": "stderr",
     "output_type": "stream",
     "text": [
      "100%|██████████████████████████████████████████████████████████████████████████████████████████████████████████| 114/114 [00:00<00:00, 244.02it/s, loss=0.0158]\n"
     ]
    },
    {
     "name": "stdout",
     "output_type": "stream",
     "text": [
      "Ave Loss: 0.01039132723797178\n",
      "Epoch: 86\n"
     ]
    },
    {
     "name": "stderr",
     "output_type": "stream",
     "text": [
      "100%|██████████████████████████████████████████████████████████████████████████████████████████████████████████| 114/114 [00:00<00:00, 257.15it/s, loss=0.0157]\n"
     ]
    },
    {
     "name": "stdout",
     "output_type": "stream",
     "text": [
      "Ave Loss: 0.010371253842063118\n",
      "Epoch: 87\n"
     ]
    },
    {
     "name": "stderr",
     "output_type": "stream",
     "text": [
      "100%|██████████████████████████████████████████████████████████████████████████████████████████████████████████| 114/114 [00:00<00:00, 251.85it/s, loss=0.0156]\n"
     ]
    },
    {
     "name": "stdout",
     "output_type": "stream",
     "text": [
      "Ave Loss: 0.010351738843478654\n",
      "Epoch: 88\n"
     ]
    },
    {
     "name": "stderr",
     "output_type": "stream",
     "text": [
      "100%|██████████████████████████████████████████████████████████████████████████████████████████████████████████| 114/114 [00:00<00:00, 249.67it/s, loss=0.0155]\n"
     ]
    },
    {
     "name": "stdout",
     "output_type": "stream",
     "text": [
      "Ave Loss: 0.010332746706951997\n",
      "Epoch: 89\n"
     ]
    },
    {
     "name": "stderr",
     "output_type": "stream",
     "text": [
      "100%|██████████████████████████████████████████████████████████████████████████████████████████████████████████| 114/114 [00:00<00:00, 249.33it/s, loss=0.0154]\n"
     ]
    },
    {
     "name": "stdout",
     "output_type": "stream",
     "text": [
      "Ave Loss: 0.01031424841851715\n",
      "Epoch: 90\n"
     ]
    },
    {
     "name": "stderr",
     "output_type": "stream",
     "text": [
      "100%|██████████████████████████████████████████████████████████████████████████████████████████████████████████| 114/114 [00:00<00:00, 230.43it/s, loss=0.0153]\n"
     ]
    },
    {
     "name": "stdout",
     "output_type": "stream",
     "text": [
      "Ave Loss: 0.010296220076270401\n",
      "Epoch: 91\n"
     ]
    },
    {
     "name": "stderr",
     "output_type": "stream",
     "text": [
      "100%|██████████████████████████████████████████████████████████████████████████████████████████████████████████| 114/114 [00:00<00:00, 243.46it/s, loss=0.0152]\n"
     ]
    },
    {
     "name": "stdout",
     "output_type": "stream",
     "text": [
      "Ave Loss: 0.01027864116456425\n",
      "Epoch: 92\n"
     ]
    },
    {
     "name": "stderr",
     "output_type": "stream",
     "text": [
      "100%|██████████████████████████████████████████████████████████████████████████████████████████████████████████| 114/114 [00:00<00:00, 224.75it/s, loss=0.0151]\n"
     ]
    },
    {
     "name": "stdout",
     "output_type": "stream",
     "text": [
      "Ave Loss: 0.010261494104685099\n",
      "Epoch: 93\n"
     ]
    },
    {
     "name": "stderr",
     "output_type": "stream",
     "text": [
      "100%|███████████████████████████████████████████████████████████████████████████████████████████████████████████| 114/114 [00:00<00:00, 233.34it/s, loss=0.015]\n"
     ]
    },
    {
     "name": "stdout",
     "output_type": "stream",
     "text": [
      "Ave Loss: 0.010244764095548083\n",
      "Epoch: 94\n"
     ]
    },
    {
     "name": "stderr",
     "output_type": "stream",
     "text": [
      "100%|██████████████████████████████████████████████████████████████████████████████████████████████████████████| 114/114 [00:00<00:00, 253.10it/s, loss=0.0149]\n"
     ]
    },
    {
     "name": "stdout",
     "output_type": "stream",
     "text": [
      "Ave Loss: 0.010228437541069038\n",
      "Epoch: 95\n"
     ]
    },
    {
     "name": "stderr",
     "output_type": "stream",
     "text": [
      "100%|██████████████████████████████████████████████████████████████████████████████████████████████████████████| 114/114 [00:00<00:00, 282.11it/s, loss=0.0149]\n"
     ]
    },
    {
     "name": "stdout",
     "output_type": "stream",
     "text": [
      "Ave Loss: 0.010212503063182036\n",
      "Epoch: 96\n"
     ]
    },
    {
     "name": "stderr",
     "output_type": "stream",
     "text": [
      "100%|██████████████████████████████████████████████████████████████████████████████████████████████████████████| 114/114 [00:00<00:00, 250.92it/s, loss=0.0148]\n"
     ]
    },
    {
     "name": "stdout",
     "output_type": "stream",
     "text": [
      "Ave Loss: 0.01019694925931266\n",
      "Epoch: 97\n"
     ]
    },
    {
     "name": "stderr",
     "output_type": "stream",
     "text": [
      "100%|██████████████████████████████████████████████████████████████████████████████████████████████████████████| 114/114 [00:00<00:00, 264.24it/s, loss=0.0147]\n"
     ]
    },
    {
     "name": "stdout",
     "output_type": "stream",
     "text": [
      "Ave Loss: 0.010181765980904171\n",
      "Epoch: 98\n"
     ]
    },
    {
     "name": "stderr",
     "output_type": "stream",
     "text": [
      "100%|██████████████████████████████████████████████████████████████████████████████████████████████████████████| 114/114 [00:00<00:00, 293.62it/s, loss=0.0146]\n"
     ]
    },
    {
     "name": "stdout",
     "output_type": "stream",
     "text": [
      "Ave Loss: 0.01016694468266347\n",
      "Epoch: 99\n"
     ]
    },
    {
     "name": "stderr",
     "output_type": "stream",
     "text": [
      "100%|██████████████████████████████████████████████████████████████████████████████████████████████████████████| 114/114 [00:00<00:00, 247.66it/s, loss=0.0146]"
     ]
    },
    {
     "name": "stdout",
     "output_type": "stream",
     "text": [
      "Ave Loss: 0.010152475567322159\n"
     ]
    },
    {
     "name": "stderr",
     "output_type": "stream",
     "text": [
      "\n"
     ]
    }
   ],
   "source": [
    "# Define the training process\n",
    "# Each call of the train function == 1 Epoch\n",
    "def train_fn(loader, model, optimizer, loss_fn, batch_size):\n",
    "    loop = tqdm(loader)\n",
    "\n",
    "    count = 0\n",
    "    ave_loss = 0.00\n",
    "\n",
    "    # Loop per batch\n",
    "    for batch_idx, (data, targets) in enumerate(loop):\n",
    "        predictions = model.forward(data)\n",
    "\n",
    "        loss = loss_fn(predictions, targets)\n",
    "\n",
    "        optimizer.zero_grad()\n",
    "\n",
    "        loss.backward()\n",
    "\n",
    "        optimizer.step()\n",
    "\n",
    "        loop.set_postfix(loss=loss.item())\n",
    "\n",
    "        ave_loss += loss.item()\n",
    "        count += 1\n",
    "\n",
    "    ave_loss = ave_loss / count\n",
    "\n",
    "    return ave_loss\n",
    "\n",
    "\n",
    "# use Dataloader for Autoencoder\n",
    "custom_dataset = AutoencoderDataset(x)\n",
    "\n",
    "train_loader = DataLoader(\n",
    "    custom_dataset, batch_size=batch_size, shuffle=False, drop_last=False\n",
    ")\n",
    "\n",
    "epochs = 100\n",
    "losses = []\n",
    "\n",
    "for epoch in range(epochs):\n",
    "    print(\"Epoch: {}\".format(epoch))\n",
    "\n",
    "    ave_loss = train_fn(train_loader, model, optimizer, loss_fn, batch_size)\n",
    "\n",
    "    losses.append(ave_loss)\n",
    "\n",
    "    print(\"Ave Loss: {}\".format(ave_loss))\n",
    "\n",
    "    state = {\"state_dict\": model.state_dict()}\n",
    "\n",
    "    torch.save(state, \"./models/autoencoder.pth\")"
   ]
  },
  {
   "cell_type": "code",
   "execution_count": 9,
   "metadata": {},
   "outputs": [
    {
     "data": {
      "image/png": "[encoded data removed]",
      "text/plain": [
       "<Figure size 640x480 with 1 Axes>"
      ]
     },
     "metadata": {},
     "output_type": "display_data"
    }
   ],
   "source": [
    "plt.plot(losses, label=\"loss\", color=\"red\")\n",
    "plt.title(\"Training Evaluation\", fontsize=14)\n",
    "plt.xlabel(\"Epoch\", fontsize=14)\n",
    "plt.ylabel(\"Error Value\", fontsize=14)\n",
    "plt.grid(True)\n",
    "plt.legend()\n",
    "plt.show()"
   ]
  },
  {
   "cell_type": "code",
   "execution_count": 10,
   "metadata": {},
   "outputs": [
    {
     "data": {
      "text/html": [
       "<div>\n",
       "<style scoped>\n",
       "    .dataframe tbody tr th:only-of-type {\n",
       "        vertical-align: middle;\n",
       "    }\n",
       "\n",
       "    .dataframe tbody tr th {\n",
       "        vertical-align: top;\n",
       "    }\n",
       "\n",
       "    .dataframe thead th {\n",
       "        text-align: right;\n",
       "    }\n",
       "</style>\n",
       "<table border=\"1\" class=\"dataframe\">\n",
       "  <thead>\n",
       "    <tr style=\"text-align: right;\">\n",
       "      <th></th>\n",
       "      <th>0</th>\n",
       "      <th>1</th>\n",
       "      <th>2</th>\n",
       "    </tr>\n",
       "  </thead>\n",
       "  <tbody>\n",
       "    <tr>\n",
       "      <th>0</th>\n",
       "      <td>0.155966</td>\n",
       "      <td>0.817376</td>\n",
       "      <td>0.024225</td>\n",
       "    </tr>\n",
       "    <tr>\n",
       "      <th>1</th>\n",
       "      <td>0.529485</td>\n",
       "      <td>0.420368</td>\n",
       "      <td>0.075950</td>\n",
       "    </tr>\n",
       "    <tr>\n",
       "      <th>2</th>\n",
       "      <td>0.260353</td>\n",
       "      <td>0.694538</td>\n",
       "      <td>0.035074</td>\n",
       "    </tr>\n",
       "    <tr>\n",
       "      <th>3</th>\n",
       "      <td>0.305718</td>\n",
       "      <td>0.597810</td>\n",
       "      <td>0.036283</td>\n",
       "    </tr>\n",
       "    <tr>\n",
       "      <th>4</th>\n",
       "      <td>0.377966</td>\n",
       "      <td>0.570235</td>\n",
       "      <td>0.050337</td>\n",
       "    </tr>\n",
       "    <tr>\n",
       "      <th>...</th>\n",
       "      <td>...</td>\n",
       "      <td>...</td>\n",
       "      <td>...</td>\n",
       "    </tr>\n",
       "    <tr>\n",
       "      <th>564</th>\n",
       "      <td>0.229597</td>\n",
       "      <td>0.735212</td>\n",
       "      <td>0.032560</td>\n",
       "    </tr>\n",
       "    <tr>\n",
       "      <th>565</th>\n",
       "      <td>0.414843</td>\n",
       "      <td>0.517079</td>\n",
       "      <td>0.055276</td>\n",
       "    </tr>\n",
       "    <tr>\n",
       "      <th>566</th>\n",
       "      <td>0.644860</td>\n",
       "      <td>0.284004</td>\n",
       "      <td>0.103611</td>\n",
       "    </tr>\n",
       "    <tr>\n",
       "      <th>567</th>\n",
       "      <td>0.142218</td>\n",
       "      <td>0.830034</td>\n",
       "      <td>0.022675</td>\n",
       "    </tr>\n",
       "    <tr>\n",
       "      <th>568</th>\n",
       "      <td>0.994558</td>\n",
       "      <td>0.003724</td>\n",
       "      <td>0.891648</td>\n",
       "    </tr>\n",
       "  </tbody>\n",
       "</table>\n",
       "<p>569 rows × 3 columns</p>\n",
       "</div>"
      ],
      "text/plain": [
       "            0         1         2\n",
       "0    0.155966  0.817376  0.024225\n",
       "1    0.529485  0.420368  0.075950\n",
       "2    0.260353  0.694538  0.035074\n",
       "3    0.305718  0.597810  0.036283\n",
       "4    0.377966  0.570235  0.050337\n",
       "..        ...       ...       ...\n",
       "564  0.229597  0.735212  0.032560\n",
       "565  0.414843  0.517079  0.055276\n",
       "566  0.644860  0.284004  0.103611\n",
       "567  0.142218  0.830034  0.022675\n",
       "568  0.994558  0.003724  0.891648\n",
       "\n",
       "[569 rows x 3 columns]"
      ]
     },
     "execution_count": 10,
     "metadata": {},
     "output_type": "execute_result"
    }
   ],
   "source": [
    "compressed_data = model.encode(x)\n",
    "\n",
    "df_compressed_data = pd.DataFrame(compressed_data.detach().cpu().numpy())\n",
    "\n",
    "df_compressed_data\n"
   ]
  },
  {
   "attachments": {},
   "cell_type": "markdown",
   "metadata": {},
   "source": [
    "**compressed_data** is now the condensed representation of our input.\n",
    "\n",
    "We can now use it to make a new dataframe with **compressed_data** as input and the same `y` as our target. This may or may not improve our original model trained on the original input dimensions. It depends on how we setup the Autoencoder Network.\n",
    "\n",
    "This new model may result to a similar performance with a model trained with the original number of features. However, the advantage of using the compressed version is that it is more computational and time efficient as our training will be much faster."
   ]
  },
  {
   "attachments": {},
   "cell_type": "markdown",
   "metadata": {},
   "source": [
    "**New DataFrame**"
   ]
  },
  {
   "cell_type": "code",
   "execution_count": 11,
   "metadata": {},
   "outputs": [
    {
     "data": {
      "text/plain": [
       "array(['M', 'M', 'M', 'M', 'M', 'M', 'M', 'M', 'M', 'M', 'M', 'M', 'M',\n",
       "       'M', 'M', 'M', 'M', 'M', 'M', 'B', 'B', 'B', 'M', 'M', 'M', 'M',\n",
       "       'M', 'M', 'M', 'M', 'M', 'M', 'M', 'M', 'M', 'M', 'M', 'B', 'M',\n",
       "       'M', 'M', 'M', 'M', 'M', 'M', 'M', 'B', 'M', 'B', 'B', 'B', 'B',\n",
       "       'B', 'M', 'M', 'B', 'M', 'M', 'B', 'B', 'B', 'B', 'M', 'B', 'M',\n",
       "       'M', 'B', 'B', 'B', 'B', 'M', 'B', 'M', 'M', 'B', 'M', 'B', 'M',\n",
       "       'M', 'B', 'B', 'B', 'M', 'M', 'B', 'M', 'M', 'M', 'B', 'B', 'B',\n",
       "       'M', 'B', 'B', 'M', 'M', 'B', 'B', 'B', 'M', 'M', 'B', 'B', 'B',\n",
       "       'B', 'M', 'B', 'B', 'M', 'B', 'B', 'B', 'B', 'B', 'B', 'B', 'B',\n",
       "       'M', 'M', 'M', 'B', 'M', 'M', 'B', 'B', 'B', 'M', 'M', 'B', 'M',\n",
       "       'B', 'M', 'M', 'B', 'M', 'M', 'B', 'B', 'M', 'B', 'B', 'M', 'B',\n",
       "       'B', 'B', 'B', 'M', 'B', 'B', 'B', 'B', 'B', 'B', 'B', 'B', 'B',\n",
       "       'M', 'B', 'B', 'B', 'B', 'M', 'M', 'B', 'M', 'B', 'B', 'M', 'M',\n",
       "       'B', 'B', 'M', 'M', 'B', 'B', 'B', 'B', 'M', 'B', 'B', 'M', 'M',\n",
       "       'M', 'B', 'M', 'B', 'M', 'B', 'B', 'B', 'M', 'B', 'B', 'M', 'M',\n",
       "       'B', 'M', 'M', 'M', 'M', 'B', 'M', 'M', 'M', 'B', 'M', 'B', 'M',\n",
       "       'B', 'B', 'M', 'B', 'M', 'M', 'M', 'M', 'B', 'B', 'M', 'M', 'B',\n",
       "       'B', 'B', 'M', 'B', 'B', 'B', 'B', 'B', 'M', 'M', 'B', 'B', 'M',\n",
       "       'B', 'B', 'M', 'M', 'B', 'M', 'B', 'B', 'B', 'B', 'M', 'B', 'B',\n",
       "       'B', 'B', 'B', 'M', 'B', 'M', 'M', 'M', 'M', 'M', 'M', 'M', 'M',\n",
       "       'M', 'M', 'M', 'M', 'M', 'M', 'B', 'B', 'B', 'B', 'B', 'B', 'M',\n",
       "       'B', 'M', 'B', 'B', 'M', 'B', 'B', 'M', 'B', 'M', 'M', 'B', 'B',\n",
       "       'B', 'B', 'B', 'B', 'B', 'B', 'B', 'B', 'B', 'B', 'B', 'M', 'B',\n",
       "       'B', 'M', 'B', 'M', 'B', 'B', 'B', 'B', 'B', 'B', 'B', 'B', 'B',\n",
       "       'B', 'B', 'B', 'B', 'B', 'M', 'B', 'B', 'B', 'M', 'B', 'M', 'B',\n",
       "       'B', 'B', 'B', 'M', 'M', 'M', 'B', 'B', 'B', 'B', 'M', 'B', 'M',\n",
       "       'B', 'M', 'B', 'B', 'B', 'M', 'B', 'B', 'B', 'B', 'B', 'B', 'B',\n",
       "       'M', 'M', 'M', 'B', 'B', 'B', 'B', 'B', 'B', 'B', 'B', 'B', 'B',\n",
       "       'B', 'M', 'M', 'B', 'M', 'M', 'M', 'B', 'M', 'M', 'B', 'B', 'B',\n",
       "       'B', 'B', 'M', 'B', 'B', 'B', 'B', 'B', 'M', 'B', 'B', 'B', 'M',\n",
       "       'B', 'B', 'M', 'M', 'B', 'B', 'B', 'B', 'B', 'B', 'M', 'B', 'B',\n",
       "       'B', 'B', 'B', 'B', 'B', 'M', 'B', 'B', 'B', 'B', 'B', 'M', 'B',\n",
       "       'B', 'M', 'B', 'B', 'B', 'B', 'B', 'B', 'B', 'B', 'B', 'B', 'B',\n",
       "       'B', 'M', 'B', 'M', 'M', 'B', 'M', 'B', 'B', 'B', 'B', 'B', 'M',\n",
       "       'B', 'B', 'M', 'B', 'M', 'B', 'B', 'M', 'B', 'M', 'B', 'B', 'B',\n",
       "       'B', 'B', 'B', 'B', 'B', 'M', 'M', 'B', 'B', 'B', 'B', 'B', 'B',\n",
       "       'M', 'B', 'B', 'B', 'B', 'B', 'B', 'B', 'B', 'B', 'B', 'M', 'B',\n",
       "       'B', 'B', 'B', 'B', 'B', 'B', 'M', 'B', 'M', 'B', 'B', 'M', 'B',\n",
       "       'B', 'B', 'B', 'B', 'M', 'M', 'B', 'M', 'B', 'M', 'B', 'B', 'B',\n",
       "       'B', 'B', 'M', 'B', 'B', 'M', 'B', 'M', 'B', 'M', 'M', 'B', 'B',\n",
       "       'B', 'M', 'B', 'B', 'B', 'B', 'B', 'B', 'B', 'B', 'B', 'B', 'B',\n",
       "       'M', 'B', 'M', 'M', 'B', 'B', 'B', 'B', 'B', 'B', 'B', 'B', 'B',\n",
       "       'B', 'B', 'B', 'B', 'B', 'B', 'B', 'B', 'B', 'B', 'B', 'B', 'B',\n",
       "       'B', 'B', 'B', 'M', 'M', 'M', 'M', 'M', 'M', 'B'], dtype=object)"
      ]
     },
     "execution_count": 11,
     "metadata": {},
     "output_type": "execute_result"
    }
   ],
   "source": [
    "y = df_raw.iloc[:, 1].values\n",
    "y"
   ]
  },
  {
   "cell_type": "code",
   "execution_count": 12,
   "metadata": {},
   "outputs": [
    {
     "data": {
      "text/html": [
       "<div>\n",
       "<style scoped>\n",
       "    .dataframe tbody tr th:only-of-type {\n",
       "        vertical-align: middle;\n",
       "    }\n",
       "\n",
       "    .dataframe tbody tr th {\n",
       "        vertical-align: top;\n",
       "    }\n",
       "\n",
       "    .dataframe thead th {\n",
       "        text-align: right;\n",
       "    }\n",
       "</style>\n",
       "<table border=\"1\" class=\"dataframe\">\n",
       "  <thead>\n",
       "    <tr style=\"text-align: right;\">\n",
       "      <th></th>\n",
       "      <th>0</th>\n",
       "      <th>1</th>\n",
       "      <th>2</th>\n",
       "      <th>3</th>\n",
       "    </tr>\n",
       "  </thead>\n",
       "  <tbody>\n",
       "    <tr>\n",
       "      <th>0</th>\n",
       "      <td>0.155966</td>\n",
       "      <td>0.817376</td>\n",
       "      <td>0.024225</td>\n",
       "      <td>M</td>\n",
       "    </tr>\n",
       "    <tr>\n",
       "      <th>1</th>\n",
       "      <td>0.529485</td>\n",
       "      <td>0.420368</td>\n",
       "      <td>0.075950</td>\n",
       "      <td>M</td>\n",
       "    </tr>\n",
       "    <tr>\n",
       "      <th>2</th>\n",
       "      <td>0.260353</td>\n",
       "      <td>0.694538</td>\n",
       "      <td>0.035074</td>\n",
       "      <td>M</td>\n",
       "    </tr>\n",
       "    <tr>\n",
       "      <th>3</th>\n",
       "      <td>0.305718</td>\n",
       "      <td>0.597810</td>\n",
       "      <td>0.036283</td>\n",
       "      <td>M</td>\n",
       "    </tr>\n",
       "    <tr>\n",
       "      <th>4</th>\n",
       "      <td>0.377966</td>\n",
       "      <td>0.570235</td>\n",
       "      <td>0.050337</td>\n",
       "      <td>M</td>\n",
       "    </tr>\n",
       "    <tr>\n",
       "      <th>...</th>\n",
       "      <td>...</td>\n",
       "      <td>...</td>\n",
       "      <td>...</td>\n",
       "      <td>...</td>\n",
       "    </tr>\n",
       "    <tr>\n",
       "      <th>564</th>\n",
       "      <td>0.229597</td>\n",
       "      <td>0.735212</td>\n",
       "      <td>0.032560</td>\n",
       "      <td>M</td>\n",
       "    </tr>\n",
       "    <tr>\n",
       "      <th>565</th>\n",
       "      <td>0.414843</td>\n",
       "      <td>0.517079</td>\n",
       "      <td>0.055276</td>\n",
       "      <td>M</td>\n",
       "    </tr>\n",
       "    <tr>\n",
       "      <th>566</th>\n",
       "      <td>0.644860</td>\n",
       "      <td>0.284004</td>\n",
       "      <td>0.103611</td>\n",
       "      <td>M</td>\n",
       "    </tr>\n",
       "    <tr>\n",
       "      <th>567</th>\n",
       "      <td>0.142218</td>\n",
       "      <td>0.830034</td>\n",
       "      <td>0.022675</td>\n",
       "      <td>M</td>\n",
       "    </tr>\n",
       "    <tr>\n",
       "      <th>568</th>\n",
       "      <td>0.994558</td>\n",
       "      <td>0.003724</td>\n",
       "      <td>0.891648</td>\n",
       "      <td>B</td>\n",
       "    </tr>\n",
       "  </tbody>\n",
       "</table>\n",
       "<p>569 rows × 4 columns</p>\n",
       "</div>"
      ],
      "text/plain": [
       "            0         1         2  3\n",
       "0    0.155966  0.817376  0.024225  M\n",
       "1    0.529485  0.420368  0.075950  M\n",
       "2    0.260353  0.694538  0.035074  M\n",
       "3    0.305718  0.597810  0.036283  M\n",
       "4    0.377966  0.570235  0.050337  M\n",
       "..        ...       ...       ... ..\n",
       "564  0.229597  0.735212  0.032560  M\n",
       "565  0.414843  0.517079  0.055276  M\n",
       "566  0.644860  0.284004  0.103611  M\n",
       "567  0.142218  0.830034  0.022675  M\n",
       "568  0.994558  0.003724  0.891648  B\n",
       "\n",
       "[569 rows x 4 columns]"
      ]
     },
     "execution_count": 12,
     "metadata": {},
     "output_type": "execute_result"
    }
   ],
   "source": [
    "new_df = pd.concat([df_compressed_data, pd.DataFrame(y)], axis=1)\n",
    "new_df.columns = [0, 1, 2, 3]\n",
    "new_df"
   ]
  },
  {
   "attachments": {},
   "cell_type": "markdown",
   "metadata": {},
   "source": [
    "#### **Data Generation with Variational Autoencoders**"
   ]
  },
  {
   "attachments": {},
   "cell_type": "markdown",
   "metadata": {},
   "source": [
    "#### **A. Images**\n",
    "\n",
    "We will use the OpenCV library for our images, although we will only make use of the pixels as a way of describing our images."
   ]
  },
  {
   "cell_type": "code",
   "execution_count": 13,
   "metadata": {},
   "outputs": [],
   "source": [
    "import cv2\n",
    "import numpy as np\n",
    "import matplotlib.pyplot as plt\n"
   ]
  },
  {
   "cell_type": "code",
   "execution_count": 14,
   "metadata": {},
   "outputs": [
    {
     "name": "stdout",
     "output_type": "stream",
     "text": [
      "(254, 200)\n",
      "[[1. 1. 1. ... 1. 1. 1.]\n",
      " [1. 1. 1. ... 1. 1. 1.]\n",
      " [1. 1. 1. ... 1. 1. 1.]\n",
      " ...\n",
      " [1. 1. 1. ... 1. 1. 1.]\n",
      " [1. 1. 1. ... 1. 1. 1.]\n",
      " [1. 1. 1. ... 1. 1. 1.]]\n"
     ]
    }
   ],
   "source": [
    "image_file = \"./data/labrador/labrador1.jpg\"\n",
    "\n",
    "# We will read the image_file using the imread function\n",
    "# We add 0 to the argument to make our array of pixels 2-dimensional\n",
    "# We divide our array by 255 to scale our values from 0 to 1\n",
    "img = cv2.imread(image_file, 0) / 255\n",
    "print(img.shape)\n",
    "print(img)\n"
   ]
  },
  {
   "cell_type": "code",
   "execution_count": 15,
   "metadata": {},
   "outputs": [
    {
     "data": {
      "text/plain": [
       "<matplotlib.image.AxesImage at 0x29379732e20>"
      ]
     },
     "execution_count": 15,
     "metadata": {},
     "output_type": "execute_result"
    },
    {
     "data": {
      "image/png": "[encoded data removed]",
      "text/plain": [
       "<Figure size 640x480 with 1 Axes>"
      ]
     },
     "metadata": {},
     "output_type": "display_data"
    }
   ],
   "source": [
    "# We can show our image using plt.imshow()\n",
    "plt.imshow(img)\n"
   ]
  },
  {
   "cell_type": "code",
   "execution_count": 16,
   "metadata": {},
   "outputs": [
    {
     "data": {
      "text/plain": [
       "<matplotlib.image.AxesImage at 0x29379778b80>"
      ]
     },
     "execution_count": 16,
     "metadata": {},
     "output_type": "execute_result"
    },
    {
     "data": {
      "image/png": "[encoded data removed]",
      "text/plain": [
       "<Figure size 640x480 with 1 Axes>"
      ]
     },
     "metadata": {},
     "output_type": "display_data"
    }
   ],
   "source": [
    "# We standardize the size of our image/ images by resizing it\n",
    "# before we pass it to a neural network\n",
    "\n",
    "# Resize image\n",
    "img_width = 28\n",
    "img_height = 28\n",
    "\n",
    "dim = (img_width, img_height)\n",
    "\n",
    "# We use cv2.resize\n",
    "img = cv2.resize(img, dim)\n",
    "\n",
    "plt.imshow(img)\n"
   ]
  },
  {
   "attachments": {},
   "cell_type": "markdown",
   "metadata": {},
   "source": [
    "Our image size is now 28x28 pixels. Although we can pass it directly to a neural network, we will just pass the flattened version or a 1-dimensional vector of the pixel values."
   ]
  },
  {
   "cell_type": "code",
   "execution_count": 17,
   "metadata": {},
   "outputs": [
    {
     "data": {
      "text/plain": [
       "(784,)"
      ]
     },
     "execution_count": 17,
     "metadata": {},
     "output_type": "execute_result"
    }
   ],
   "source": [
    "# We use .ravel() function of an array\n",
    "img = img.ravel()\n",
    "img.shape\n"
   ]
  },
  {
   "attachments": {},
   "cell_type": "markdown",
   "metadata": {},
   "source": [
    "We will try to generate more picture of dogs using a variation of the Undercomplete Autoencoder called the **Variational Autoencoder**."
   ]
  },
  {
   "attachments": {},
   "cell_type": "markdown",
   "metadata": {},
   "source": [
    "#### **Variational Autoencoder**\n",
    "\n",
    "For our original encoder - decoder architecture, we try to compress the input into a latent space (z), and from there we will try to reconstruct our input with some amount of error.\n",
    "\n",
    "In a Variational Encoder, we don't only try to compress our original input into a smaller dimension latent space, but we also want to learn the probability distribution properties - **the mean** and **the variance** - of our original input, so that we can sample from it in the decoder part.\n",
    "\n",
    "<img src ='./pictures/variational-autoencoder-structure.png' width=1000, height=500>"
   ]
  },
  {
   "attachments": {},
   "cell_type": "markdown",
   "metadata": {},
   "source": [
    "<img src=\"./pictures/rep1.png\" width=\"1000\" height=\"400\">"
   ]
  },
  {
   "attachments": {},
   "cell_type": "markdown",
   "metadata": {},
   "source": [
    "#### **The Reparameterization Trick**\n",
    "\n",
    "**Problem**\n",
    "\n",
    "Backpropagation will not compute an estimate of the derivative through a **random** node.\n",
    "\n",
    "**Solution**\n",
    "\n",
    "<img src='./pictures/reparameterization_trick_img.png' width=800, height=400>"
   ]
  },
  {
   "attachments": {},
   "cell_type": "markdown",
   "metadata": {},
   "source": [
    "<img src='./pictures/rep2.png' width=800, height=400>"
   ]
  },
  {
   "attachments": {},
   "cell_type": "markdown",
   "metadata": {},
   "source": [
    "\n",
    "<img src='./pictures/repx.png' width=800, height=400>"
   ]
  },
  {
   "cell_type": "code",
   "execution_count": 18,
   "metadata": {},
   "outputs": [],
   "source": [
    "import numpy as np\n",
    "import matplotlib.pyplot as plt\n",
    "import torch.optim as optim\n",
    "from tqdm.notebook import tqdm\n",
    "import torch\n",
    "import torch.nn as nn\n",
    "from torch.utils.data import Dataset, DataLoader\n",
    "import cv2  # pip install opencv-python"
   ]
  },
  {
   "cell_type": "code",
   "execution_count": 19,
   "metadata": {},
   "outputs": [],
   "source": [
    "# Source: https://debuggercafe.com/getting-started-with-variational-autoencoder-using-pytorch/\n",
    "class VariationalAutoencoder(nn.Module):\n",
    "    def __init__(self, input_dim=784, num_features=8):\n",
    "        super().__init__()\n",
    "\n",
    "        self.num_features = num_features\n",
    "        self.input_dim = input_dim\n",
    "\n",
    "        self.encoder_layer_1 = nn.Linear(in_features=self.input_dim, out_features=200)\n",
    "        self.encoder_layer_2 = nn.Linear(\n",
    "            in_features=200, out_features=(self.num_features * 2)\n",
    "        )\n",
    "\n",
    "        self.decoder_layer_1 = nn.Linear(\n",
    "            in_features=self.num_features, out_features=200\n",
    "        )\n",
    "        self.decoder_layer_2 = nn.Linear(in_features=200, out_features=self.input_dim)\n",
    "\n",
    "        self.relu = nn.ReLU()  # hidden layers\n",
    "        self.sigmoid = nn.Sigmoid()  # output layer\n",
    "\n",
    "    def reparameterize(self, mu, log_var):\n",
    "        \"\"\"\n",
    "        :param mu: mean from the encoder's latent space\n",
    "        :param log_var: log variance from the encoder's latent space\n",
    "        \"\"\"\n",
    "        std = torch.exp(0.5 * log_var)  # standard deviation\n",
    "        # eps can be thought of as noise, and it will be random according to the learned standard deviation (square root of variance)\n",
    "        eps = torch.randn_like(std)  # `randn_like` as we need the same size\n",
    "        # it will return a tensor of the same size as the input std that is filled with random numbers from a normal distribution of mean 0 and variance = 1\n",
    "        sample = mu + (\n",
    "            eps * std\n",
    "        )  # sampling as if coming from the input space, because we sample using the mean and std we have learned\n",
    "\n",
    "        return sample\n",
    "\n",
    "    def encode(self, x):\n",
    "        # encoding\n",
    "        # x = F.relu(self.encoder_layer_1(x))\n",
    "        x = self.encoder_layer_1(x)\n",
    "        x = self.relu(x)\n",
    "        # .view is similar as .reshape\n",
    "        # -1 is always the first parameter because it will compute for us in this case\n",
    "        # the second parameter we need to define it. In this case we want it to be 2 (1 for mean 1 for variance), so its value is 2\n",
    "        # the third parameter determines how many neurons each for each mean and variance group\n",
    "        x = self.encoder_layer_2(x).view(-1, 2, self.num_features)\n",
    "\n",
    "        # get `mu` and `log_var`\n",
    "        mu = x[:, 0, :]  # the first feature values as mean\n",
    "        log_var = x[:, 1, :]  # the other feature values as variance\n",
    "\n",
    "        # get the latent vector through reparameterization\n",
    "        z = self.reparameterize(mu, log_var)\n",
    "\n",
    "        return z, mu, log_var\n",
    "\n",
    "    def decode(self, z, mu, log_var):\n",
    "        x = self.decoder_layer_1(z)\n",
    "        x = self.relu(x)\n",
    "        reconstruction = self.decoder_layer_2(x)\n",
    "        # we now use sigmoid for our output layer, because we want to compare it to our input (which values are between 0 to 1) using the loss function\n",
    "        reconstruction = self.sigmoid(reconstruction)\n",
    "\n",
    "        # we are not returning just the reconstruction\n",
    "        # we are also returning the information about the distribution represented by the input\n",
    "        return reconstruction, mu, log_var\n",
    "\n",
    "    # Utility function to generate new data based on:\n",
    "    # mu: The average that you want to have (should be the same size as num_features)\n",
    "    # log_var: The variance that you want to have (should be the same size as num_features)\n",
    "    def sample(self, mu, log_var):\n",
    "        z = self.reparameterize(mu, log_var)\n",
    "        reconstruction, mu, log_var = self.decode(z, mu, log_var)\n",
    "\n",
    "        return reconstruction\n",
    "\n",
    "    def forward(self, x):\n",
    "        z, mu, log_var = self.encode(x)\n",
    "        reconstruction, mu, log_var = self.decode(z, mu, log_var)\n",
    "\n",
    "        return reconstruction, mu, log_var"
   ]
  },
  {
   "attachments": {},
   "cell_type": "markdown",
   "metadata": {},
   "source": [
    "**Variational Autoencoder Dataset**"
   ]
  },
  {
   "cell_type": "code",
   "execution_count": 20,
   "metadata": {},
   "outputs": [],
   "source": [
    "# Custom dataset to treat how the model picks an x, y combination from the dataset\n",
    "class VariationalAutoencoderDataset(Dataset):\n",
    "    def __init__(self, x):\n",
    "        self.x = x\n",
    "\n",
    "    def __len__(self):\n",
    "        return len(self.x)\n",
    "\n",
    "    # Requires you to return data as a pair of _x, _y\n",
    "    def __getitem__(self, index):\n",
    "        return self.x[index], self.x[index]"
   ]
  },
  {
   "attachments": {},
   "cell_type": "markdown",
   "metadata": {},
   "source": [
    "#### **Defining the Loss Function**\n",
    "\n",
    "**Kullback - Leibler Divergence**"
   ]
  },
  {
   "attachments": {},
   "cell_type": "markdown",
   "metadata": {},
   "source": [
    "True distribution $P(X)$ is the bimodal distribution below. We'll try to approximate this with a normal distribution $Q(X) = \\Nu(\\mu, \\sigma^{2})$\n",
    "\n",
    "![true-distribution.png](./pictures/true-distribution.png)"
   ]
  },
  {
   "attachments": {},
   "cell_type": "markdown",
   "metadata": {},
   "source": [
    "The objective is to sample points from $P(X)$ and try to maximize the probability of these points under $Q(X)$.\n",
    "\n",
    "A good approximation under the forward KL objective thus satisfies,\n",
    "\n",
    "Wherever $P(x)$ has high probability, $Q(x)$ must also have high probability.\n",
    "\n",
    "We consider this `mean-seeking behaviour`, because the approximate distribution $Q$ must cover all the modes and regions of high probability in $P$. The optimal `\"approximate\"` distribution for our example is shown below. Notice that the approximate distribution centers itself between the two modes, so that it can have high coverage of both. The forward KL divergence does not penalize $Q$ for having high probability mass where $P$ does not.\n",
    "\n",
    "![approximate-distribution.png](./pictures/approximate-distribution.png)\n"
   ]
  },
  {
   "cell_type": "code",
   "execution_count": 21,
   "metadata": {},
   "outputs": [],
   "source": [
    "# The final loss is a combination of the reconstruction loss (first argument) and the loss from an assumed distribution (i.e. Normal / Gaussian distribution)\n",
    "def final_loss(bce_loss, mu, logvar):\n",
    "    \"\"\"\n",
    "    This function will add the reconstruction loss (BCELoss) and the\n",
    "    KL-Divergence.\n",
    "    KL-Divergence = 0.5 * sum(1 + log(sigma^2) - mu^2 - sigma^2)\n",
    "    :param bce_loss: recontruction loss\n",
    "    :param mu: the mean from the latent vector\n",
    "    :param logvar: log variance from the latent vector\n",
    "    \"\"\"\n",
    "    BCE = bce_loss  # error of the output when compared to the ground truth (input)\n",
    "    # Kullback-Leibler Divergence minimize the divergence from an approximate (normal) distribution to the true data distribution\n",
    "    KLD = -0.5 * torch.sum(1 + logvar - mu.pow(2) - logvar.exp())\n",
    "    return BCE + KLD"
   ]
  },
  {
   "cell_type": "code",
   "execution_count": 22,
   "metadata": {},
   "outputs": [],
   "source": [
    "num_features = 8\n",
    "model_va = VariationalAutoencoder(num_features=num_features)\n",
    "learning_rate = 3e-4\n",
    "loss_fn = nn.BCELoss()  # We define BCELoss to be passed to our final_loss function\n",
    "optimizer_va = optim.Adam(model_va.parameters(), lr=learning_rate)\n",
    "batch_size = 1"
   ]
  },
  {
   "cell_type": "code",
   "execution_count": 23,
   "metadata": {},
   "outputs": [],
   "source": [
    "# Define the training process\n",
    "# Each call of the train function == 1 Epoch\n",
    "def train_fn(loader, model_va, optimizer_va, loss_fn, batch_size):\n",
    "    loop = tqdm(loader)\n",
    "\n",
    "    count = 0\n",
    "    ave_loss = 0.00\n",
    "\n",
    "    # Loop per batch\n",
    "    for batch_idx, (data, targets) in enumerate(loop):\n",
    "        reconstruction, mu, logvar = model_va.forward(data)\n",
    "\n",
    "        # loss between the reconstruction and the target\n",
    "        bce_loss = loss_fn(reconstruction, targets)\n",
    "\n",
    "        # we pass our bce_loss to our final_loss function\n",
    "        # to get the total losses\n",
    "        loss = final_loss(bce_loss, mu, logvar)\n",
    "\n",
    "        optimizer_va.zero_grad()\n",
    "\n",
    "        loss.backward()\n",
    "\n",
    "        optimizer_va.step()\n",
    "\n",
    "        # checking if the loss is actually decreasing\n",
    "        loop.set_postfix(loss=loss.item())\n",
    "\n",
    "        ave_loss += loss.item()\n",
    "        count += 1\n",
    "\n",
    "    ave_loss = ave_loss / count\n",
    "\n",
    "    return ave_loss"
   ]
  },
  {
   "cell_type": "code",
   "execution_count": 24,
   "metadata": {},
   "outputs": [
    {
     "data": {
      "image/png": "[encoded data removed]",
      "text/plain": [
       "<Figure size 400x2000 with 5 Axes>"
      ]
     },
     "metadata": {},
     "output_type": "display_data"
    }
   ],
   "source": [
    "# We define the dimensionality that we want\n",
    "# for this example it is 28x28\n",
    "img_width = 28\n",
    "img_height = 28\n",
    "\n",
    "dim = (img_width, img_height)\n",
    "\n",
    "doggos = [\n",
    "    \"./data/labrador/labrador1.jpg\",\n",
    "    \"./data/labrador/labrador2.jpg\",\n",
    "    \"./data/labrador/labrador3.jpg\",\n",
    "    \"./data/labrador/labrador4.jpg\",\n",
    "    \"./data/labrador/labrador5.jpg\",\n",
    "]\n",
    "\n",
    "images = []\n",
    "\n",
    "for doggo in doggos:\n",
    "    img = cv2.imread(doggo, 0) / 255  # read as grayscale 1 channel images and normalize\n",
    "\n",
    "    # We resize the images\n",
    "    img = cv2.resize(img, dim)\n",
    "\n",
    "    images.append(img)\n",
    "\n",
    "num_images = len(images)\n",
    "num_cols = 1\n",
    "\n",
    "col_names = [\"Original\"]\n",
    "\n",
    "fig, axes = plt.subplots(\n",
    "    nrows=num_images, ncols=num_cols, figsize=(num_cols * 4, num_images * 4)\n",
    ")\n",
    "counter = 0\n",
    "\n",
    "for img in images:\n",
    "    counter += 1\n",
    "\n",
    "    plt.subplot(len(images), num_cols, counter)\n",
    "    plt.imshow(img)"
   ]
  },
  {
   "cell_type": "code",
   "execution_count": 25,
   "metadata": {},
   "outputs": [],
   "source": [
    "data = []\n",
    "\n",
    "for img in images:\n",
    "    data.append(img.ravel())\n",
    "\n",
    "x = torch.Tensor(np.array(data))\n",
    "\n",
    "# use Dataloader for Autoencoder\n",
    "custom_dataset = VariationalAutoencoderDataset(x)\n",
    "\n",
    "train_loader = DataLoader(\n",
    "    custom_dataset, batch_size=batch_size, shuffle=False, drop_last=False\n",
    ")"
   ]
  },
  {
   "cell_type": "code",
   "execution_count": 26,
   "metadata": {},
   "outputs": [
    {
     "name": "stdout",
     "output_type": "stream",
     "text": [
      "Epoch: 0\n"
     ]
    },
    {
     "data": {
      "application/vnd.jupyter.widget-view+json": {
       "model_id": "6cdc934df83242a59523d24b0f4b2271",
       "version_major": 2,
       "version_minor": 0
      },
      "text/plain": [
       "  0%|          | 0/5 [00:00<?, ?it/s]"
      ]
     },
     "metadata": {},
     "output_type": "display_data"
    },
    {
     "name": "stdout",
     "output_type": "stream",
     "text": [
      "Ave Loss: 0.8025470972061157\n",
      "Epoch: 1\n"
     ]
    },
    {
     "data": {
      "application/vnd.jupyter.widget-view+json": {
       "model_id": "19cfe3a2a2e2493bac7467271afaa258",
       "version_major": 2,
       "version_minor": 0
      },
      "text/plain": [
       "  0%|          | 0/5 [00:00<?, ?it/s]"
      ]
     },
     "metadata": {},
     "output_type": "display_data"
    },
    {
     "name": "stdout",
     "output_type": "stream",
     "text": [
      "Ave Loss: 0.7359460473060608\n",
      "Epoch: 2\n"
     ]
    },
    {
     "data": {
      "application/vnd.jupyter.widget-view+json": {
       "model_id": "724ba70f4d61429a9a2d2f4ba49401ce",
       "version_major": 2,
       "version_minor": 0
      },
      "text/plain": [
       "  0%|          | 0/5 [00:00<?, ?it/s]"
      ]
     },
     "metadata": {},
     "output_type": "display_data"
    },
    {
     "name": "stdout",
     "output_type": "stream",
     "text": [
      "Ave Loss: 0.6981520771980285\n",
      "Epoch: 3\n"
     ]
    },
    {
     "data": {
      "application/vnd.jupyter.widget-view+json": {
       "model_id": "be35b60be414421e86f1e2e08f95bb16",
       "version_major": 2,
       "version_minor": 0
      },
      "text/plain": [
       "  0%|          | 0/5 [00:00<?, ?it/s]"
      ]
     },
     "metadata": {},
     "output_type": "display_data"
    },
    {
     "name": "stdout",
     "output_type": "stream",
     "text": [
      "Ave Loss: 0.6775751352310181\n",
      "Epoch: 4\n"
     ]
    },
    {
     "data": {
      "application/vnd.jupyter.widget-view+json": {
       "model_id": "51c370882a484b3fa6f0a1315d7b555c",
       "version_major": 2,
       "version_minor": 0
      },
      "text/plain": [
       "  0%|          | 0/5 [00:00<?, ?it/s]"
      ]
     },
     "metadata": {},
     "output_type": "display_data"
    },
    {
     "name": "stdout",
     "output_type": "stream",
     "text": [
      "Ave Loss: 0.6620762467384338\n",
      "Epoch: 5\n"
     ]
    },
    {
     "data": {
      "application/vnd.jupyter.widget-view+json": {
       "model_id": "8fbdc99b83d341e9933cf5c08c02a2b8",
       "version_major": 2,
       "version_minor": 0
      },
      "text/plain": [
       "  0%|          | 0/5 [00:00<?, ?it/s]"
      ]
     },
     "metadata": {},
     "output_type": "display_data"
    },
    {
     "name": "stdout",
     "output_type": "stream",
     "text": [
      "Ave Loss: 0.6558033704757691\n",
      "Epoch: 6\n"
     ]
    },
    {
     "data": {
      "application/vnd.jupyter.widget-view+json": {
       "model_id": "878e845db59e4e7ab2ce86d48b2b9b8c",
       "version_major": 2,
       "version_minor": 0
      },
      "text/plain": [
       "  0%|          | 0/5 [00:00<?, ?it/s]"
      ]
     },
     "metadata": {},
     "output_type": "display_data"
    },
    {
     "name": "stdout",
     "output_type": "stream",
     "text": [
      "Ave Loss: 0.6371364116668701\n",
      "Epoch: 7\n"
     ]
    },
    {
     "data": {
      "application/vnd.jupyter.widget-view+json": {
       "model_id": "9e520ac70d75407f934ffc601b34ac27",
       "version_major": 2,
       "version_minor": 0
      },
      "text/plain": [
       "  0%|          | 0/5 [00:00<?, ?it/s]"
      ]
     },
     "metadata": {},
     "output_type": "display_data"
    },
    {
     "name": "stdout",
     "output_type": "stream",
     "text": [
      "Ave Loss: 0.6278483986854553\n",
      "Epoch: 8\n"
     ]
    },
    {
     "data": {
      "application/vnd.jupyter.widget-view+json": {
       "model_id": "16fb42ab60624ea9b8c9a2945040d60f",
       "version_major": 2,
       "version_minor": 0
      },
      "text/plain": [
       "  0%|          | 0/5 [00:00<?, ?it/s]"
      ]
     },
     "metadata": {},
     "output_type": "display_data"
    },
    {
     "name": "stdout",
     "output_type": "stream",
     "text": [
      "Ave Loss: 0.612309992313385\n",
      "Epoch: 9\n"
     ]
    },
    {
     "data": {
      "application/vnd.jupyter.widget-view+json": {
       "model_id": "c53e83e0a73a424480c8cffd81904968",
       "version_major": 2,
       "version_minor": 0
      },
      "text/plain": [
       "  0%|          | 0/5 [00:00<?, ?it/s]"
      ]
     },
     "metadata": {},
     "output_type": "display_data"
    },
    {
     "name": "stdout",
     "output_type": "stream",
     "text": [
      "Ave Loss: 0.6081912517547607\n",
      "Epoch: 10\n"
     ]
    },
    {
     "data": {
      "application/vnd.jupyter.widget-view+json": {
       "model_id": "459f1f8910ce4ba59191bbffa1024910",
       "version_major": 2,
       "version_minor": 0
      },
      "text/plain": [
       "  0%|          | 0/5 [00:00<?, ?it/s]"
      ]
     },
     "metadata": {},
     "output_type": "display_data"
    },
    {
     "name": "stdout",
     "output_type": "stream",
     "text": [
      "Ave Loss: 0.6123013019561767\n",
      "Epoch: 11\n"
     ]
    },
    {
     "data": {
      "application/vnd.jupyter.widget-view+json": {
       "model_id": "0b56b514564d4406b04c79ce8b2b64ac",
       "version_major": 2,
       "version_minor": 0
      },
      "text/plain": [
       "  0%|          | 0/5 [00:00<?, ?it/s]"
      ]
     },
     "metadata": {},
     "output_type": "display_data"
    },
    {
     "name": "stdout",
     "output_type": "stream",
     "text": [
      "Ave Loss: 0.6005385637283325\n",
      "Epoch: 12\n"
     ]
    },
    {
     "data": {
      "application/vnd.jupyter.widget-view+json": {
       "model_id": "7200281fa5f24c0db664d3e7f04fe386",
       "version_major": 2,
       "version_minor": 0
      },
      "text/plain": [
       "  0%|          | 0/5 [00:00<?, ?it/s]"
      ]
     },
     "metadata": {},
     "output_type": "display_data"
    },
    {
     "name": "stdout",
     "output_type": "stream",
     "text": [
      "Ave Loss: 0.594889509677887\n",
      "Epoch: 13\n"
     ]
    },
    {
     "data": {
      "application/vnd.jupyter.widget-view+json": {
       "model_id": "c6bcdf71665647dd89c67bb4c07b39e0",
       "version_major": 2,
       "version_minor": 0
      },
      "text/plain": [
       "  0%|          | 0/5 [00:00<?, ?it/s]"
      ]
     },
     "metadata": {},
     "output_type": "display_data"
    },
    {
     "name": "stdout",
     "output_type": "stream",
     "text": [
      "Ave Loss: 0.5947649478912354\n",
      "Epoch: 14\n"
     ]
    },
    {
     "data": {
      "application/vnd.jupyter.widget-view+json": {
       "model_id": "4172264e06734c8a83c9d2a53d29433b",
       "version_major": 2,
       "version_minor": 0
      },
      "text/plain": [
       "  0%|          | 0/5 [00:00<?, ?it/s]"
      ]
     },
     "metadata": {},
     "output_type": "display_data"
    },
    {
     "name": "stdout",
     "output_type": "stream",
     "text": [
      "Ave Loss: 0.6069803595542907\n",
      "Epoch: 15\n"
     ]
    },
    {
     "data": {
      "application/vnd.jupyter.widget-view+json": {
       "model_id": "b54b6db1c8b1404d8dcb132f868c2b86",
       "version_major": 2,
       "version_minor": 0
      },
      "text/plain": [
       "  0%|          | 0/5 [00:00<?, ?it/s]"
      ]
     },
     "metadata": {},
     "output_type": "display_data"
    },
    {
     "name": "stdout",
     "output_type": "stream",
     "text": [
      "Ave Loss: 0.5880954384803772\n",
      "Epoch: 16\n"
     ]
    },
    {
     "data": {
      "application/vnd.jupyter.widget-view+json": {
       "model_id": "c30269e4cf5c4f26a1bf994ce143d20d",
       "version_major": 2,
       "version_minor": 0
      },
      "text/plain": [
       "  0%|          | 0/5 [00:00<?, ?it/s]"
      ]
     },
     "metadata": {},
     "output_type": "display_data"
    },
    {
     "name": "stdout",
     "output_type": "stream",
     "text": [
      "Ave Loss: 0.5656714677810669\n",
      "Epoch: 17\n"
     ]
    },
    {
     "data": {
      "application/vnd.jupyter.widget-view+json": {
       "model_id": "7e3c0ea16b6d48cba801361035093051",
       "version_major": 2,
       "version_minor": 0
      },
      "text/plain": [
       "  0%|          | 0/5 [00:00<?, ?it/s]"
      ]
     },
     "metadata": {},
     "output_type": "display_data"
    },
    {
     "name": "stdout",
     "output_type": "stream",
     "text": [
      "Ave Loss: 0.5785916328430176\n",
      "Epoch: 18\n"
     ]
    },
    {
     "data": {
      "application/vnd.jupyter.widget-view+json": {
       "model_id": "aab470a4cbbe4e179b7c5d59a3c22938",
       "version_major": 2,
       "version_minor": 0
      },
      "text/plain": [
       "  0%|          | 0/5 [00:00<?, ?it/s]"
      ]
     },
     "metadata": {},
     "output_type": "display_data"
    },
    {
     "name": "stdout",
     "output_type": "stream",
     "text": [
      "Ave Loss: 0.5888683915138244\n",
      "Epoch: 19\n"
     ]
    },
    {
     "data": {
      "application/vnd.jupyter.widget-view+json": {
       "model_id": "661b17627f4e4e5ab517d9acca84276b",
       "version_major": 2,
       "version_minor": 0
      },
      "text/plain": [
       "  0%|          | 0/5 [00:00<?, ?it/s]"
      ]
     },
     "metadata": {},
     "output_type": "display_data"
    },
    {
     "name": "stdout",
     "output_type": "stream",
     "text": [
      "Ave Loss: 0.5507761657238006\n",
      "Epoch: 20\n"
     ]
    },
    {
     "data": {
      "application/vnd.jupyter.widget-view+json": {
       "model_id": "a13fc0404fa140f680e8cbc5b4762392",
       "version_major": 2,
       "version_minor": 0
      },
      "text/plain": [
       "  0%|          | 0/5 [00:00<?, ?it/s]"
      ]
     },
     "metadata": {},
     "output_type": "display_data"
    },
    {
     "name": "stdout",
     "output_type": "stream",
     "text": [
      "Ave Loss: 0.6000366091728211\n",
      "Epoch: 21\n"
     ]
    },
    {
     "data": {
      "application/vnd.jupyter.widget-view+json": {
       "model_id": "31f0e2cffdec4c23b61a5b2aef7743e7",
       "version_major": 2,
       "version_minor": 0
      },
      "text/plain": [
       "  0%|          | 0/5 [00:00<?, ?it/s]"
      ]
     },
     "metadata": {},
     "output_type": "display_data"
    },
    {
     "name": "stdout",
     "output_type": "stream",
     "text": [
      "Ave Loss: 0.571305227279663\n",
      "Epoch: 22\n"
     ]
    },
    {
     "data": {
      "application/vnd.jupyter.widget-view+json": {
       "model_id": "450c6634dd2b4bba87a5bee5f0a02d58",
       "version_major": 2,
       "version_minor": 0
      },
      "text/plain": [
       "  0%|          | 0/5 [00:00<?, ?it/s]"
      ]
     },
     "metadata": {},
     "output_type": "display_data"
    },
    {
     "name": "stdout",
     "output_type": "stream",
     "text": [
      "Ave Loss: 0.5701792001724243\n",
      "Epoch: 23\n"
     ]
    },
    {
     "data": {
      "application/vnd.jupyter.widget-view+json": {
       "model_id": "2f0499694829434a969b9c4c127052d4",
       "version_major": 2,
       "version_minor": 0
      },
      "text/plain": [
       "  0%|          | 0/5 [00:00<?, ?it/s]"
      ]
     },
     "metadata": {},
     "output_type": "display_data"
    },
    {
     "name": "stdout",
     "output_type": "stream",
     "text": [
      "Ave Loss: 0.5224743664264679\n",
      "Epoch: 24\n"
     ]
    },
    {
     "data": {
      "application/vnd.jupyter.widget-view+json": {
       "model_id": "3e0b8824598b4668aa963e1d8c6a10a7",
       "version_major": 2,
       "version_minor": 0
      },
      "text/plain": [
       "  0%|          | 0/5 [00:00<?, ?it/s]"
      ]
     },
     "metadata": {},
     "output_type": "display_data"
    },
    {
     "name": "stdout",
     "output_type": "stream",
     "text": [
      "Ave Loss: 0.5080174505710602\n",
      "Epoch: 25\n"
     ]
    },
    {
     "data": {
      "application/vnd.jupyter.widget-view+json": {
       "model_id": "72a0efea7b584a9da5f2835f5892fd67",
       "version_major": 2,
       "version_minor": 0
      },
      "text/plain": [
       "  0%|          | 0/5 [00:00<?, ?it/s]"
      ]
     },
     "metadata": {},
     "output_type": "display_data"
    },
    {
     "name": "stdout",
     "output_type": "stream",
     "text": [
      "Ave Loss: 0.546501874923706\n",
      "Epoch: 26\n"
     ]
    },
    {
     "data": {
      "application/vnd.jupyter.widget-view+json": {
       "model_id": "cb4fabb5205f4b3fa0272826522374ba",
       "version_major": 2,
       "version_minor": 0
      },
      "text/plain": [
       "  0%|          | 0/5 [00:00<?, ?it/s]"
      ]
     },
     "metadata": {},
     "output_type": "display_data"
    },
    {
     "name": "stdout",
     "output_type": "stream",
     "text": [
      "Ave Loss: 0.5301733434200286\n",
      "Epoch: 27\n"
     ]
    },
    {
     "data": {
      "application/vnd.jupyter.widget-view+json": {
       "model_id": "b3d2e9bd5f1a417ba9d30c34a319851f",
       "version_major": 2,
       "version_minor": 0
      },
      "text/plain": [
       "  0%|          | 0/5 [00:00<?, ?it/s]"
      ]
     },
     "metadata": {},
     "output_type": "display_data"
    },
    {
     "name": "stdout",
     "output_type": "stream",
     "text": [
      "Ave Loss: 0.5099722743034363\n",
      "Epoch: 28\n"
     ]
    },
    {
     "data": {
      "application/vnd.jupyter.widget-view+json": {
       "model_id": "47b1d90ae51241b09ace9da3286b2794",
       "version_major": 2,
       "version_minor": 0
      },
      "text/plain": [
       "  0%|          | 0/5 [00:00<?, ?it/s]"
      ]
     },
     "metadata": {},
     "output_type": "display_data"
    },
    {
     "name": "stdout",
     "output_type": "stream",
     "text": [
      "Ave Loss: 0.5440066695213318\n",
      "Epoch: 29\n"
     ]
    },
    {
     "data": {
      "application/vnd.jupyter.widget-view+json": {
       "model_id": "7a61c6d191544d4983877a299be8f0a9",
       "version_major": 2,
       "version_minor": 0
      },
      "text/plain": [
       "  0%|          | 0/5 [00:00<?, ?it/s]"
      ]
     },
     "metadata": {},
     "output_type": "display_data"
    },
    {
     "name": "stdout",
     "output_type": "stream",
     "text": [
      "Ave Loss: 0.5030528008937836\n",
      "Epoch: 30\n"
     ]
    },
    {
     "data": {
      "application/vnd.jupyter.widget-view+json": {
       "model_id": "0ac3c40a63b84c8fa7f0b87d62cad454",
       "version_major": 2,
       "version_minor": 0
      },
      "text/plain": [
       "  0%|          | 0/5 [00:00<?, ?it/s]"
      ]
     },
     "metadata": {},
     "output_type": "display_data"
    },
    {
     "name": "stdout",
     "output_type": "stream",
     "text": [
      "Ave Loss: 0.534729951620102\n",
      "Epoch: 31\n"
     ]
    },
    {
     "data": {
      "application/vnd.jupyter.widget-view+json": {
       "model_id": "26155501a80847178bab269786c4928c",
       "version_major": 2,
       "version_minor": 0
      },
      "text/plain": [
       "  0%|          | 0/5 [00:00<?, ?it/s]"
      ]
     },
     "metadata": {},
     "output_type": "display_data"
    },
    {
     "name": "stdout",
     "output_type": "stream",
     "text": [
      "Ave Loss: 0.4943448781967163\n",
      "Epoch: 32\n"
     ]
    },
    {
     "data": {
      "application/vnd.jupyter.widget-view+json": {
       "model_id": "c4a47d7591a44febb8a3936de3aab5e1",
       "version_major": 2,
       "version_minor": 0
      },
      "text/plain": [
       "  0%|          | 0/5 [00:00<?, ?it/s]"
      ]
     },
     "metadata": {},
     "output_type": "display_data"
    },
    {
     "name": "stdout",
     "output_type": "stream",
     "text": [
      "Ave Loss: 0.5334439873695374\n",
      "Epoch: 33\n"
     ]
    },
    {
     "data": {
      "application/vnd.jupyter.widget-view+json": {
       "model_id": "ea973d1d0c8c4c75adb48774dc8cfd73",
       "version_major": 2,
       "version_minor": 0
      },
      "text/plain": [
       "  0%|          | 0/5 [00:00<?, ?it/s]"
      ]
     },
     "metadata": {},
     "output_type": "display_data"
    },
    {
     "name": "stdout",
     "output_type": "stream",
     "text": [
      "Ave Loss: 0.5039442181587219\n",
      "Epoch: 34\n"
     ]
    },
    {
     "data": {
      "application/vnd.jupyter.widget-view+json": {
       "model_id": "4f8d45f1e3a14c1dace05b09654f409b",
       "version_major": 2,
       "version_minor": 0
      },
      "text/plain": [
       "  0%|          | 0/5 [00:00<?, ?it/s]"
      ]
     },
     "metadata": {},
     "output_type": "display_data"
    },
    {
     "name": "stdout",
     "output_type": "stream",
     "text": [
      "Ave Loss: 0.5010200619697571\n",
      "Epoch: 35\n"
     ]
    },
    {
     "data": {
      "application/vnd.jupyter.widget-view+json": {
       "model_id": "ce01991572864275a4f1480324fb3d32",
       "version_major": 2,
       "version_minor": 0
      },
      "text/plain": [
       "  0%|          | 0/5 [00:00<?, ?it/s]"
      ]
     },
     "metadata": {},
     "output_type": "display_data"
    },
    {
     "name": "stdout",
     "output_type": "stream",
     "text": [
      "Ave Loss: 0.5199451088905335\n",
      "Epoch: 36\n"
     ]
    },
    {
     "data": {
      "application/vnd.jupyter.widget-view+json": {
       "model_id": "45174680b9b94bee8cb728cbf5208128",
       "version_major": 2,
       "version_minor": 0
      },
      "text/plain": [
       "  0%|          | 0/5 [00:00<?, ?it/s]"
      ]
     },
     "metadata": {},
     "output_type": "display_data"
    },
    {
     "name": "stdout",
     "output_type": "stream",
     "text": [
      "Ave Loss: 0.5157253384590149\n",
      "Epoch: 37\n"
     ]
    },
    {
     "data": {
      "application/vnd.jupyter.widget-view+json": {
       "model_id": "bdda3364649f4aa3a303b067765ac5f8",
       "version_major": 2,
       "version_minor": 0
      },
      "text/plain": [
       "  0%|          | 0/5 [00:00<?, ?it/s]"
      ]
     },
     "metadata": {},
     "output_type": "display_data"
    },
    {
     "name": "stdout",
     "output_type": "stream",
     "text": [
      "Ave Loss: 0.49611912965774535\n",
      "Epoch: 38\n"
     ]
    },
    {
     "data": {
      "application/vnd.jupyter.widget-view+json": {
       "model_id": "474858d2ab8246dd8b616a209421a656",
       "version_major": 2,
       "version_minor": 0
      },
      "text/plain": [
       "  0%|          | 0/5 [00:00<?, ?it/s]"
      ]
     },
     "metadata": {},
     "output_type": "display_data"
    },
    {
     "name": "stdout",
     "output_type": "stream",
     "text": [
      "Ave Loss: 0.4737570881843567\n",
      "Epoch: 39\n"
     ]
    },
    {
     "data": {
      "application/vnd.jupyter.widget-view+json": {
       "model_id": "325ce1fb157646e697f196a82dbc5254",
       "version_major": 2,
       "version_minor": 0
      },
      "text/plain": [
       "  0%|          | 0/5 [00:00<?, ?it/s]"
      ]
     },
     "metadata": {},
     "output_type": "display_data"
    },
    {
     "name": "stdout",
     "output_type": "stream",
     "text": [
      "Ave Loss: 0.4968277096748352\n",
      "Epoch: 40\n"
     ]
    },
    {
     "data": {
      "application/vnd.jupyter.widget-view+json": {
       "model_id": "a1344b6b496f4ea4be59607c14e982de",
       "version_major": 2,
       "version_minor": 0
      },
      "text/plain": [
       "  0%|          | 0/5 [00:00<?, ?it/s]"
      ]
     },
     "metadata": {},
     "output_type": "display_data"
    },
    {
     "name": "stdout",
     "output_type": "stream",
     "text": [
      "Ave Loss: 0.5195904076099396\n",
      "Epoch: 41\n"
     ]
    },
    {
     "data": {
      "application/vnd.jupyter.widget-view+json": {
       "model_id": "79523f6c856441da82ac4a9f4e8da70e",
       "version_major": 2,
       "version_minor": 0
      },
      "text/plain": [
       "  0%|          | 0/5 [00:00<?, ?it/s]"
      ]
     },
     "metadata": {},
     "output_type": "display_data"
    },
    {
     "name": "stdout",
     "output_type": "stream",
     "text": [
      "Ave Loss: 0.5217417240142822\n",
      "Epoch: 42\n"
     ]
    },
    {
     "data": {
      "application/vnd.jupyter.widget-view+json": {
       "model_id": "17128063312e45949aa1da52026932f8",
       "version_major": 2,
       "version_minor": 0
      },
      "text/plain": [
       "  0%|          | 0/5 [00:00<?, ?it/s]"
      ]
     },
     "metadata": {},
     "output_type": "display_data"
    },
    {
     "name": "stdout",
     "output_type": "stream",
     "text": [
      "Ave Loss: 0.4956349074840546\n",
      "Epoch: 43\n"
     ]
    },
    {
     "data": {
      "application/vnd.jupyter.widget-view+json": {
       "model_id": "39262bd3526444c1958dae833ee57989",
       "version_major": 2,
       "version_minor": 0
      },
      "text/plain": [
       "  0%|          | 0/5 [00:00<?, ?it/s]"
      ]
     },
     "metadata": {},
     "output_type": "display_data"
    },
    {
     "name": "stdout",
     "output_type": "stream",
     "text": [
      "Ave Loss: 0.4834757924079895\n",
      "Epoch: 44\n"
     ]
    },
    {
     "data": {
      "application/vnd.jupyter.widget-view+json": {
       "model_id": "eb5b9740ad184888afe0284495fdf6f3",
       "version_major": 2,
       "version_minor": 0
      },
      "text/plain": [
       "  0%|          | 0/5 [00:00<?, ?it/s]"
      ]
     },
     "metadata": {},
     "output_type": "display_data"
    },
    {
     "name": "stdout",
     "output_type": "stream",
     "text": [
      "Ave Loss: 0.5067465841770172\n",
      "Epoch: 45\n"
     ]
    },
    {
     "data": {
      "application/vnd.jupyter.widget-view+json": {
       "model_id": "81ca2b63cc64425dba8ed9fa109012d3",
       "version_major": 2,
       "version_minor": 0
      },
      "text/plain": [
       "  0%|          | 0/5 [00:00<?, ?it/s]"
      ]
     },
     "metadata": {},
     "output_type": "display_data"
    },
    {
     "name": "stdout",
     "output_type": "stream",
     "text": [
      "Ave Loss: 0.46604334115982055\n",
      "Epoch: 46\n"
     ]
    },
    {
     "data": {
      "application/vnd.jupyter.widget-view+json": {
       "model_id": "5fc9859be68641dc81a8764662490d6a",
       "version_major": 2,
       "version_minor": 0
      },
      "text/plain": [
       "  0%|          | 0/5 [00:00<?, ?it/s]"
      ]
     },
     "metadata": {},
     "output_type": "display_data"
    },
    {
     "name": "stdout",
     "output_type": "stream",
     "text": [
      "Ave Loss: 0.48594852685928347\n",
      "Epoch: 47\n"
     ]
    },
    {
     "data": {
      "application/vnd.jupyter.widget-view+json": {
       "model_id": "d40731ecf3424238badd3568957df811",
       "version_major": 2,
       "version_minor": 0
      },
      "text/plain": [
       "  0%|          | 0/5 [00:00<?, ?it/s]"
      ]
     },
     "metadata": {},
     "output_type": "display_data"
    },
    {
     "name": "stdout",
     "output_type": "stream",
     "text": [
      "Ave Loss: 0.5569551944732666\n",
      "Epoch: 48\n"
     ]
    },
    {
     "data": {
      "application/vnd.jupyter.widget-view+json": {
       "model_id": "f523ef01f31d4eaa97464473c394c8b9",
       "version_major": 2,
       "version_minor": 0
      },
      "text/plain": [
       "  0%|          | 0/5 [00:00<?, ?it/s]"
      ]
     },
     "metadata": {},
     "output_type": "display_data"
    },
    {
     "name": "stdout",
     "output_type": "stream",
     "text": [
      "Ave Loss: 0.4579343020915985\n",
      "Epoch: 49\n"
     ]
    },
    {
     "data": {
      "application/vnd.jupyter.widget-view+json": {
       "model_id": "5a2e18e2e7f748a9b4f887c3e91f1cf6",
       "version_major": 2,
       "version_minor": 0
      },
      "text/plain": [
       "  0%|          | 0/5 [00:00<?, ?it/s]"
      ]
     },
     "metadata": {},
     "output_type": "display_data"
    },
    {
     "name": "stdout",
     "output_type": "stream",
     "text": [
      "Ave Loss: 0.47640025019645693\n",
      "Epoch: 50\n"
     ]
    },
    {
     "data": {
      "application/vnd.jupyter.widget-view+json": {
       "model_id": "00a0ab0fcbc24450a05cd77e029d03ee",
       "version_major": 2,
       "version_minor": 0
      },
      "text/plain": [
       "  0%|          | 0/5 [00:00<?, ?it/s]"
      ]
     },
     "metadata": {},
     "output_type": "display_data"
    },
    {
     "name": "stdout",
     "output_type": "stream",
     "text": [
      "Ave Loss: 0.46097505688667295\n",
      "Epoch: 51\n"
     ]
    },
    {
     "data": {
      "application/vnd.jupyter.widget-view+json": {
       "model_id": "29e3ee3357f843d39d6daf83f38c05ac",
       "version_major": 2,
       "version_minor": 0
      },
      "text/plain": [
       "  0%|          | 0/5 [00:00<?, ?it/s]"
      ]
     },
     "metadata": {},
     "output_type": "display_data"
    },
    {
     "name": "stdout",
     "output_type": "stream",
     "text": [
      "Ave Loss: 0.5163462221622467\n",
      "Epoch: 52\n"
     ]
    },
    {
     "data": {
      "application/vnd.jupyter.widget-view+json": {
       "model_id": "b600475dc5c24a17b7404bdc763159e5",
       "version_major": 2,
       "version_minor": 0
      },
      "text/plain": [
       "  0%|          | 0/5 [00:00<?, ?it/s]"
      ]
     },
     "metadata": {},
     "output_type": "display_data"
    },
    {
     "name": "stdout",
     "output_type": "stream",
     "text": [
      "Ave Loss: 0.4966988444328308\n",
      "Epoch: 53\n"
     ]
    },
    {
     "data": {
      "application/vnd.jupyter.widget-view+json": {
       "model_id": "87d283c51c2e4ca89227523a594a49a5",
       "version_major": 2,
       "version_minor": 0
      },
      "text/plain": [
       "  0%|          | 0/5 [00:00<?, ?it/s]"
      ]
     },
     "metadata": {},
     "output_type": "display_data"
    },
    {
     "name": "stdout",
     "output_type": "stream",
     "text": [
      "Ave Loss: 0.4805241942405701\n",
      "Epoch: 54\n"
     ]
    },
    {
     "data": {
      "application/vnd.jupyter.widget-view+json": {
       "model_id": "2b3424f6f0744de493f3fd396f973161",
       "version_major": 2,
       "version_minor": 0
      },
      "text/plain": [
       "  0%|          | 0/5 [00:00<?, ?it/s]"
      ]
     },
     "metadata": {},
     "output_type": "display_data"
    },
    {
     "name": "stdout",
     "output_type": "stream",
     "text": [
      "Ave Loss: 0.4446747064590454\n",
      "Epoch: 55\n"
     ]
    },
    {
     "data": {
      "application/vnd.jupyter.widget-view+json": {
       "model_id": "86bcc562258e4388ade660e8bd0a2203",
       "version_major": 2,
       "version_minor": 0
      },
      "text/plain": [
       "  0%|          | 0/5 [00:00<?, ?it/s]"
      ]
     },
     "metadata": {},
     "output_type": "display_data"
    },
    {
     "name": "stdout",
     "output_type": "stream",
     "text": [
      "Ave Loss: 0.48943939208984377\n",
      "Epoch: 56\n"
     ]
    },
    {
     "data": {
      "application/vnd.jupyter.widget-view+json": {
       "model_id": "b5390bff54624e2b976f2b5484018708",
       "version_major": 2,
       "version_minor": 0
      },
      "text/plain": [
       "  0%|          | 0/5 [00:00<?, ?it/s]"
      ]
     },
     "metadata": {},
     "output_type": "display_data"
    },
    {
     "name": "stdout",
     "output_type": "stream",
     "text": [
      "Ave Loss: 0.4801753520965576\n",
      "Epoch: 57\n"
     ]
    },
    {
     "data": {
      "application/vnd.jupyter.widget-view+json": {
       "model_id": "d6367ccda66a479ca45b60990e3059dc",
       "version_major": 2,
       "version_minor": 0
      },
      "text/plain": [
       "  0%|          | 0/5 [00:00<?, ?it/s]"
      ]
     },
     "metadata": {},
     "output_type": "display_data"
    },
    {
     "name": "stdout",
     "output_type": "stream",
     "text": [
      "Ave Loss: 0.4208893120288849\n",
      "Epoch: 58\n"
     ]
    },
    {
     "data": {
      "application/vnd.jupyter.widget-view+json": {
       "model_id": "65f4b61750d845d8abc678d10a927f76",
       "version_major": 2,
       "version_minor": 0
      },
      "text/plain": [
       "  0%|          | 0/5 [00:00<?, ?it/s]"
      ]
     },
     "metadata": {},
     "output_type": "display_data"
    },
    {
     "name": "stdout",
     "output_type": "stream",
     "text": [
      "Ave Loss: 0.4787139892578125\n",
      "Epoch: 59\n"
     ]
    },
    {
     "data": {
      "application/vnd.jupyter.widget-view+json": {
       "model_id": "e15905dd94324daf9f60df15f58c3850",
       "version_major": 2,
       "version_minor": 0
      },
      "text/plain": [
       "  0%|          | 0/5 [00:00<?, ?it/s]"
      ]
     },
     "metadata": {},
     "output_type": "display_data"
    },
    {
     "name": "stdout",
     "output_type": "stream",
     "text": [
      "Ave Loss: 0.4807079195976257\n",
      "Epoch: 60\n"
     ]
    },
    {
     "data": {
      "application/vnd.jupyter.widget-view+json": {
       "model_id": "ea17bd29f0ed418c8e88efde0cdc2595",
       "version_major": 2,
       "version_minor": 0
      },
      "text/plain": [
       "  0%|          | 0/5 [00:00<?, ?it/s]"
      ]
     },
     "metadata": {},
     "output_type": "display_data"
    },
    {
     "name": "stdout",
     "output_type": "stream",
     "text": [
      "Ave Loss: 0.45633089542388916\n",
      "Epoch: 61\n"
     ]
    },
    {
     "data": {
      "application/vnd.jupyter.widget-view+json": {
       "model_id": "a61b91d83afb412f898f690d4326658d",
       "version_major": 2,
       "version_minor": 0
      },
      "text/plain": [
       "  0%|          | 0/5 [00:00<?, ?it/s]"
      ]
     },
     "metadata": {},
     "output_type": "display_data"
    },
    {
     "name": "stdout",
     "output_type": "stream",
     "text": [
      "Ave Loss: 0.43909438848495486\n",
      "Epoch: 62\n"
     ]
    },
    {
     "data": {
      "application/vnd.jupyter.widget-view+json": {
       "model_id": "d25bb495e76c45e2bc0c37c4cbab0a0f",
       "version_major": 2,
       "version_minor": 0
      },
      "text/plain": [
       "  0%|          | 0/5 [00:00<?, ?it/s]"
      ]
     },
     "metadata": {},
     "output_type": "display_data"
    },
    {
     "name": "stdout",
     "output_type": "stream",
     "text": [
      "Ave Loss: 0.4436823606491089\n",
      "Epoch: 63\n"
     ]
    },
    {
     "data": {
      "application/vnd.jupyter.widget-view+json": {
       "model_id": "83796bc03c254b599fe34f2ebb856826",
       "version_major": 2,
       "version_minor": 0
      },
      "text/plain": [
       "  0%|          | 0/5 [00:00<?, ?it/s]"
      ]
     },
     "metadata": {},
     "output_type": "display_data"
    },
    {
     "name": "stdout",
     "output_type": "stream",
     "text": [
      "Ave Loss: 0.47812761664390563\n",
      "Epoch: 64\n"
     ]
    },
    {
     "data": {
      "application/vnd.jupyter.widget-view+json": {
       "model_id": "c0a0e9c01bd6475eb77d97371fa5966c",
       "version_major": 2,
       "version_minor": 0
      },
      "text/plain": [
       "  0%|          | 0/5 [00:00<?, ?it/s]"
      ]
     },
     "metadata": {},
     "output_type": "display_data"
    },
    {
     "name": "stdout",
     "output_type": "stream",
     "text": [
      "Ave Loss: 0.45496063232421874\n",
      "Epoch: 65\n"
     ]
    },
    {
     "data": {
      "application/vnd.jupyter.widget-view+json": {
       "model_id": "db700b3e12df400e98b17b88a43cd19c",
       "version_major": 2,
       "version_minor": 0
      },
      "text/plain": [
       "  0%|          | 0/5 [00:00<?, ?it/s]"
      ]
     },
     "metadata": {},
     "output_type": "display_data"
    },
    {
     "name": "stdout",
     "output_type": "stream",
     "text": [
      "Ave Loss: 0.457144433259964\n",
      "Epoch: 66\n"
     ]
    },
    {
     "data": {
      "application/vnd.jupyter.widget-view+json": {
       "model_id": "392ef4f0657a47cba017d7617fa21e86",
       "version_major": 2,
       "version_minor": 0
      },
      "text/plain": [
       "  0%|          | 0/5 [00:00<?, ?it/s]"
      ]
     },
     "metadata": {},
     "output_type": "display_data"
    },
    {
     "name": "stdout",
     "output_type": "stream",
     "text": [
      "Ave Loss: 0.4664762198925018\n",
      "Epoch: 67\n"
     ]
    },
    {
     "data": {
      "application/vnd.jupyter.widget-view+json": {
       "model_id": "039ccf6363cc4d56b9068ea92aecdf84",
       "version_major": 2,
       "version_minor": 0
      },
      "text/plain": [
       "  0%|          | 0/5 [00:00<?, ?it/s]"
      ]
     },
     "metadata": {},
     "output_type": "display_data"
    },
    {
     "name": "stdout",
     "output_type": "stream",
     "text": [
      "Ave Loss: 0.4661254703998566\n",
      "Epoch: 68\n"
     ]
    },
    {
     "data": {
      "application/vnd.jupyter.widget-view+json": {
       "model_id": "952a97afd0da4e2596817c8666ecf289",
       "version_major": 2,
       "version_minor": 0
      },
      "text/plain": [
       "  0%|          | 0/5 [00:00<?, ?it/s]"
      ]
     },
     "metadata": {},
     "output_type": "display_data"
    },
    {
     "name": "stdout",
     "output_type": "stream",
     "text": [
      "Ave Loss: 0.48672919869422915\n",
      "Epoch: 69\n"
     ]
    },
    {
     "data": {
      "application/vnd.jupyter.widget-view+json": {
       "model_id": "a9159b3d170e4e3c8fd74da43d72e429",
       "version_major": 2,
       "version_minor": 0
      },
      "text/plain": [
       "  0%|          | 0/5 [00:00<?, ?it/s]"
      ]
     },
     "metadata": {},
     "output_type": "display_data"
    },
    {
     "name": "stdout",
     "output_type": "stream",
     "text": [
      "Ave Loss: 0.471373051404953\n",
      "Epoch: 70\n"
     ]
    },
    {
     "data": {
      "application/vnd.jupyter.widget-view+json": {
       "model_id": "8cf58e894e824e8593376bb825930803",
       "version_major": 2,
       "version_minor": 0
      },
      "text/plain": [
       "  0%|          | 0/5 [00:00<?, ?it/s]"
      ]
     },
     "metadata": {},
     "output_type": "display_data"
    },
    {
     "name": "stdout",
     "output_type": "stream",
     "text": [
      "Ave Loss: 0.4568876981735229\n",
      "Epoch: 71\n"
     ]
    },
    {
     "data": {
      "application/vnd.jupyter.widget-view+json": {
       "model_id": "93ea795ccc62428e921baa6ff1a24ed3",
       "version_major": 2,
       "version_minor": 0
      },
      "text/plain": [
       "  0%|          | 0/5 [00:00<?, ?it/s]"
      ]
     },
     "metadata": {},
     "output_type": "display_data"
    },
    {
     "name": "stdout",
     "output_type": "stream",
     "text": [
      "Ave Loss: 0.5377758979797364\n",
      "Epoch: 72\n"
     ]
    },
    {
     "data": {
      "application/vnd.jupyter.widget-view+json": {
       "model_id": "54bae2a6ff5e45c9af4889375e1e1a5b",
       "version_major": 2,
       "version_minor": 0
      },
      "text/plain": [
       "  0%|          | 0/5 [00:00<?, ?it/s]"
      ]
     },
     "metadata": {},
     "output_type": "display_data"
    },
    {
     "name": "stdout",
     "output_type": "stream",
     "text": [
      "Ave Loss: 0.46019505262374877\n",
      "Epoch: 73\n"
     ]
    },
    {
     "data": {
      "application/vnd.jupyter.widget-view+json": {
       "model_id": "e83990d103b34257a67deebccf7ae3fa",
       "version_major": 2,
       "version_minor": 0
      },
      "text/plain": [
       "  0%|          | 0/5 [00:00<?, ?it/s]"
      ]
     },
     "metadata": {},
     "output_type": "display_data"
    },
    {
     "name": "stdout",
     "output_type": "stream",
     "text": [
      "Ave Loss: 0.48628273606300354\n",
      "Epoch: 74\n"
     ]
    },
    {
     "data": {
      "application/vnd.jupyter.widget-view+json": {
       "model_id": "ff5ab0abe6f24b60833efed7eac74c11",
       "version_major": 2,
       "version_minor": 0
      },
      "text/plain": [
       "  0%|          | 0/5 [00:00<?, ?it/s]"
      ]
     },
     "metadata": {},
     "output_type": "display_data"
    },
    {
     "name": "stdout",
     "output_type": "stream",
     "text": [
      "Ave Loss: 0.46440222263336184\n",
      "Epoch: 75\n"
     ]
    },
    {
     "data": {
      "application/vnd.jupyter.widget-view+json": {
       "model_id": "616ae82fd37947e98628bdd3aa108da9",
       "version_major": 2,
       "version_minor": 0
      },
      "text/plain": [
       "  0%|          | 0/5 [00:00<?, ?it/s]"
      ]
     },
     "metadata": {},
     "output_type": "display_data"
    },
    {
     "name": "stdout",
     "output_type": "stream",
     "text": [
      "Ave Loss: 0.4728488564491272\n",
      "Epoch: 76\n"
     ]
    },
    {
     "data": {
      "application/vnd.jupyter.widget-view+json": {
       "model_id": "a78550b22dec4d9680d58fe4885a28be",
       "version_major": 2,
       "version_minor": 0
      },
      "text/plain": [
       "  0%|          | 0/5 [00:00<?, ?it/s]"
      ]
     },
     "metadata": {},
     "output_type": "display_data"
    },
    {
     "name": "stdout",
     "output_type": "stream",
     "text": [
      "Ave Loss: 0.47424094676971434\n",
      "Epoch: 77\n"
     ]
    },
    {
     "data": {
      "application/vnd.jupyter.widget-view+json": {
       "model_id": "805348ca84c540f3935f356eb57d2291",
       "version_major": 2,
       "version_minor": 0
      },
      "text/plain": [
       "  0%|          | 0/5 [00:00<?, ?it/s]"
      ]
     },
     "metadata": {},
     "output_type": "display_data"
    },
    {
     "name": "stdout",
     "output_type": "stream",
     "text": [
      "Ave Loss: 0.4649136602878571\n",
      "Epoch: 78\n"
     ]
    },
    {
     "data": {
      "application/vnd.jupyter.widget-view+json": {
       "model_id": "27e11f7195064482964c671cdec0dd54",
       "version_major": 2,
       "version_minor": 0
      },
      "text/plain": [
       "  0%|          | 0/5 [00:00<?, ?it/s]"
      ]
     },
     "metadata": {},
     "output_type": "display_data"
    },
    {
     "name": "stdout",
     "output_type": "stream",
     "text": [
      "Ave Loss: 0.4702015042304993\n",
      "Epoch: 79\n"
     ]
    },
    {
     "data": {
      "application/vnd.jupyter.widget-view+json": {
       "model_id": "d2292268189b4b68b8377e6060a88c36",
       "version_major": 2,
       "version_minor": 0
      },
      "text/plain": [
       "  0%|          | 0/5 [00:00<?, ?it/s]"
      ]
     },
     "metadata": {},
     "output_type": "display_data"
    },
    {
     "name": "stdout",
     "output_type": "stream",
     "text": [
      "Ave Loss: 0.4822068095207214\n",
      "Epoch: 80\n"
     ]
    },
    {
     "data": {
      "application/vnd.jupyter.widget-view+json": {
       "model_id": "59fbd082d0264bdcb0cc812c086be8ec",
       "version_major": 2,
       "version_minor": 0
      },
      "text/plain": [
       "  0%|          | 0/5 [00:00<?, ?it/s]"
      ]
     },
     "metadata": {},
     "output_type": "display_data"
    },
    {
     "name": "stdout",
     "output_type": "stream",
     "text": [
      "Ave Loss: 0.4604433476924896\n",
      "Epoch: 81\n"
     ]
    },
    {
     "data": {
      "application/vnd.jupyter.widget-view+json": {
       "model_id": "7bdacc007cff4797a6d1ccd0226ae14d",
       "version_major": 2,
       "version_minor": 0
      },
      "text/plain": [
       "  0%|          | 0/5 [00:00<?, ?it/s]"
      ]
     },
     "metadata": {},
     "output_type": "display_data"
    },
    {
     "name": "stdout",
     "output_type": "stream",
     "text": [
      "Ave Loss: 0.4776709735393524\n",
      "Epoch: 82\n"
     ]
    },
    {
     "data": {
      "application/vnd.jupyter.widget-view+json": {
       "model_id": "a99520d1938b4996bf7492aeb23a4230",
       "version_major": 2,
       "version_minor": 0
      },
      "text/plain": [
       "  0%|          | 0/5 [00:00<?, ?it/s]"
      ]
     },
     "metadata": {},
     "output_type": "display_data"
    },
    {
     "name": "stdout",
     "output_type": "stream",
     "text": [
      "Ave Loss: 0.5046259880065918\n",
      "Epoch: 83\n"
     ]
    },
    {
     "data": {
      "application/vnd.jupyter.widget-view+json": {
       "model_id": "30347bcc3d7d43e3b159e69485aa380f",
       "version_major": 2,
       "version_minor": 0
      },
      "text/plain": [
       "  0%|          | 0/5 [00:00<?, ?it/s]"
      ]
     },
     "metadata": {},
     "output_type": "display_data"
    },
    {
     "name": "stdout",
     "output_type": "stream",
     "text": [
      "Ave Loss: 0.49251750111579895\n",
      "Epoch: 84\n"
     ]
    },
    {
     "data": {
      "application/vnd.jupyter.widget-view+json": {
       "model_id": "3212be3ed5d8413d8cc3229d0bf0505c",
       "version_major": 2,
       "version_minor": 0
      },
      "text/plain": [
       "  0%|          | 0/5 [00:00<?, ?it/s]"
      ]
     },
     "metadata": {},
     "output_type": "display_data"
    },
    {
     "name": "stdout",
     "output_type": "stream",
     "text": [
      "Ave Loss: 0.44182127714157104\n",
      "Epoch: 85\n"
     ]
    },
    {
     "data": {
      "application/vnd.jupyter.widget-view+json": {
       "model_id": "a4e8ac093b17402b959fd7f83ac0485d",
       "version_major": 2,
       "version_minor": 0
      },
      "text/plain": [
       "  0%|          | 0/5 [00:00<?, ?it/s]"
      ]
     },
     "metadata": {},
     "output_type": "display_data"
    },
    {
     "name": "stdout",
     "output_type": "stream",
     "text": [
      "Ave Loss: 0.4820346891880035\n",
      "Epoch: 86\n"
     ]
    },
    {
     "data": {
      "application/vnd.jupyter.widget-view+json": {
       "model_id": "477a207f7e15433c96f1fd704595703c",
       "version_major": 2,
       "version_minor": 0
      },
      "text/plain": [
       "  0%|          | 0/5 [00:00<?, ?it/s]"
      ]
     },
     "metadata": {},
     "output_type": "display_data"
    },
    {
     "name": "stdout",
     "output_type": "stream",
     "text": [
      "Ave Loss: 0.4407211780548096\n",
      "Epoch: 87\n"
     ]
    },
    {
     "data": {
      "application/vnd.jupyter.widget-view+json": {
       "model_id": "bf80ccbb6fc748b38709c7b5c685aba0",
       "version_major": 2,
       "version_minor": 0
      },
      "text/plain": [
       "  0%|          | 0/5 [00:00<?, ?it/s]"
      ]
     },
     "metadata": {},
     "output_type": "display_data"
    },
    {
     "name": "stdout",
     "output_type": "stream",
     "text": [
      "Ave Loss: 0.4545308589935303\n",
      "Epoch: 88\n"
     ]
    },
    {
     "data": {
      "application/vnd.jupyter.widget-view+json": {
       "model_id": "2f8de3c705b342b8a544035b8e46d8ae",
       "version_major": 2,
       "version_minor": 0
      },
      "text/plain": [
       "  0%|          | 0/5 [00:00<?, ?it/s]"
      ]
     },
     "metadata": {},
     "output_type": "display_data"
    },
    {
     "name": "stdout",
     "output_type": "stream",
     "text": [
      "Ave Loss: 0.4450165033340454\n",
      "Epoch: 89\n"
     ]
    },
    {
     "data": {
      "application/vnd.jupyter.widget-view+json": {
       "model_id": "92b9da537a2c45d79097e0b31f741f30",
       "version_major": 2,
       "version_minor": 0
      },
      "text/plain": [
       "  0%|          | 0/5 [00:00<?, ?it/s]"
      ]
     },
     "metadata": {},
     "output_type": "display_data"
    },
    {
     "name": "stdout",
     "output_type": "stream",
     "text": [
      "Ave Loss: 0.4516113519668579\n",
      "Epoch: 90\n"
     ]
    },
    {
     "data": {
      "application/vnd.jupyter.widget-view+json": {
       "model_id": "5068530c93464881a4b7878229128fea",
       "version_major": 2,
       "version_minor": 0
      },
      "text/plain": [
       "  0%|          | 0/5 [00:00<?, ?it/s]"
      ]
     },
     "metadata": {},
     "output_type": "display_data"
    },
    {
     "name": "stdout",
     "output_type": "stream",
     "text": [
      "Ave Loss: 0.4768624663352966\n",
      "Epoch: 91\n"
     ]
    },
    {
     "data": {
      "application/vnd.jupyter.widget-view+json": {
       "model_id": "be9e36ca53644fb9a9118210f312b5c4",
       "version_major": 2,
       "version_minor": 0
      },
      "text/plain": [
       "  0%|          | 0/5 [00:00<?, ?it/s]"
      ]
     },
     "metadata": {},
     "output_type": "display_data"
    },
    {
     "name": "stdout",
     "output_type": "stream",
     "text": [
      "Ave Loss: 0.46348963379859925\n",
      "Epoch: 92\n"
     ]
    },
    {
     "data": {
      "application/vnd.jupyter.widget-view+json": {
       "model_id": "f50bc70e89134236aaf54dbf8b711c7d",
       "version_major": 2,
       "version_minor": 0
      },
      "text/plain": [
       "  0%|          | 0/5 [00:00<?, ?it/s]"
      ]
     },
     "metadata": {},
     "output_type": "display_data"
    },
    {
     "name": "stdout",
     "output_type": "stream",
     "text": [
      "Ave Loss: 0.4385205626487732\n",
      "Epoch: 93\n"
     ]
    },
    {
     "data": {
      "application/vnd.jupyter.widget-view+json": {
       "model_id": "1897be4ec8094491b44aa4edb838c62a",
       "version_major": 2,
       "version_minor": 0
      },
      "text/plain": [
       "  0%|          | 0/5 [00:00<?, ?it/s]"
      ]
     },
     "metadata": {},
     "output_type": "display_data"
    },
    {
     "name": "stdout",
     "output_type": "stream",
     "text": [
      "Ave Loss: 0.45372502207756044\n",
      "Epoch: 94\n"
     ]
    },
    {
     "data": {
      "application/vnd.jupyter.widget-view+json": {
       "model_id": "4864220503f244d8879f91280a86f467",
       "version_major": 2,
       "version_minor": 0
      },
      "text/plain": [
       "  0%|          | 0/5 [00:00<?, ?it/s]"
      ]
     },
     "metadata": {},
     "output_type": "display_data"
    },
    {
     "name": "stdout",
     "output_type": "stream",
     "text": [
      "Ave Loss: 0.433855926990509\n",
      "Epoch: 95\n"
     ]
    },
    {
     "data": {
      "application/vnd.jupyter.widget-view+json": {
       "model_id": "5ba5157eec2844829e1edac0bf8a537c",
       "version_major": 2,
       "version_minor": 0
      },
      "text/plain": [
       "  0%|          | 0/5 [00:00<?, ?it/s]"
      ]
     },
     "metadata": {},
     "output_type": "display_data"
    },
    {
     "name": "stdout",
     "output_type": "stream",
     "text": [
      "Ave Loss: 0.4404818296432495\n",
      "Epoch: 96\n"
     ]
    },
    {
     "data": {
      "application/vnd.jupyter.widget-view+json": {
       "model_id": "04bf02e5d86446c2b78bf1a681b47e4f",
       "version_major": 2,
       "version_minor": 0
      },
      "text/plain": [
       "  0%|          | 0/5 [00:00<?, ?it/s]"
      ]
     },
     "metadata": {},
     "output_type": "display_data"
    },
    {
     "name": "stdout",
     "output_type": "stream",
     "text": [
      "Ave Loss: 0.4619943916797638\n",
      "Epoch: 97\n"
     ]
    },
    {
     "data": {
      "application/vnd.jupyter.widget-view+json": {
       "model_id": "2bc48306908c4481be56b4b6571f876c",
       "version_major": 2,
       "version_minor": 0
      },
      "text/plain": [
       "  0%|          | 0/5 [00:00<?, ?it/s]"
      ]
     },
     "metadata": {},
     "output_type": "display_data"
    },
    {
     "name": "stdout",
     "output_type": "stream",
     "text": [
      "Ave Loss: 0.5167156517505646\n",
      "Epoch: 98\n"
     ]
    },
    {
     "data": {
      "application/vnd.jupyter.widget-view+json": {
       "model_id": "2ac9a7255a784b3cb8b447540123f528",
       "version_major": 2,
       "version_minor": 0
      },
      "text/plain": [
       "  0%|          | 0/5 [00:00<?, ?it/s]"
      ]
     },
     "metadata": {},
     "output_type": "display_data"
    },
    {
     "name": "stdout",
     "output_type": "stream",
     "text": [
      "Ave Loss: 0.44137722849845884\n",
      "Epoch: 99\n"
     ]
    },
    {
     "data": {
      "application/vnd.jupyter.widget-view+json": {
       "model_id": "ddca6f8c18ec401d9f3ade216b10afda",
       "version_major": 2,
       "version_minor": 0
      },
      "text/plain": [
       "  0%|          | 0/5 [00:00<?, ?it/s]"
      ]
     },
     "metadata": {},
     "output_type": "display_data"
    },
    {
     "name": "stdout",
     "output_type": "stream",
     "text": [
      "Ave Loss: 0.4983712792396545\n"
     ]
    }
   ],
   "source": [
    "epochs = 100\n",
    "losses = []\n",
    "\n",
    "for epoch in range(epochs):\n",
    "    print(\"Epoch: {}\".format(epoch))\n",
    "\n",
    "    ave_loss = train_fn(train_loader, model_va, optimizer_va, loss_fn, batch_size)\n",
    "\n",
    "    losses.append(ave_loss)\n",
    "\n",
    "    print(\"Ave Loss: {}\".format(ave_loss))\n",
    "\n",
    "    state = {\"state_dict\": model.state_dict()}\n",
    "\n",
    "    torch.save(state, \"./models/variational-autoencoder-images.pth\")"
   ]
  },
  {
   "cell_type": "code",
   "execution_count": 27,
   "metadata": {},
   "outputs": [
    {
     "data": {
      "image/png": "[encoded data removed]",
      "text/plain": [
       "<Figure size 640x480 with 1 Axes>"
      ]
     },
     "metadata": {},
     "output_type": "display_data"
    }
   ],
   "source": [
    "plt.plot(losses, label=\"loss\", color=\"red\")\n",
    "plt.title(\"Training Evaluation\", fontsize=14)\n",
    "plt.xlabel(\"Epoch\", fontsize=14)\n",
    "plt.ylabel(\"Error Value\", fontsize=14)\n",
    "plt.grid(True)\n",
    "plt.legend()\n",
    "plt.show()"
   ]
  },
  {
   "attachments": {},
   "cell_type": "markdown",
   "metadata": {},
   "source": [
    "#### **Generating new samples**\n",
    "\n",
    "With Variational Autoencoder, we are concerned with the **reconstruction** or the **output**. It is the product of the learned ***mean*** and ***variance*** of the trained network.\n",
    "\n",
    "We will use the **sample()** function of our VariationalAutoencoder class, to create new samples using the trained weights learned by our network.\n",
    "\n",
    "Example:"
   ]
  },
  {
   "cell_type": "code",
   "execution_count": 28,
   "metadata": {},
   "outputs": [
    {
     "name": "stdout",
     "output_type": "stream",
     "text": [
      "tensor([[0., 0., 0., 0., 0., 0., 0., 0.]])\n"
     ]
    },
    {
     "name": "stderr",
     "output_type": "stream",
     "text": [
      "C:\\Users\\acer\\AppData\\Local\\Temp\\ipykernel_5420\\2682959314.py:2: UserWarning: Creating a tensor from a list of numpy.ndarrays is extremely slow. Please consider converting the list to a single numpy.ndarray with numpy.array() before converting to a tensor. (Triggered internally at C:\\actions-runner\\_work\\pytorch\\pytorch\\builder\\windows\\pytorch\\torch\\csrc\\utils\\tensor_new.cpp:248.)\n",
      "  sampled_mu = torch.Tensor([np.zeros(num_features)])\n"
     ]
    },
    {
     "data": {
      "text/plain": [
       "torch.Size([1, 8])"
      ]
     },
     "execution_count": 28,
     "metadata": {},
     "output_type": "execute_result"
    }
   ],
   "source": [
    "# Create a vector of zero tensors representing 0 average per num_feature (right in the middle of the dist)\n",
    "sampled_mu = torch.Tensor([np.zeros(num_features)])\n",
    "\n",
    "# Create a vector of zero tensors representing 0 standard deviations away from the mean to create variations\n",
    "# Change this is you want to sample away from the mean to create \"off-quality\" data\n",
    "# Example: we add a log-variance of 3 to all features\n",
    "# sampled_logvar = torch.Tensor([np.zeros(num_features) + 3])\n",
    "sampled_logvar = torch.Tensor([np.zeros(num_features)])\n",
    "\n",
    "print(sampled_logvar)\n",
    "\n",
    "sampled_logvar.shape\n"
   ]
  },
  {
   "attachments": {},
   "cell_type": "markdown",
   "metadata": {},
   "source": [
    "We created two vectors, `sampled_mu` and `sampled_logvar`. `sampled_mu` is a vector of `zeros` which means we want to create a sample which is exactly where the **learned mean** is in the approximate distribution. `sampled_logvar` is a vector of `zeros` because we do not want variation in the sample we want to create. In short, we want to create samples that are **as close as possible** to our original data, based on the learned distribution. We will pass it to our **sample()** function."
   ]
  },
  {
   "cell_type": "code",
   "execution_count": 29,
   "metadata": {},
   "outputs": [
    {
     "data": {
      "text/plain": [
       "<matplotlib.image.AxesImage at 0x2937ad45dc0>"
      ]
     },
     "execution_count": 29,
     "metadata": {},
     "output_type": "execute_result"
    },
    {
     "data": {
      "image/png": "[encoded data removed]",
      "text/plain": [
       "<Figure size 640x480 with 1 Axes>"
      ]
     },
     "metadata": {},
     "output_type": "display_data"
    }
   ],
   "source": [
    "# Grab a reconstructed sample from the trained model\n",
    "# NOTE: reconstruction returns as an array because it's possible to have multiple predictions later on\n",
    "reconstruction = model_va.sample(sampled_mu, sampled_logvar)\n",
    "\n",
    "# Sample the first reconstructed sample\n",
    "reconstructed_image = reconstruction[0].detach().cpu().numpy()\n",
    "reconstructed_image = reconstructed_image.reshape(img_width, img_height)\n",
    "plt.imshow(reconstructed_image)\n"
   ]
  },
  {
   "attachments": {},
   "cell_type": "markdown",
   "metadata": {},
   "source": [
    "#### **B. Addressing Class Imbalance**\n",
    "\n",
    "Most of the time when we are dealing with classification type of problems, the distribution of records between one class from the other or among classes are biased towards a certain class. Thus, we have a majority and a minority in our dataset.\n",
    "\n",
    "A model trained from an imbalanced distribution tends to be bias towards the majority class. For example, we have a binary classification problem of Customer Churn. However, 90% of the records in our dataset our people who are not churning, and only 10% of people who churn. If we just predicted that all customers will not churn, we will be 90% accurate. Thus, we need to address first the problem of class imbalance before we attempt creating a model.\n",
    "\n",
    "Common methods used in machine learning for addressing class imbalance are **oversampling** the minority class, **undersampling** the majority class, and **SMOTE**, or Synthetic Minority Oversampling Technique. SMOTE works by randomly choosing an example from the minority class. Then **k** of the nearest neighbors for that example are found (typically k=5). A randomly selected neighbor is chosen and a synthetic example is created at a randomly selected point between the two examples in feature space.\n",
    "\n",
    "However these methods have their own disadvantages and introduce bias to the dataset. SMOTE in particular creates examples without considering the majority class, possibly resulting in ambiguous examples if there is a strong overlap for the classes."
   ]
  },
  {
   "attachments": {},
   "cell_type": "markdown",
   "metadata": {},
   "source": [
    "**Reading and inspecting our dataset**"
   ]
  },
  {
   "cell_type": "code",
   "execution_count": 30,
   "metadata": {},
   "outputs": [],
   "source": [
    "import pandas as pd\n",
    "from sklearn.model_selection import train_test_split\n",
    "import math\n",
    "import numpy as np\n",
    "import matplotlib.pyplot as plt\n",
    "from sklearn.metrics import accuracy_score\n",
    "import random\n",
    "import torch.optim as optim\n",
    "from tqdm import tqdm\n",
    "import torch\n",
    "import torch.nn as nn\n",
    "from torch.utils.data import Dataset, DataLoader\n",
    "import cv2  # pip install opencv-python"
   ]
  },
  {
   "cell_type": "code",
   "execution_count": 31,
   "metadata": {},
   "outputs": [
    {
     "data": {
      "text/html": [
       "<div>\n",
       "<style scoped>\n",
       "    .dataframe tbody tr th:only-of-type {\n",
       "        vertical-align: middle;\n",
       "    }\n",
       "\n",
       "    .dataframe tbody tr th {\n",
       "        vertical-align: top;\n",
       "    }\n",
       "\n",
       "    .dataframe thead th {\n",
       "        text-align: right;\n",
       "    }\n",
       "</style>\n",
       "<table border=\"1\" class=\"dataframe\">\n",
       "  <thead>\n",
       "    <tr style=\"text-align: right;\">\n",
       "      <th></th>\n",
       "      <th>0</th>\n",
       "      <th>1</th>\n",
       "      <th>2</th>\n",
       "      <th>3</th>\n",
       "      <th>4</th>\n",
       "      <th>5</th>\n",
       "      <th>6</th>\n",
       "      <th>7</th>\n",
       "      <th>8</th>\n",
       "      <th>9</th>\n",
       "      <th>...</th>\n",
       "      <th>22</th>\n",
       "      <th>23</th>\n",
       "      <th>24</th>\n",
       "      <th>25</th>\n",
       "      <th>26</th>\n",
       "      <th>27</th>\n",
       "      <th>28</th>\n",
       "      <th>29</th>\n",
       "      <th>30</th>\n",
       "      <th>31</th>\n",
       "    </tr>\n",
       "  </thead>\n",
       "  <tbody>\n",
       "    <tr>\n",
       "      <th>0</th>\n",
       "      <td>842302</td>\n",
       "      <td>M</td>\n",
       "      <td>17.99</td>\n",
       "      <td>10.38</td>\n",
       "      <td>122.80</td>\n",
       "      <td>1001.0</td>\n",
       "      <td>0.11840</td>\n",
       "      <td>0.27760</td>\n",
       "      <td>0.30010</td>\n",
       "      <td>0.14710</td>\n",
       "      <td>...</td>\n",
       "      <td>25.380</td>\n",
       "      <td>17.33</td>\n",
       "      <td>184.60</td>\n",
       "      <td>2019.0</td>\n",
       "      <td>0.16220</td>\n",
       "      <td>0.66560</td>\n",
       "      <td>0.7119</td>\n",
       "      <td>0.2654</td>\n",
       "      <td>0.4601</td>\n",
       "      <td>0.11890</td>\n",
       "    </tr>\n",
       "    <tr>\n",
       "      <th>1</th>\n",
       "      <td>842517</td>\n",
       "      <td>M</td>\n",
       "      <td>20.57</td>\n",
       "      <td>17.77</td>\n",
       "      <td>132.90</td>\n",
       "      <td>1326.0</td>\n",
       "      <td>0.08474</td>\n",
       "      <td>0.07864</td>\n",
       "      <td>0.08690</td>\n",
       "      <td>0.07017</td>\n",
       "      <td>...</td>\n",
       "      <td>24.990</td>\n",
       "      <td>23.41</td>\n",
       "      <td>158.80</td>\n",
       "      <td>1956.0</td>\n",
       "      <td>0.12380</td>\n",
       "      <td>0.18660</td>\n",
       "      <td>0.2416</td>\n",
       "      <td>0.1860</td>\n",
       "      <td>0.2750</td>\n",
       "      <td>0.08902</td>\n",
       "    </tr>\n",
       "    <tr>\n",
       "      <th>2</th>\n",
       "      <td>84300903</td>\n",
       "      <td>M</td>\n",
       "      <td>19.69</td>\n",
       "      <td>21.25</td>\n",
       "      <td>130.00</td>\n",
       "      <td>1203.0</td>\n",
       "      <td>0.10960</td>\n",
       "      <td>0.15990</td>\n",
       "      <td>0.19740</td>\n",
       "      <td>0.12790</td>\n",
       "      <td>...</td>\n",
       "      <td>23.570</td>\n",
       "      <td>25.53</td>\n",
       "      <td>152.50</td>\n",
       "      <td>1709.0</td>\n",
       "      <td>0.14440</td>\n",
       "      <td>0.42450</td>\n",
       "      <td>0.4504</td>\n",
       "      <td>0.2430</td>\n",
       "      <td>0.3613</td>\n",
       "      <td>0.08758</td>\n",
       "    </tr>\n",
       "    <tr>\n",
       "      <th>3</th>\n",
       "      <td>84348301</td>\n",
       "      <td>M</td>\n",
       "      <td>11.42</td>\n",
       "      <td>20.38</td>\n",
       "      <td>77.58</td>\n",
       "      <td>386.1</td>\n",
       "      <td>0.14250</td>\n",
       "      <td>0.28390</td>\n",
       "      <td>0.24140</td>\n",
       "      <td>0.10520</td>\n",
       "      <td>...</td>\n",
       "      <td>14.910</td>\n",
       "      <td>26.50</td>\n",
       "      <td>98.87</td>\n",
       "      <td>567.7</td>\n",
       "      <td>0.20980</td>\n",
       "      <td>0.86630</td>\n",
       "      <td>0.6869</td>\n",
       "      <td>0.2575</td>\n",
       "      <td>0.6638</td>\n",
       "      <td>0.17300</td>\n",
       "    </tr>\n",
       "    <tr>\n",
       "      <th>4</th>\n",
       "      <td>84358402</td>\n",
       "      <td>M</td>\n",
       "      <td>20.29</td>\n",
       "      <td>14.34</td>\n",
       "      <td>135.10</td>\n",
       "      <td>1297.0</td>\n",
       "      <td>0.10030</td>\n",
       "      <td>0.13280</td>\n",
       "      <td>0.19800</td>\n",
       "      <td>0.10430</td>\n",
       "      <td>...</td>\n",
       "      <td>22.540</td>\n",
       "      <td>16.67</td>\n",
       "      <td>152.20</td>\n",
       "      <td>1575.0</td>\n",
       "      <td>0.13740</td>\n",
       "      <td>0.20500</td>\n",
       "      <td>0.4000</td>\n",
       "      <td>0.1625</td>\n",
       "      <td>0.2364</td>\n",
       "      <td>0.07678</td>\n",
       "    </tr>\n",
       "    <tr>\n",
       "      <th>...</th>\n",
       "      <td>...</td>\n",
       "      <td>...</td>\n",
       "      <td>...</td>\n",
       "      <td>...</td>\n",
       "      <td>...</td>\n",
       "      <td>...</td>\n",
       "      <td>...</td>\n",
       "      <td>...</td>\n",
       "      <td>...</td>\n",
       "      <td>...</td>\n",
       "      <td>...</td>\n",
       "      <td>...</td>\n",
       "      <td>...</td>\n",
       "      <td>...</td>\n",
       "      <td>...</td>\n",
       "      <td>...</td>\n",
       "      <td>...</td>\n",
       "      <td>...</td>\n",
       "      <td>...</td>\n",
       "      <td>...</td>\n",
       "      <td>...</td>\n",
       "    </tr>\n",
       "    <tr>\n",
       "      <th>564</th>\n",
       "      <td>926424</td>\n",
       "      <td>M</td>\n",
       "      <td>21.56</td>\n",
       "      <td>22.39</td>\n",
       "      <td>142.00</td>\n",
       "      <td>1479.0</td>\n",
       "      <td>0.11100</td>\n",
       "      <td>0.11590</td>\n",
       "      <td>0.24390</td>\n",
       "      <td>0.13890</td>\n",
       "      <td>...</td>\n",
       "      <td>25.450</td>\n",
       "      <td>26.40</td>\n",
       "      <td>166.10</td>\n",
       "      <td>2027.0</td>\n",
       "      <td>0.14100</td>\n",
       "      <td>0.21130</td>\n",
       "      <td>0.4107</td>\n",
       "      <td>0.2216</td>\n",
       "      <td>0.2060</td>\n",
       "      <td>0.07115</td>\n",
       "    </tr>\n",
       "    <tr>\n",
       "      <th>565</th>\n",
       "      <td>926682</td>\n",
       "      <td>M</td>\n",
       "      <td>20.13</td>\n",
       "      <td>28.25</td>\n",
       "      <td>131.20</td>\n",
       "      <td>1261.0</td>\n",
       "      <td>0.09780</td>\n",
       "      <td>0.10340</td>\n",
       "      <td>0.14400</td>\n",
       "      <td>0.09791</td>\n",
       "      <td>...</td>\n",
       "      <td>23.690</td>\n",
       "      <td>38.25</td>\n",
       "      <td>155.00</td>\n",
       "      <td>1731.0</td>\n",
       "      <td>0.11660</td>\n",
       "      <td>0.19220</td>\n",
       "      <td>0.3215</td>\n",
       "      <td>0.1628</td>\n",
       "      <td>0.2572</td>\n",
       "      <td>0.06637</td>\n",
       "    </tr>\n",
       "    <tr>\n",
       "      <th>566</th>\n",
       "      <td>926954</td>\n",
       "      <td>M</td>\n",
       "      <td>16.60</td>\n",
       "      <td>28.08</td>\n",
       "      <td>108.30</td>\n",
       "      <td>858.1</td>\n",
       "      <td>0.08455</td>\n",
       "      <td>0.10230</td>\n",
       "      <td>0.09251</td>\n",
       "      <td>0.05302</td>\n",
       "      <td>...</td>\n",
       "      <td>18.980</td>\n",
       "      <td>34.12</td>\n",
       "      <td>126.70</td>\n",
       "      <td>1124.0</td>\n",
       "      <td>0.11390</td>\n",
       "      <td>0.30940</td>\n",
       "      <td>0.3403</td>\n",
       "      <td>0.1418</td>\n",
       "      <td>0.2218</td>\n",
       "      <td>0.07820</td>\n",
       "    </tr>\n",
       "    <tr>\n",
       "      <th>567</th>\n",
       "      <td>927241</td>\n",
       "      <td>M</td>\n",
       "      <td>20.60</td>\n",
       "      <td>29.33</td>\n",
       "      <td>140.10</td>\n",
       "      <td>1265.0</td>\n",
       "      <td>0.11780</td>\n",
       "      <td>0.27700</td>\n",
       "      <td>0.35140</td>\n",
       "      <td>0.15200</td>\n",
       "      <td>...</td>\n",
       "      <td>25.740</td>\n",
       "      <td>39.42</td>\n",
       "      <td>184.60</td>\n",
       "      <td>1821.0</td>\n",
       "      <td>0.16500</td>\n",
       "      <td>0.86810</td>\n",
       "      <td>0.9387</td>\n",
       "      <td>0.2650</td>\n",
       "      <td>0.4087</td>\n",
       "      <td>0.12400</td>\n",
       "    </tr>\n",
       "    <tr>\n",
       "      <th>568</th>\n",
       "      <td>92751</td>\n",
       "      <td>B</td>\n",
       "      <td>7.76</td>\n",
       "      <td>24.54</td>\n",
       "      <td>47.92</td>\n",
       "      <td>181.0</td>\n",
       "      <td>0.05263</td>\n",
       "      <td>0.04362</td>\n",
       "      <td>0.00000</td>\n",
       "      <td>0.00000</td>\n",
       "      <td>...</td>\n",
       "      <td>9.456</td>\n",
       "      <td>30.37</td>\n",
       "      <td>59.16</td>\n",
       "      <td>268.6</td>\n",
       "      <td>0.08996</td>\n",
       "      <td>0.06444</td>\n",
       "      <td>0.0000</td>\n",
       "      <td>0.0000</td>\n",
       "      <td>0.2871</td>\n",
       "      <td>0.07039</td>\n",
       "    </tr>\n",
       "  </tbody>\n",
       "</table>\n",
       "<p>569 rows × 32 columns</p>\n",
       "</div>"
      ],
      "text/plain": [
       "           0  1      2      3       4       5        6        7        8   \\\n",
       "0      842302  M  17.99  10.38  122.80  1001.0  0.11840  0.27760  0.30010   \n",
       "1      842517  M  20.57  17.77  132.90  1326.0  0.08474  0.07864  0.08690   \n",
       "2    84300903  M  19.69  21.25  130.00  1203.0  0.10960  0.15990  0.19740   \n",
       "3    84348301  M  11.42  20.38   77.58   386.1  0.14250  0.28390  0.24140   \n",
       "4    84358402  M  20.29  14.34  135.10  1297.0  0.10030  0.13280  0.19800   \n",
       "..        ... ..    ...    ...     ...     ...      ...      ...      ...   \n",
       "564    926424  M  21.56  22.39  142.00  1479.0  0.11100  0.11590  0.24390   \n",
       "565    926682  M  20.13  28.25  131.20  1261.0  0.09780  0.10340  0.14400   \n",
       "566    926954  M  16.60  28.08  108.30   858.1  0.08455  0.10230  0.09251   \n",
       "567    927241  M  20.60  29.33  140.10  1265.0  0.11780  0.27700  0.35140   \n",
       "568     92751  B   7.76  24.54   47.92   181.0  0.05263  0.04362  0.00000   \n",
       "\n",
       "          9   ...      22     23      24      25       26       27      28  \\\n",
       "0    0.14710  ...  25.380  17.33  184.60  2019.0  0.16220  0.66560  0.7119   \n",
       "1    0.07017  ...  24.990  23.41  158.80  1956.0  0.12380  0.18660  0.2416   \n",
       "2    0.12790  ...  23.570  25.53  152.50  1709.0  0.14440  0.42450  0.4504   \n",
       "3    0.10520  ...  14.910  26.50   98.87   567.7  0.20980  0.86630  0.6869   \n",
       "4    0.10430  ...  22.540  16.67  152.20  1575.0  0.13740  0.20500  0.4000   \n",
       "..       ...  ...     ...    ...     ...     ...      ...      ...     ...   \n",
       "564  0.13890  ...  25.450  26.40  166.10  2027.0  0.14100  0.21130  0.4107   \n",
       "565  0.09791  ...  23.690  38.25  155.00  1731.0  0.11660  0.19220  0.3215   \n",
       "566  0.05302  ...  18.980  34.12  126.70  1124.0  0.11390  0.30940  0.3403   \n",
       "567  0.15200  ...  25.740  39.42  184.60  1821.0  0.16500  0.86810  0.9387   \n",
       "568  0.00000  ...   9.456  30.37   59.16   268.6  0.08996  0.06444  0.0000   \n",
       "\n",
       "         29      30       31  \n",
       "0    0.2654  0.4601  0.11890  \n",
       "1    0.1860  0.2750  0.08902  \n",
       "2    0.2430  0.3613  0.08758  \n",
       "3    0.2575  0.6638  0.17300  \n",
       "4    0.1625  0.2364  0.07678  \n",
       "..      ...     ...      ...  \n",
       "564  0.2216  0.2060  0.07115  \n",
       "565  0.1628  0.2572  0.06637  \n",
       "566  0.1418  0.2218  0.07820  \n",
       "567  0.2650  0.4087  0.12400  \n",
       "568  0.0000  0.2871  0.07039  \n",
       "\n",
       "[569 rows x 32 columns]"
      ]
     },
     "execution_count": 31,
     "metadata": {},
     "output_type": "execute_result"
    }
   ],
   "source": [
    "df_raw = pd.read_csv(\"./data/wdbc.csv\", header=None)\n",
    "df_raw\n"
   ]
  },
  {
   "attachments": {},
   "cell_type": "markdown",
   "metadata": {},
   "source": [
    "**Checking the balance of our distribution**"
   ]
  },
  {
   "cell_type": "code",
   "execution_count": 32,
   "metadata": {},
   "outputs": [
    {
     "name": "stdout",
     "output_type": "stream",
     "text": [
      "B    0.627417\n",
      "M    0.372583\n",
      "Name: 1, dtype: float64\n"
     ]
    }
   ],
   "source": [
    "print(df_raw[1].value_counts(normalize=True))\n"
   ]
  },
  {
   "attachments": {},
   "cell_type": "markdown",
   "metadata": {},
   "source": [
    "Our target variable is binary, with values **B** for benign and **M** for malignant. **B** is the majority class with 62.74% and **M** is the minority class which is 37.26% of the dataset. "
   ]
  },
  {
   "attachments": {},
   "cell_type": "markdown",
   "metadata": {},
   "source": [
    "**Target variable**"
   ]
  },
  {
   "cell_type": "code",
   "execution_count": 33,
   "metadata": {},
   "outputs": [
    {
     "data": {
      "text/plain": [
       "array(['M', 'M', 'M', 'M', 'M', 'M', 'M', 'M', 'M', 'M', 'M', 'M', 'M',\n",
       "       'M', 'M', 'M', 'M', 'M', 'M', 'B', 'B', 'B', 'M', 'M', 'M', 'M',\n",
       "       'M', 'M', 'M', 'M', 'M', 'M', 'M', 'M', 'M', 'M', 'M', 'B', 'M',\n",
       "       'M', 'M', 'M', 'M', 'M', 'M', 'M', 'B', 'M', 'B', 'B', 'B', 'B',\n",
       "       'B', 'M', 'M', 'B', 'M', 'M', 'B', 'B', 'B', 'B', 'M', 'B', 'M',\n",
       "       'M', 'B', 'B', 'B', 'B', 'M', 'B', 'M', 'M', 'B', 'M', 'B', 'M',\n",
       "       'M', 'B', 'B', 'B', 'M', 'M', 'B', 'M', 'M', 'M', 'B', 'B', 'B',\n",
       "       'M', 'B', 'B', 'M', 'M', 'B', 'B', 'B', 'M', 'M', 'B', 'B', 'B',\n",
       "       'B', 'M', 'B', 'B', 'M', 'B', 'B', 'B', 'B', 'B', 'B', 'B', 'B',\n",
       "       'M', 'M', 'M', 'B', 'M', 'M', 'B', 'B', 'B', 'M', 'M', 'B', 'M',\n",
       "       'B', 'M', 'M', 'B', 'M', 'M', 'B', 'B', 'M', 'B', 'B', 'M', 'B',\n",
       "       'B', 'B', 'B', 'M', 'B', 'B', 'B', 'B', 'B', 'B', 'B', 'B', 'B',\n",
       "       'M', 'B', 'B', 'B', 'B', 'M', 'M', 'B', 'M', 'B', 'B', 'M', 'M',\n",
       "       'B', 'B', 'M', 'M', 'B', 'B', 'B', 'B', 'M', 'B', 'B', 'M', 'M',\n",
       "       'M', 'B', 'M', 'B', 'M', 'B', 'B', 'B', 'M', 'B', 'B', 'M', 'M',\n",
       "       'B', 'M', 'M', 'M', 'M', 'B', 'M', 'M', 'M', 'B', 'M', 'B', 'M',\n",
       "       'B', 'B', 'M', 'B', 'M', 'M', 'M', 'M', 'B', 'B', 'M', 'M', 'B',\n",
       "       'B', 'B', 'M', 'B', 'B', 'B', 'B', 'B', 'M', 'M', 'B', 'B', 'M',\n",
       "       'B', 'B', 'M', 'M', 'B', 'M', 'B', 'B', 'B', 'B', 'M', 'B', 'B',\n",
       "       'B', 'B', 'B', 'M', 'B', 'M', 'M', 'M', 'M', 'M', 'M', 'M', 'M',\n",
       "       'M', 'M', 'M', 'M', 'M', 'M', 'B', 'B', 'B', 'B', 'B', 'B', 'M',\n",
       "       'B', 'M', 'B', 'B', 'M', 'B', 'B', 'M', 'B', 'M', 'M', 'B', 'B',\n",
       "       'B', 'B', 'B', 'B', 'B', 'B', 'B', 'B', 'B', 'B', 'B', 'M', 'B',\n",
       "       'B', 'M', 'B', 'M', 'B', 'B', 'B', 'B', 'B', 'B', 'B', 'B', 'B',\n",
       "       'B', 'B', 'B', 'B', 'B', 'M', 'B', 'B', 'B', 'M', 'B', 'M', 'B',\n",
       "       'B', 'B', 'B', 'M', 'M', 'M', 'B', 'B', 'B', 'B', 'M', 'B', 'M',\n",
       "       'B', 'M', 'B', 'B', 'B', 'M', 'B', 'B', 'B', 'B', 'B', 'B', 'B',\n",
       "       'M', 'M', 'M', 'B', 'B', 'B', 'B', 'B', 'B', 'B', 'B', 'B', 'B',\n",
       "       'B', 'M', 'M', 'B', 'M', 'M', 'M', 'B', 'M', 'M', 'B', 'B', 'B',\n",
       "       'B', 'B', 'M', 'B', 'B', 'B', 'B', 'B', 'M', 'B', 'B', 'B', 'M',\n",
       "       'B', 'B', 'M', 'M', 'B', 'B', 'B', 'B', 'B', 'B', 'M', 'B', 'B',\n",
       "       'B', 'B', 'B', 'B', 'B', 'M', 'B', 'B', 'B', 'B', 'B', 'M', 'B',\n",
       "       'B', 'M', 'B', 'B', 'B', 'B', 'B', 'B', 'B', 'B', 'B', 'B', 'B',\n",
       "       'B', 'M', 'B', 'M', 'M', 'B', 'M', 'B', 'B', 'B', 'B', 'B', 'M',\n",
       "       'B', 'B', 'M', 'B', 'M', 'B', 'B', 'M', 'B', 'M', 'B', 'B', 'B',\n",
       "       'B', 'B', 'B', 'B', 'B', 'M', 'M', 'B', 'B', 'B', 'B', 'B', 'B',\n",
       "       'M', 'B', 'B', 'B', 'B', 'B', 'B', 'B', 'B', 'B', 'B', 'M', 'B',\n",
       "       'B', 'B', 'B', 'B', 'B', 'B', 'M', 'B', 'M', 'B', 'B', 'M', 'B',\n",
       "       'B', 'B', 'B', 'B', 'M', 'M', 'B', 'M', 'B', 'M', 'B', 'B', 'B',\n",
       "       'B', 'B', 'M', 'B', 'B', 'M', 'B', 'M', 'B', 'M', 'M', 'B', 'B',\n",
       "       'B', 'M', 'B', 'B', 'B', 'B', 'B', 'B', 'B', 'B', 'B', 'B', 'B',\n",
       "       'M', 'B', 'M', 'M', 'B', 'B', 'B', 'B', 'B', 'B', 'B', 'B', 'B',\n",
       "       'B', 'B', 'B', 'B', 'B', 'B', 'B', 'B', 'B', 'B', 'B', 'B', 'B',\n",
       "       'B', 'B', 'B', 'M', 'M', 'M', 'M', 'M', 'M', 'B'], dtype=object)"
      ]
     },
     "execution_count": 33,
     "metadata": {},
     "output_type": "execute_result"
    }
   ],
   "source": [
    "y = df_raw.iloc[:, 1].values\n",
    "y"
   ]
  },
  {
   "attachments": {},
   "cell_type": "markdown",
   "metadata": {},
   "source": [
    "**Normalizing our Features**"
   ]
  },
  {
   "cell_type": "code",
   "execution_count": 34,
   "metadata": {},
   "outputs": [
    {
     "data": {
      "text/plain": [
       "array([[0.52103744, 0.0226581 , 0.54598853, ..., 0.91202749, 0.59846245,\n",
       "        0.41886396],\n",
       "       [0.64314449, 0.27257355, 0.61578329, ..., 0.63917526, 0.23358959,\n",
       "        0.22287813],\n",
       "       [0.60149557, 0.3902604 , 0.59574321, ..., 0.83505155, 0.40370589,\n",
       "        0.21343303],\n",
       "       ...,\n",
       "       [0.45525108, 0.62123774, 0.44578813, ..., 0.48728522, 0.12872068,\n",
       "        0.1519087 ],\n",
       "       [0.64456434, 0.66351031, 0.66553797, ..., 0.91065292, 0.49714173,\n",
       "        0.45231536],\n",
       "       [0.03686876, 0.50152181, 0.02853984, ..., 0.        , 0.25744136,\n",
       "        0.10068215]])"
      ]
     },
     "execution_count": 34,
     "metadata": {},
     "output_type": "execute_result"
    }
   ],
   "source": [
    "x = df_raw.iloc[:, 2:]\n",
    "x = (x - x.min()) / (x.max() - x.min())\n",
    "x = x.values\n",
    "x"
   ]
  },
  {
   "attachments": {},
   "cell_type": "markdown",
   "metadata": {},
   "source": [
    "**Combining our features and the target column in one 2d array**"
   ]
  },
  {
   "cell_type": "code",
   "execution_count": 35,
   "metadata": {},
   "outputs": [
    {
     "data": {
      "text/plain": [
       "array([[0.5210374366983767, 0.022658099425092997, 0.5459885287817012,\n",
       "        ..., 0.5984624482554701, 0.4188639643185098, 'M'],\n",
       "       [0.6431444933503716, 0.2725735542779844, 0.6157832907193699, ...,\n",
       "        0.2335895919574217, 0.2228781319690411, 'M'],\n",
       "       [0.6014955748024045, 0.39026039905309434, 0.5957432105590491, ...,\n",
       "        0.40370589394835404, 0.21343303161484986, 'M'],\n",
       "       ...,\n",
       "       [0.45525107671920123, 0.6212377409536691, 0.44578812798009804,\n",
       "        ..., 0.12872067809974375, 0.1519086973632429, 'M'],\n",
       "       [0.6445643428463251, 0.6635103145079472, 0.6655379724967175, ...,\n",
       "        0.4971417307313227, 0.4523153614062705, 'M'],\n",
       "       [0.036868758578257374, 0.5015218126479539, 0.02853983829728424,\n",
       "        ..., 0.25744135619948755, 0.10068214613669157, 'B']], dtype=object)"
      ]
     },
     "execution_count": 35,
     "metadata": {},
     "output_type": "execute_result"
    }
   ],
   "source": [
    "df = np.column_stack([x, y])\n",
    "df"
   ]
  },
  {
   "attachments": {},
   "cell_type": "markdown",
   "metadata": {},
   "source": [
    "**Splitting the dataset**"
   ]
  },
  {
   "cell_type": "code",
   "execution_count": 36,
   "metadata": {},
   "outputs": [],
   "source": [
    "df_train, df_test = train_test_split(df, test_size=0.2, random_state=1, shuffle=True)\n"
   ]
  },
  {
   "attachments": {},
   "cell_type": "markdown",
   "metadata": {},
   "source": [
    "**Separating the minority class from our training set**"
   ]
  },
  {
   "cell_type": "code",
   "execution_count": 37,
   "metadata": {},
   "outputs": [
    {
     "data": {
      "text/plain": [
       "170"
      ]
     },
     "execution_count": 37,
     "metadata": {},
     "output_type": "execute_result"
    }
   ],
   "source": [
    "df_train_minority = df_train[df_train[:, -1] == \"M\"]\n",
    "len(df_train_minority)"
   ]
  },
  {
   "cell_type": "code",
   "execution_count": 38,
   "metadata": {},
   "outputs": [
    {
     "data": {
      "text/plain": [
       "285"
      ]
     },
     "execution_count": 38,
     "metadata": {},
     "output_type": "execute_result"
    }
   ],
   "source": [
    "df_train_majority = df_train[df_train[:, -1] == \"B\"]\n",
    "len(df_train_majority)"
   ]
  },
  {
   "attachments": {},
   "cell_type": "markdown",
   "metadata": {},
   "source": [
    "Our minority class **M** is **115 records** less than our majority class **B**. Our goal is to create 115 new records in order to balance our distribution."
   ]
  },
  {
   "cell_type": "code",
   "execution_count": 39,
   "metadata": {},
   "outputs": [],
   "source": [
    "x_train = df_train[:, :-1].astype(float)\n",
    "x_train = torch.Tensor(x_train)\n",
    "\n",
    "y_train = pd.get_dummies(df_train[:, -1]).values\n",
    "y_train = torch.Tensor(y_train)\n",
    "\n",
    "x_train_minority = df_train_minority[:, :-1].astype(float)\n",
    "x_train_minority = torch.Tensor(x_train_minority)\n",
    "\n",
    "x_test = df_test[:, :-1].astype(float)\n",
    "y_test = pd.get_dummies(df_test[:, -1]).values"
   ]
  },
  {
   "attachments": {},
   "cell_type": "markdown",
   "metadata": {},
   "source": [
    "#### **Applying Variational Autoencoder on the Minority class**"
   ]
  },
  {
   "cell_type": "code",
   "execution_count": 40,
   "metadata": {},
   "outputs": [],
   "source": [
    "# Source: https://debuggercafe.com/getting-started-with-variational-autoencoder-using-pytorch/\n",
    "class VariationalAutoencoderBCD(nn.Module):\n",
    "    def __init__(self, num_features=3, num_dim=30):\n",
    "        super().__init__()\n",
    "\n",
    "        self.num_features = num_features\n",
    "        self.num_dim = num_dim\n",
    "\n",
    "        self.encoder_layer_1 = nn.Linear(in_features=self.num_dim, out_features=15)\n",
    "        self.encoder_layer_2 = nn.Linear(\n",
    "            in_features=15, out_features=(self.num_features * 2)\n",
    "        )\n",
    "\n",
    "        self.decoder_layer_1 = nn.Linear(in_features=self.num_features, out_features=15)\n",
    "        self.decoder_layer_2 = nn.Linear(in_features=15, out_features=self.num_dim)\n",
    "\n",
    "        self.relu = nn.ReLU()  # hidden layers\n",
    "        self.sigmoid = nn.Sigmoid()  # output layer\n",
    "\n",
    "    def reparameterize(self, mu, log_var):\n",
    "        \"\"\"\n",
    "        :param mu: mean from the encoder's latent space\n",
    "        :param log_var: log variance from the encoder's latent space\n",
    "        \"\"\"\n",
    "        std = torch.exp(0.5 * log_var)  # standard deviation\n",
    "        eps = torch.randn_like(std)  # `randn_like` as we need the same size\n",
    "        sample = mu + (eps * std)  # sampling as if coming from the input space\n",
    "\n",
    "        return sample\n",
    "\n",
    "    def encode(self, x):\n",
    "        # encoding\n",
    "        # x = F.relu(self.encoder_layer_1(x))\n",
    "        x = self.encoder_layer_1(x)\n",
    "        x = self.relu(x)\n",
    "        x = self.encoder_layer_2(x).view(-1, 2, self.num_features)\n",
    "\n",
    "        # get `mu` and `log_var`\n",
    "        mu = x[:, 0, :]  # the first feature values as mean\n",
    "        log_var = x[:, 1, :]  # the other feature values as variance\n",
    "\n",
    "        # get the latent vector through reparameterization\n",
    "        z = self.reparameterize(mu, log_var)\n",
    "\n",
    "        return z, mu, log_var\n",
    "\n",
    "    def decode(self, z, mu, log_var):\n",
    "        # decoding\n",
    "        # x = F.relu(self.decoder_layer_1(z))\n",
    "        x = self.decoder_layer_1(z)\n",
    "        x = self.relu(x)\n",
    "\n",
    "        # reconstruction = torch.sigmoid(self.decoder_layer_2(x))\n",
    "        reconstruction = self.decoder_layer_2(x)\n",
    "        reconstruction = self.sigmoid(reconstruction)\n",
    "\n",
    "        return reconstruction, mu, log_var\n",
    "\n",
    "    # Utility function to generate new data based on:\n",
    "    # mu: The average that you want to have (should be the same size as num_features)\n",
    "    # log_var: The variance that you want to have (should be the same size as num_features)\n",
    "    def sample(self, mu, log_var):\n",
    "        z = self.reparameterize(mu, log_var)\n",
    "        reconstruction, mu, log_var = self.decode(z, mu, log_var)\n",
    "\n",
    "        return reconstruction\n",
    "\n",
    "    def forward(self, x):\n",
    "        z, mu, log_var = self.encode(x)\n",
    "        reconstruction, mu, log_var = self.decode(z, mu, log_var)\n",
    "\n",
    "        return reconstruction, mu, log_var"
   ]
  },
  {
   "attachments": {},
   "cell_type": "markdown",
   "metadata": {},
   "source": [
    "**Creating our custom Dataset**"
   ]
  },
  {
   "cell_type": "code",
   "execution_count": 41,
   "metadata": {},
   "outputs": [],
   "source": [
    "# Custom dataset to treat how the model picks an x, y combination from the dataset\n",
    "class VariationalAutoencoderDatasetBCD(Dataset):\n",
    "    def __init__(self, x):\n",
    "        self.x = x\n",
    "\n",
    "    def __len__(self):\n",
    "        return len(self.x)\n",
    "\n",
    "    # Requires you to return data as a pair of _x, _y\n",
    "    def __getitem__(self, index):\n",
    "        return self.x[index], self.x[index]"
   ]
  },
  {
   "attachments": {},
   "cell_type": "markdown",
   "metadata": {},
   "source": [
    "**Defining our loss function**"
   ]
  },
  {
   "cell_type": "code",
   "execution_count": 42,
   "metadata": {},
   "outputs": [],
   "source": [
    "# The final loss is a combination of the reconstruction loss (first argument) and the loss from an assumed distribution (i.e. Normal / Gaussian distribution)\n",
    "def final_loss(bce_loss, mu, logvar):\n",
    "    \"\"\"\n",
    "    This function will add the reconstruction loss (BCELoss) and the\n",
    "    KL-Divergence.\n",
    "    KL-Divergence = 0.5 * sum(1 + log(sigma^2) - mu^2 - sigma^2)\n",
    "    :param bce_loss: recontruction loss\n",
    "    :param mu: the mean from the latent vector\n",
    "    :param logvar: log variance from the latent vector\n",
    "    \"\"\"\n",
    "    BCE = bce_loss\n",
    "    KLD = -0.5 * torch.sum(1 + logvar - mu.pow(2) - logvar.exp())\n",
    "    return BCE + KLD"
   ]
  },
  {
   "cell_type": "code",
   "execution_count": 43,
   "metadata": {},
   "outputs": [],
   "source": [
    "num_features = 3\n",
    "model_bcd = VariationalAutoencoderBCD(num_features=num_features)\n",
    "learning_rate = 3e-4  # karpathy constant\n",
    "loss_fn = nn.BCELoss()\n",
    "optimizer_bcd = optim.Adam(model_bcd.parameters(), lr=learning_rate)\n",
    "batch_size = 5"
   ]
  },
  {
   "cell_type": "code",
   "execution_count": 44,
   "metadata": {},
   "outputs": [],
   "source": [
    "# Define the training process\n",
    "# Each call of the train function == 1 Epoch\n",
    "def train_fn(loader, model_bcd, optimizer_bcd, loss_fn, batch_size):\n",
    "    loop = tqdm(loader)\n",
    "\n",
    "    count = 0\n",
    "    ave_loss = 0.00\n",
    "\n",
    "    # Loop per batch\n",
    "    for batch_idx, (data, targets) in enumerate(loop):\n",
    "        reconstruction, mu, logvar = model_bcd.forward(data)\n",
    "\n",
    "        loss = loss_fn(reconstruction, targets)\n",
    "\n",
    "        loss = final_loss(loss, mu, logvar)\n",
    "\n",
    "        optimizer_bcd.zero_grad()\n",
    "\n",
    "        loss.backward()\n",
    "\n",
    "        optimizer_bcd.step()\n",
    "\n",
    "        loop.set_postfix(loss=loss.item())\n",
    "\n",
    "        ave_loss += loss.item()\n",
    "        count += 1\n",
    "\n",
    "    ave_loss = ave_loss / count\n",
    "\n",
    "    return ave_loss"
   ]
  },
  {
   "cell_type": "code",
   "execution_count": 45,
   "metadata": {},
   "outputs": [],
   "source": [
    "# use Dataloader for Autoencoder\n",
    "custom_dataset = VariationalAutoencoderDatasetBCD(x_train_minority)\n",
    "\n",
    "train_loader = DataLoader(\n",
    "    custom_dataset, batch_size=batch_size, shuffle=True, drop_last=False\n",
    ")"
   ]
  },
  {
   "cell_type": "code",
   "execution_count": 46,
   "metadata": {},
   "outputs": [
    {
     "name": "stdout",
     "output_type": "stream",
     "text": [
      "Epoch: 0\n"
     ]
    },
    {
     "name": "stderr",
     "output_type": "stream",
     "text": [
      "100%|█████████████████████████████████████████████████████████████████████████████████████████████████████████████| 34/34 [00:00<00:00, 193.23it/s, loss=0.795]\n"
     ]
    },
    {
     "name": "stdout",
     "output_type": "stream",
     "text": [
      "Ave Loss: 0.8589919384788064\n",
      "Epoch: 1\n"
     ]
    },
    {
     "name": "stderr",
     "output_type": "stream",
     "text": [
      "100%|██████████████████████████████████████████████████████████████████████████████████████████████████████████████| 34/34 [00:00<00:00, 188.13it/s, loss=0.74]\n"
     ]
    },
    {
     "name": "stdout",
     "output_type": "stream",
     "text": [
      "Ave Loss: 0.7641330221120048\n",
      "Epoch: 2\n"
     ]
    },
    {
     "name": "stderr",
     "output_type": "stream",
     "text": [
      "100%|█████████████████████████████████████████████████████████████████████████████████████████████████████████████| 34/34 [00:00<00:00, 188.03it/s, loss=0.705]\n"
     ]
    },
    {
     "name": "stdout",
     "output_type": "stream",
     "text": [
      "Ave Loss: 0.7173449589925653\n",
      "Epoch: 3\n"
     ]
    },
    {
     "name": "stderr",
     "output_type": "stream",
     "text": [
      "100%|█████████████████████████████████████████████████████████████████████████████████████████████████████████████| 34/34 [00:00<00:00, 202.14it/s, loss=0.687]\n"
     ]
    },
    {
     "name": "stdout",
     "output_type": "stream",
     "text": [
      "Ave Loss: 0.6989169296096353\n",
      "Epoch: 4\n"
     ]
    },
    {
     "name": "stderr",
     "output_type": "stream",
     "text": [
      "100%|█████████████████████████████████████████████████████████████████████████████████████████████████████████████| 34/34 [00:00<00:00, 213.12it/s, loss=0.687]\n"
     ]
    },
    {
     "name": "stdout",
     "output_type": "stream",
     "text": [
      "Ave Loss: 0.6887859772233402\n",
      "Epoch: 5\n"
     ]
    },
    {
     "name": "stderr",
     "output_type": "stream",
     "text": [
      "100%|█████████████████████████████████████████████████████████████████████████████████████████████████████████████| 34/34 [00:00<00:00, 207.90it/s, loss=0.678]\n"
     ]
    },
    {
     "name": "stdout",
     "output_type": "stream",
     "text": [
      "Ave Loss: 0.6822967459173763\n",
      "Epoch: 6\n"
     ]
    },
    {
     "name": "stderr",
     "output_type": "stream",
     "text": [
      "100%|█████████████████████████████████████████████████████████████████████████████████████████████████████████████| 34/34 [00:00<00:00, 191.86it/s, loss=0.664]\n"
     ]
    },
    {
     "name": "stdout",
     "output_type": "stream",
     "text": [
      "Ave Loss: 0.6730101774720585\n",
      "Epoch: 7\n"
     ]
    },
    {
     "name": "stderr",
     "output_type": "stream",
     "text": [
      "100%|█████████████████████████████████████████████████████████████████████████████████████████████████████████████| 34/34 [00:00<00:00, 188.01it/s, loss=0.655]\n"
     ]
    },
    {
     "name": "stdout",
     "output_type": "stream",
     "text": [
      "Ave Loss: 0.6665159796967226\n",
      "Epoch: 8\n"
     ]
    },
    {
     "name": "stderr",
     "output_type": "stream",
     "text": [
      "100%|█████████████████████████████████████████████████████████████████████████████████████████████████████████████| 34/34 [00:00<00:00, 199.29it/s, loss=0.643]\n"
     ]
    },
    {
     "name": "stdout",
     "output_type": "stream",
     "text": [
      "Ave Loss: 0.6619895591455347\n",
      "Epoch: 9\n"
     ]
    },
    {
     "name": "stderr",
     "output_type": "stream",
     "text": [
      "100%|█████████████████████████████████████████████████████████████████████████████████████████████████████████████| 34/34 [00:00<00:00, 188.79it/s, loss=0.648]\n"
     ]
    },
    {
     "name": "stdout",
     "output_type": "stream",
     "text": [
      "Ave Loss: 0.654598660328809\n",
      "Epoch: 10\n"
     ]
    },
    {
     "name": "stderr",
     "output_type": "stream",
     "text": [
      "100%|█████████████████████████████████████████████████████████████████████████████████████████████████████████████| 34/34 [00:00<00:00, 188.80it/s, loss=0.662]\n"
     ]
    },
    {
     "name": "stdout",
     "output_type": "stream",
     "text": [
      "Ave Loss: 0.6502606851213119\n",
      "Epoch: 11\n"
     ]
    },
    {
     "name": "stderr",
     "output_type": "stream",
     "text": [
      "100%|█████████████████████████████████████████████████████████████████████████████████████████████████████████████| 34/34 [00:00<00:00, 192.73it/s, loss=0.636]\n"
     ]
    },
    {
     "name": "stdout",
     "output_type": "stream",
     "text": [
      "Ave Loss: 0.6456523853189805\n",
      "Epoch: 12\n"
     ]
    },
    {
     "name": "stderr",
     "output_type": "stream",
     "text": [
      "100%|█████████████████████████████████████████████████████████████████████████████████████████████████████████████| 34/34 [00:00<00:00, 184.91it/s, loss=0.629]\n"
     ]
    },
    {
     "name": "stdout",
     "output_type": "stream",
     "text": [
      "Ave Loss: 0.6416378950371462\n",
      "Epoch: 13\n"
     ]
    },
    {
     "name": "stderr",
     "output_type": "stream",
     "text": [
      "100%|█████████████████████████████████████████████████████████████████████████████████████████████████████████████| 34/34 [00:00<00:00, 185.18it/s, loss=0.606]\n"
     ]
    },
    {
     "name": "stdout",
     "output_type": "stream",
     "text": [
      "Ave Loss: 0.6353789006962496\n",
      "Epoch: 14\n"
     ]
    },
    {
     "name": "stderr",
     "output_type": "stream",
     "text": [
      "100%|█████████████████████████████████████████████████████████████████████████████████████████████████████████████| 34/34 [00:00<00:00, 209.25it/s, loss=0.626]\n"
     ]
    },
    {
     "name": "stdout",
     "output_type": "stream",
     "text": [
      "Ave Loss: 0.6304039569462047\n",
      "Epoch: 15\n"
     ]
    },
    {
     "name": "stderr",
     "output_type": "stream",
     "text": [
      "100%|█████████████████████████████████████████████████████████████████████████████████████████████████████████████| 34/34 [00:00<00:00, 211.11it/s, loss=0.622]\n"
     ]
    },
    {
     "name": "stdout",
     "output_type": "stream",
     "text": [
      "Ave Loss: 0.6288872133283054\n",
      "Epoch: 16\n"
     ]
    },
    {
     "name": "stderr",
     "output_type": "stream",
     "text": [
      "100%|█████████████████████████████████████████████████████████████████████████████████████████████████████████████| 34/34 [00:00<00:00, 200.20it/s, loss=0.613]\n"
     ]
    },
    {
     "name": "stdout",
     "output_type": "stream",
     "text": [
      "Ave Loss: 0.6244626588681165\n",
      "Epoch: 17\n"
     ]
    },
    {
     "name": "stderr",
     "output_type": "stream",
     "text": [
      "100%|█████████████████████████████████████████████████████████████████████████████████████████████████████████████| 34/34 [00:00<00:00, 192.78it/s, loss=0.626]\n"
     ]
    },
    {
     "name": "stdout",
     "output_type": "stream",
     "text": [
      "Ave Loss: 0.6219819661448983\n",
      "Epoch: 18\n"
     ]
    },
    {
     "name": "stderr",
     "output_type": "stream",
     "text": [
      "100%|█████████████████████████████████████████████████████████████████████████████████████████████████████████████| 34/34 [00:00<00:00, 191.46it/s, loss=0.606]\n"
     ]
    },
    {
     "name": "stdout",
     "output_type": "stream",
     "text": [
      "Ave Loss: 0.6169854227234336\n",
      "Epoch: 19\n"
     ]
    },
    {
     "name": "stderr",
     "output_type": "stream",
     "text": [
      "100%|█████████████████████████████████████████████████████████████████████████████████████████████████████████████| 34/34 [00:00<00:00, 182.42it/s, loss=0.615]\n"
     ]
    },
    {
     "name": "stdout",
     "output_type": "stream",
     "text": [
      "Ave Loss: 0.6160876470453599\n",
      "Epoch: 20\n"
     ]
    },
    {
     "name": "stderr",
     "output_type": "stream",
     "text": [
      "100%|█████████████████████████████████████████████████████████████████████████████████████████████████████████████| 34/34 [00:00<00:00, 218.57it/s, loss=0.612]\n"
     ]
    },
    {
     "name": "stdout",
     "output_type": "stream",
     "text": [
      "Ave Loss: 0.6137484908103943\n",
      "Epoch: 21\n"
     ]
    },
    {
     "name": "stderr",
     "output_type": "stream",
     "text": [
      "100%|█████████████████████████████████████████████████████████████████████████████████████████████████████████████| 34/34 [00:00<00:00, 227.07it/s, loss=0.609]\n"
     ]
    },
    {
     "name": "stdout",
     "output_type": "stream",
     "text": [
      "Ave Loss: 0.6113603903966791\n",
      "Epoch: 22\n"
     ]
    },
    {
     "name": "stderr",
     "output_type": "stream",
     "text": [
      "100%|█████████████████████████████████████████████████████████████████████████████████████████████████████████████| 34/34 [00:00<00:00, 223.40it/s, loss=0.651]\n"
     ]
    },
    {
     "name": "stdout",
     "output_type": "stream",
     "text": [
      "Ave Loss: 0.611433241297217\n",
      "Epoch: 23\n"
     ]
    },
    {
     "name": "stderr",
     "output_type": "stream",
     "text": [
      "100%|█████████████████████████████████████████████████████████████████████████████████████████████████████████████| 34/34 [00:00<00:00, 243.60it/s, loss=0.612]\n"
     ]
    },
    {
     "name": "stdout",
     "output_type": "stream",
     "text": [
      "Ave Loss: 0.609475793207393\n",
      "Epoch: 24\n"
     ]
    },
    {
     "name": "stderr",
     "output_type": "stream",
     "text": [
      "100%|█████████████████████████████████████████████████████████████████████████████████████████████████████████████| 34/34 [00:00<00:00, 261.54it/s, loss=0.602]\n"
     ]
    },
    {
     "name": "stdout",
     "output_type": "stream",
     "text": [
      "Ave Loss: 0.6062365945647744\n",
      "Epoch: 25\n"
     ]
    },
    {
     "name": "stderr",
     "output_type": "stream",
     "text": [
      "100%|█████████████████████████████████████████████████████████████████████████████████████████████████████████████| 34/34 [00:00<00:00, 215.43it/s, loss=0.588]\n"
     ]
    },
    {
     "name": "stdout",
     "output_type": "stream",
     "text": [
      "Ave Loss: 0.6056632785236135\n",
      "Epoch: 26\n"
     ]
    },
    {
     "name": "stderr",
     "output_type": "stream",
     "text": [
      "100%|█████████████████████████████████████████████████████████████████████████████████████████████████████████████| 34/34 [00:00<00:00, 200.34it/s, loss=0.617]\n"
     ]
    },
    {
     "name": "stdout",
     "output_type": "stream",
     "text": [
      "Ave Loss: 0.6025298167677486\n",
      "Epoch: 27\n"
     ]
    },
    {
     "name": "stderr",
     "output_type": "stream",
     "text": [
      "100%|█████████████████████████████████████████████████████████████████████████████████████████████████████████████| 34/34 [00:00<00:00, 261.20it/s, loss=0.619]\n"
     ]
    },
    {
     "name": "stdout",
     "output_type": "stream",
     "text": [
      "Ave Loss: 0.6031148591462303\n",
      "Epoch: 28\n"
     ]
    },
    {
     "name": "stderr",
     "output_type": "stream",
     "text": [
      "100%|█████████████████████████████████████████████████████████████████████████████████████████████████████████████| 34/34 [00:00<00:00, 203.50it/s, loss=0.587]\n"
     ]
    },
    {
     "name": "stdout",
     "output_type": "stream",
     "text": [
      "Ave Loss: 0.6009343950187459\n",
      "Epoch: 29\n"
     ]
    },
    {
     "name": "stderr",
     "output_type": "stream",
     "text": [
      "100%|██████████████████████████████████████████████████████████████████████████████████████████████████████████████| 34/34 [00:00<00:00, 215.88it/s, loss=0.67]\n"
     ]
    },
    {
     "name": "stdout",
     "output_type": "stream",
     "text": [
      "Ave Loss: 0.6017403304576874\n",
      "Epoch: 30\n"
     ]
    },
    {
     "name": "stderr",
     "output_type": "stream",
     "text": [
      "100%|██████████████████████████████████████████████████████████████████████████████████████████████████████████████| 34/34 [00:00<00:00, 205.09it/s, loss=0.58]\n"
     ]
    },
    {
     "name": "stdout",
     "output_type": "stream",
     "text": [
      "Ave Loss: 0.5997076244915233\n",
      "Epoch: 31\n"
     ]
    },
    {
     "name": "stderr",
     "output_type": "stream",
     "text": [
      "100%|█████████████████████████████████████████████████████████████████████████████████████████████████████████████| 34/34 [00:00<00:00, 207.19it/s, loss=0.573]"
     ]
    },
    {
     "name": "stdout",
     "output_type": "stream",
     "text": [
      "Ave Loss: 0.6009037249228534\n"
     ]
    },
    {
     "name": "stderr",
     "output_type": "stream",
     "text": [
      "\n"
     ]
    },
    {
     "name": "stdout",
     "output_type": "stream",
     "text": [
      "Epoch: 32\n"
     ]
    },
    {
     "name": "stderr",
     "output_type": "stream",
     "text": [
      "100%|█████████████████████████████████████████████████████████████████████████████████████████████████████████████| 34/34 [00:00<00:00, 220.68it/s, loss=0.603]\n"
     ]
    },
    {
     "name": "stdout",
     "output_type": "stream",
     "text": [
      "Ave Loss: 0.6008453018525067\n",
      "Epoch: 33\n"
     ]
    },
    {
     "name": "stderr",
     "output_type": "stream",
     "text": [
      "100%|█████████████████████████████████████████████████████████████████████████████████████████████████████████████| 34/34 [00:00<00:00, 195.65it/s, loss=0.587]\n"
     ]
    },
    {
     "name": "stdout",
     "output_type": "stream",
     "text": [
      "Ave Loss: 0.6004775727496428\n",
      "Epoch: 34\n"
     ]
    },
    {
     "name": "stderr",
     "output_type": "stream",
     "text": [
      "100%|█████████████████████████████████████████████████████████████████████████████████████████████████████████████| 34/34 [00:00<00:00, 193.47it/s, loss=0.578]\n"
     ]
    },
    {
     "name": "stdout",
     "output_type": "stream",
     "text": [
      "Ave Loss: 0.6008085731197806\n",
      "Epoch: 35\n"
     ]
    },
    {
     "name": "stderr",
     "output_type": "stream",
     "text": [
      "100%|█████████████████████████████████████████████████████████████████████████████████████████████████████████████| 34/34 [00:00<00:00, 201.83it/s, loss=0.606]\n"
     ]
    },
    {
     "name": "stdout",
     "output_type": "stream",
     "text": [
      "Ave Loss: 0.5987934820792254\n",
      "Epoch: 36\n"
     ]
    },
    {
     "name": "stderr",
     "output_type": "stream",
     "text": [
      "100%|█████████████████████████████████████████████████████████████████████████████████████████████████████████████| 34/34 [00:00<00:00, 209.41it/s, loss=0.573]\n"
     ]
    },
    {
     "name": "stdout",
     "output_type": "stream",
     "text": [
      "Ave Loss: 0.5967963145059698\n",
      "Epoch: 37\n"
     ]
    },
    {
     "name": "stderr",
     "output_type": "stream",
     "text": [
      "100%|█████████████████████████████████████████████████████████████████████████████████████████████████████████████| 34/34 [00:00<00:00, 221.37it/s, loss=0.595]\n"
     ]
    },
    {
     "name": "stdout",
     "output_type": "stream",
     "text": [
      "Ave Loss: 0.5995927803656634\n",
      "Epoch: 38\n"
     ]
    },
    {
     "name": "stderr",
     "output_type": "stream",
     "text": [
      "100%|█████████████████████████████████████████████████████████████████████████████████████████████████████████████| 34/34 [00:00<00:00, 208.47it/s, loss=0.571]\n"
     ]
    },
    {
     "name": "stdout",
     "output_type": "stream",
     "text": [
      "Ave Loss: 0.5966044804629158\n",
      "Epoch: 39\n"
     ]
    },
    {
     "name": "stderr",
     "output_type": "stream",
     "text": [
      "100%|█████████████████████████████████████████████████████████████████████████████████████████████████████████████| 34/34 [00:00<00:00, 232.49it/s, loss=0.606]\n"
     ]
    },
    {
     "name": "stdout",
     "output_type": "stream",
     "text": [
      "Ave Loss: 0.5975858323714313\n",
      "Epoch: 40\n"
     ]
    },
    {
     "name": "stderr",
     "output_type": "stream",
     "text": [
      "100%|█████████████████████████████████████████████████████████████████████████████████████████████████████████████| 34/34 [00:00<00:00, 263.28it/s, loss=0.595]\n"
     ]
    },
    {
     "name": "stdout",
     "output_type": "stream",
     "text": [
      "Ave Loss: 0.5969876471687766\n",
      "Epoch: 41\n"
     ]
    },
    {
     "name": "stderr",
     "output_type": "stream",
     "text": [
      "100%|█████████████████████████████████████████████████████████████████████████████████████████████████████████████| 34/34 [00:00<00:00, 266.42it/s, loss=0.616]\n"
     ]
    },
    {
     "name": "stdout",
     "output_type": "stream",
     "text": [
      "Ave Loss: 0.5966939172324013\n",
      "Epoch: 42\n"
     ]
    },
    {
     "name": "stderr",
     "output_type": "stream",
     "text": [
      "100%|█████████████████████████████████████████████████████████████████████████████████████████████████████████████| 34/34 [00:00<00:00, 263.16it/s, loss=0.582]\n"
     ]
    },
    {
     "name": "stdout",
     "output_type": "stream",
     "text": [
      "Ave Loss: 0.5968764161362368\n",
      "Epoch: 43\n"
     ]
    },
    {
     "name": "stderr",
     "output_type": "stream",
     "text": [
      "100%|█████████████████████████████████████████████████████████████████████████████████████████████████████████████| 34/34 [00:00<00:00, 251.25it/s, loss=0.603]\n"
     ]
    },
    {
     "name": "stdout",
     "output_type": "stream",
     "text": [
      "Ave Loss: 0.59715937165653\n",
      "Epoch: 44\n"
     ]
    },
    {
     "name": "stderr",
     "output_type": "stream",
     "text": [
      "100%|█████████████████████████████████████████████████████████████████████████████████████████████████████████████| 34/34 [00:00<00:00, 235.37it/s, loss=0.642]\n"
     ]
    },
    {
     "name": "stdout",
     "output_type": "stream",
     "text": [
      "Ave Loss: 0.5958697830929476\n",
      "Epoch: 45\n"
     ]
    },
    {
     "name": "stderr",
     "output_type": "stream",
     "text": [
      "100%|█████████████████████████████████████████████████████████████████████████████████████████████████████████████| 34/34 [00:00<00:00, 203.92it/s, loss=0.563]\n"
     ]
    },
    {
     "name": "stdout",
     "output_type": "stream",
     "text": [
      "Ave Loss: 0.5955675559885362\n",
      "Epoch: 46\n"
     ]
    },
    {
     "name": "stderr",
     "output_type": "stream",
     "text": [
      "100%|█████████████████████████████████████████████████████████████████████████████████████████████████████████████| 34/34 [00:00<00:00, 251.11it/s, loss=0.567]\n"
     ]
    },
    {
     "name": "stdout",
     "output_type": "stream",
     "text": [
      "Ave Loss: 0.5950133940752815\n",
      "Epoch: 47\n"
     ]
    },
    {
     "name": "stderr",
     "output_type": "stream",
     "text": [
      "100%|█████████████████████████████████████████████████████████████████████████████████████████████████████████████| 34/34 [00:00<00:00, 263.69it/s, loss=0.697]\n"
     ]
    },
    {
     "name": "stdout",
     "output_type": "stream",
     "text": [
      "Ave Loss: 0.5957439050954931\n",
      "Epoch: 48\n"
     ]
    },
    {
     "name": "stderr",
     "output_type": "stream",
     "text": [
      "100%|█████████████████████████████████████████████████████████████████████████████████████████████████████████████| 34/34 [00:00<00:00, 272.62it/s, loss=0.618]\n"
     ]
    },
    {
     "name": "stdout",
     "output_type": "stream",
     "text": [
      "Ave Loss: 0.5965790748596191\n",
      "Epoch: 49\n"
     ]
    },
    {
     "name": "stderr",
     "output_type": "stream",
     "text": [
      "100%|█████████████████████████████████████████████████████████████████████████████████████████████████████████████| 34/34 [00:00<00:00, 186.72it/s, loss=0.602]\n"
     ]
    },
    {
     "name": "stdout",
     "output_type": "stream",
     "text": [
      "Ave Loss: 0.5969744359745699\n",
      "Epoch: 50\n"
     ]
    },
    {
     "name": "stderr",
     "output_type": "stream",
     "text": [
      "100%|██████████████████████████████████████████████████████████████████████████████████████████████████████████████| 34/34 [00:00<00:00, 242.17it/s, loss=0.62]\n"
     ]
    },
    {
     "name": "stdout",
     "output_type": "stream",
     "text": [
      "Ave Loss: 0.5957349661518546\n",
      "Epoch: 51\n"
     ]
    },
    {
     "name": "stderr",
     "output_type": "stream",
     "text": [
      "100%|███████████████████████████████████████████████████████████████████████████████████████████████████████████████| 34/34 [00:00<00:00, 191.11it/s, loss=0.6]\n"
     ]
    },
    {
     "name": "stdout",
     "output_type": "stream",
     "text": [
      "Ave Loss: 0.5965451317674973\n",
      "Epoch: 52\n"
     ]
    },
    {
     "name": "stderr",
     "output_type": "stream",
     "text": [
      "100%|█████████████████████████████████████████████████████████████████████████████████████████████████████████████| 34/34 [00:00<00:00, 219.98it/s, loss=0.558]\n"
     ]
    },
    {
     "name": "stdout",
     "output_type": "stream",
     "text": [
      "Ave Loss: 0.595347029321334\n",
      "Epoch: 53\n"
     ]
    },
    {
     "name": "stderr",
     "output_type": "stream",
     "text": [
      "100%|█████████████████████████████████████████████████████████████████████████████████████████████████████████████| 34/34 [00:00<00:00, 209.20it/s, loss=0.606]\n"
     ]
    },
    {
     "name": "stdout",
     "output_type": "stream",
     "text": [
      "Ave Loss: 0.5953407901174882\n",
      "Epoch: 54\n"
     ]
    },
    {
     "name": "stderr",
     "output_type": "stream",
     "text": [
      "100%|█████████████████████████████████████████████████████████████████████████████████████████████████████████████| 34/34 [00:00<00:00, 218.31it/s, loss=0.616]\n"
     ]
    },
    {
     "name": "stdout",
     "output_type": "stream",
     "text": [
      "Ave Loss: 0.594884463969399\n",
      "Epoch: 55\n"
     ]
    },
    {
     "name": "stderr",
     "output_type": "stream",
     "text": [
      "100%|█████████████████████████████████████████████████████████████████████████████████████████████████████████████| 34/34 [00:00<00:00, 229.88it/s, loss=0.596]\n"
     ]
    },
    {
     "name": "stdout",
     "output_type": "stream",
     "text": [
      "Ave Loss: 0.5952565599890316\n",
      "Epoch: 56\n"
     ]
    },
    {
     "name": "stderr",
     "output_type": "stream",
     "text": [
      "100%|█████████████████████████████████████████████████████████████████████████████████████████████████████████████| 34/34 [00:00<00:00, 213.42it/s, loss=0.594]\n"
     ]
    },
    {
     "name": "stdout",
     "output_type": "stream",
     "text": [
      "Ave Loss: 0.5948176769649282\n",
      "Epoch: 57\n"
     ]
    },
    {
     "name": "stderr",
     "output_type": "stream",
     "text": [
      "100%|█████████████████████████████████████████████████████████████████████████████████████████████████████████████| 34/34 [00:00<00:00, 197.82it/s, loss=0.566]\n"
     ]
    },
    {
     "name": "stdout",
     "output_type": "stream",
     "text": [
      "Ave Loss: 0.5953126146512873\n",
      "Epoch: 58\n"
     ]
    },
    {
     "name": "stderr",
     "output_type": "stream",
     "text": [
      "100%|██████████████████████████████████████████████████████████████████████████████████████████████████████████████| 34/34 [00:00<00:00, 218.48it/s, loss=0.59]\n"
     ]
    },
    {
     "name": "stdout",
     "output_type": "stream",
     "text": [
      "Ave Loss: 0.5946282796999988\n",
      "Epoch: 59\n"
     ]
    },
    {
     "name": "stderr",
     "output_type": "stream",
     "text": [
      "100%|█████████████████████████████████████████████████████████████████████████████████████████████████████████████| 34/34 [00:00<00:00, 209.07it/s, loss=0.568]\n"
     ]
    },
    {
     "name": "stdout",
     "output_type": "stream",
     "text": [
      "Ave Loss: 0.5960736993481132\n",
      "Epoch: 60\n"
     ]
    },
    {
     "name": "stderr",
     "output_type": "stream",
     "text": [
      "100%|██████████████████████████████████████████████████████████████████████████████████████████████████████████████| 34/34 [00:00<00:00, 299.68it/s, loss=0.57]\n"
     ]
    },
    {
     "name": "stdout",
     "output_type": "stream",
     "text": [
      "Ave Loss: 0.5945493298418382\n",
      "Epoch: 61\n"
     ]
    },
    {
     "name": "stderr",
     "output_type": "stream",
     "text": [
      "100%|█████████████████████████████████████████████████████████████████████████████████████████████████████████████| 34/34 [00:00<00:00, 276.65it/s, loss=0.623]\n"
     ]
    },
    {
     "name": "stdout",
     "output_type": "stream",
     "text": [
      "Ave Loss: 0.5943098646752975\n",
      "Epoch: 62\n"
     ]
    },
    {
     "name": "stderr",
     "output_type": "stream",
     "text": [
      "100%|█████████████████████████████████████████████████████████████████████████████████████████████████████████████| 34/34 [00:00<00:00, 287.72it/s, loss=0.599]\n"
     ]
    },
    {
     "name": "stdout",
     "output_type": "stream",
     "text": [
      "Ave Loss: 0.5953533281298244\n",
      "Epoch: 63\n"
     ]
    },
    {
     "name": "stderr",
     "output_type": "stream",
     "text": [
      "100%|█████████████████████████████████████████████████████████████████████████████████████████████████████████████| 34/34 [00:00<00:00, 285.15it/s, loss=0.646]\n"
     ]
    },
    {
     "name": "stdout",
     "output_type": "stream",
     "text": [
      "Ave Loss: 0.594650932971169\n",
      "Epoch: 64\n"
     ]
    },
    {
     "name": "stderr",
     "output_type": "stream",
     "text": [
      "100%|█████████████████████████████████████████████████████████████████████████████████████████████████████████████| 34/34 [00:00<00:00, 286.83it/s, loss=0.587]\n"
     ]
    },
    {
     "name": "stdout",
     "output_type": "stream",
     "text": [
      "Ave Loss: 0.5945767847930684\n",
      "Epoch: 65\n"
     ]
    },
    {
     "name": "stderr",
     "output_type": "stream",
     "text": [
      "100%|██████████████████████████████████████████████████████████████████████████████████████████████████████████████| 34/34 [00:00<00:00, 210.48it/s, loss=0.59]\n"
     ]
    },
    {
     "name": "stdout",
     "output_type": "stream",
     "text": [
      "Ave Loss: 0.5944261024979984\n",
      "Epoch: 66\n"
     ]
    },
    {
     "name": "stderr",
     "output_type": "stream",
     "text": [
      "100%|█████████████████████████████████████████████████████████████████████████████████████████████████████████████| 34/34 [00:00<00:00, 233.96it/s, loss=0.601]\n"
     ]
    },
    {
     "name": "stdout",
     "output_type": "stream",
     "text": [
      "Ave Loss: 0.59421947072534\n",
      "Epoch: 67\n"
     ]
    },
    {
     "name": "stderr",
     "output_type": "stream",
     "text": [
      "100%|█████████████████████████████████████████████████████████████████████████████████████████████████████████████| 34/34 [00:00<00:00, 236.45it/s, loss=0.606]\n"
     ]
    },
    {
     "name": "stdout",
     "output_type": "stream",
     "text": [
      "Ave Loss: 0.5957937941831701\n",
      "Epoch: 68\n"
     ]
    },
    {
     "name": "stderr",
     "output_type": "stream",
     "text": [
      "100%|█████████████████████████████████████████████████████████████████████████████████████████████████████████████| 34/34 [00:00<00:00, 223.79it/s, loss=0.601]\n"
     ]
    },
    {
     "name": "stdout",
     "output_type": "stream",
     "text": [
      "Ave Loss: 0.593721750904532\n",
      "Epoch: 69\n"
     ]
    },
    {
     "name": "stderr",
     "output_type": "stream",
     "text": [
      "100%|█████████████████████████████████████████████████████████████████████████████████████████████████████████████| 34/34 [00:00<00:00, 210.09it/s, loss=0.578]\n"
     ]
    },
    {
     "name": "stdout",
     "output_type": "stream",
     "text": [
      "Ave Loss: 0.5941469231072594\n",
      "Epoch: 70\n"
     ]
    },
    {
     "name": "stderr",
     "output_type": "stream",
     "text": [
      "100%|██████████████████████████████████████████████████████████████████████████████████████████████████████████████| 34/34 [00:00<00:00, 231.97it/s, loss=0.58]\n"
     ]
    },
    {
     "name": "stdout",
     "output_type": "stream",
     "text": [
      "Ave Loss: 0.5940787196159363\n",
      "Epoch: 71\n"
     ]
    },
    {
     "name": "stderr",
     "output_type": "stream",
     "text": [
      "100%|█████████████████████████████████████████████████████████████████████████████████████████████████████████████| 34/34 [00:00<00:00, 180.44it/s, loss=0.602]\n"
     ]
    },
    {
     "name": "stdout",
     "output_type": "stream",
     "text": [
      "Ave Loss: 0.5947192924864152\n",
      "Epoch: 72\n"
     ]
    },
    {
     "name": "stderr",
     "output_type": "stream",
     "text": [
      "100%|█████████████████████████████████████████████████████████████████████████████████████████████████████████████| 34/34 [00:00<00:00, 170.78it/s, loss=0.602]\n"
     ]
    },
    {
     "name": "stdout",
     "output_type": "stream",
     "text": [
      "Ave Loss: 0.5948301308295306\n",
      "Epoch: 73\n"
     ]
    },
    {
     "name": "stderr",
     "output_type": "stream",
     "text": [
      "100%|██████████████████████████████████████████████████████████████████████████████████████████████████████████████| 34/34 [00:00<00:00, 169.90it/s, loss=0.56]\n"
     ]
    },
    {
     "name": "stdout",
     "output_type": "stream",
     "text": [
      "Ave Loss: 0.5936274879118976\n",
      "Epoch: 74\n"
     ]
    },
    {
     "name": "stderr",
     "output_type": "stream",
     "text": [
      "100%|█████████████████████████████████████████████████████████████████████████████████████████████████████████████| 34/34 [00:00<00:00, 219.79it/s, loss=0.578]\n"
     ]
    },
    {
     "name": "stdout",
     "output_type": "stream",
     "text": [
      "Ave Loss: 0.5943965403472676\n",
      "Epoch: 75\n"
     ]
    },
    {
     "name": "stderr",
     "output_type": "stream",
     "text": [
      "100%|██████████████████████████████████████████████████████████████████████████████████████████████████████████████| 34/34 [00:00<00:00, 212.72it/s, loss=0.59]\n"
     ]
    },
    {
     "name": "stdout",
     "output_type": "stream",
     "text": [
      "Ave Loss: 0.5945658964269301\n",
      "Epoch: 76\n"
     ]
    },
    {
     "name": "stderr",
     "output_type": "stream",
     "text": [
      "100%|█████████████████████████████████████████████████████████████████████████████████████████████████████████████| 34/34 [00:00<00:00, 216.26it/s, loss=0.568]\n"
     ]
    },
    {
     "name": "stdout",
     "output_type": "stream",
     "text": [
      "Ave Loss: 0.5948995404383716\n",
      "Epoch: 77\n"
     ]
    },
    {
     "name": "stderr",
     "output_type": "stream",
     "text": [
      "100%|█████████████████████████████████████████████████████████████████████████████████████████████████████████████| 34/34 [00:00<00:00, 230.43it/s, loss=0.628]\n"
     ]
    },
    {
     "name": "stdout",
     "output_type": "stream",
     "text": [
      "Ave Loss: 0.594994282021242\n",
      "Epoch: 78\n"
     ]
    },
    {
     "name": "stderr",
     "output_type": "stream",
     "text": [
      "100%|█████████████████████████████████████████████████████████████████████████████████████████████████████████████| 34/34 [00:00<00:00, 222.15it/s, loss=0.577]\n"
     ]
    },
    {
     "name": "stdout",
     "output_type": "stream",
     "text": [
      "Ave Loss: 0.5939470301656162\n",
      "Epoch: 79\n"
     ]
    },
    {
     "name": "stderr",
     "output_type": "stream",
     "text": [
      "100%|█████████████████████████████████████████████████████████████████████████████████████████████████████████████| 34/34 [00:00<00:00, 217.53it/s, loss=0.575]\n"
     ]
    },
    {
     "name": "stdout",
     "output_type": "stream",
     "text": [
      "Ave Loss: 0.5936221568023458\n",
      "Epoch: 80\n"
     ]
    },
    {
     "name": "stderr",
     "output_type": "stream",
     "text": [
      "100%|█████████████████████████████████████████████████████████████████████████████████████████████████████████████| 34/34 [00:00<00:00, 281.65it/s, loss=0.567]\n"
     ]
    },
    {
     "name": "stdout",
     "output_type": "stream",
     "text": [
      "Ave Loss: 0.5941067916505477\n",
      "Epoch: 81\n"
     ]
    },
    {
     "name": "stderr",
     "output_type": "stream",
     "text": [
      "100%|█████████████████████████████████████████████████████████████████████████████████████████████████████████████| 34/34 [00:00<00:00, 244.27it/s, loss=0.635]\n"
     ]
    },
    {
     "name": "stdout",
     "output_type": "stream",
     "text": [
      "Ave Loss: 0.5937798689393436\n",
      "Epoch: 82\n"
     ]
    },
    {
     "name": "stderr",
     "output_type": "stream",
     "text": [
      "100%|█████████████████████████████████████████████████████████████████████████████████████████████████████████████| 34/34 [00:00<00:00, 247.23it/s, loss=0.574]\n"
     ]
    },
    {
     "name": "stdout",
     "output_type": "stream",
     "text": [
      "Ave Loss: 0.5938578598639545\n",
      "Epoch: 83\n"
     ]
    },
    {
     "name": "stderr",
     "output_type": "stream",
     "text": [
      "100%|███████████████████████████████████████████████████████████████████████████████████████████████████████████████| 34/34 [00:00<00:00, 199.92it/s, loss=0.6]\n"
     ]
    },
    {
     "name": "stdout",
     "output_type": "stream",
     "text": [
      "Ave Loss: 0.5940703521756565\n",
      "Epoch: 84\n"
     ]
    },
    {
     "name": "stderr",
     "output_type": "stream",
     "text": [
      "100%|██████████████████████████████████████████████████████████████████████████████████████████████████████████████| 34/34 [00:00<00:00, 239.30it/s, loss=0.58]\n"
     ]
    },
    {
     "name": "stdout",
     "output_type": "stream",
     "text": [
      "Ave Loss: 0.5936982754398795\n",
      "Epoch: 85\n"
     ]
    },
    {
     "name": "stderr",
     "output_type": "stream",
     "text": [
      "100%|█████████████████████████████████████████████████████████████████████████████████████████████████████████████| 34/34 [00:00<00:00, 243.88it/s, loss=0.637]\n"
     ]
    },
    {
     "name": "stdout",
     "output_type": "stream",
     "text": [
      "Ave Loss: 0.5936934685005861\n",
      "Epoch: 86\n"
     ]
    },
    {
     "name": "stderr",
     "output_type": "stream",
     "text": [
      "100%|█████████████████████████████████████████████████████████████████████████████████████████████████████████████| 34/34 [00:00<00:00, 216.97it/s, loss=0.616]\n"
     ]
    },
    {
     "name": "stdout",
     "output_type": "stream",
     "text": [
      "Ave Loss: 0.5932749071541954\n",
      "Epoch: 87\n"
     ]
    },
    {
     "name": "stderr",
     "output_type": "stream",
     "text": [
      "100%|█████████████████████████████████████████████████████████████████████████████████████████████████████████████| 34/34 [00:00<00:00, 249.28it/s, loss=0.607]\n"
     ]
    },
    {
     "name": "stdout",
     "output_type": "stream",
     "text": [
      "Ave Loss: 0.594379896626753\n",
      "Epoch: 88\n"
     ]
    },
    {
     "name": "stderr",
     "output_type": "stream",
     "text": [
      "100%|█████████████████████████████████████████████████████████████████████████████████████████████████████████████| 34/34 [00:00<00:00, 246.87it/s, loss=0.574]\n"
     ]
    },
    {
     "name": "stdout",
     "output_type": "stream",
     "text": [
      "Ave Loss: 0.5938574584091411\n",
      "Epoch: 89\n"
     ]
    },
    {
     "name": "stderr",
     "output_type": "stream",
     "text": [
      "100%|█████████████████████████████████████████████████████████████████████████████████████████████████████████████| 34/34 [00:00<00:00, 263.02it/s, loss=0.595]\n"
     ]
    },
    {
     "name": "stdout",
     "output_type": "stream",
     "text": [
      "Ave Loss: 0.5941794777617735\n",
      "Epoch: 90\n"
     ]
    },
    {
     "name": "stderr",
     "output_type": "stream",
     "text": [
      "100%|█████████████████████████████████████████████████████████████████████████████████████████████████████████████| 34/34 [00:00<00:00, 279.56it/s, loss=0.645]\n"
     ]
    },
    {
     "name": "stdout",
     "output_type": "stream",
     "text": [
      "Ave Loss: 0.5937278077882879\n",
      "Epoch: 91\n"
     ]
    },
    {
     "name": "stderr",
     "output_type": "stream",
     "text": [
      "100%|█████████████████████████████████████████████████████████████████████████████████████████████████████████████| 34/34 [00:00<00:00, 271.80it/s, loss=0.583]\n"
     ]
    },
    {
     "name": "stdout",
     "output_type": "stream",
     "text": [
      "Ave Loss: 0.5942895324791179\n",
      "Epoch: 92\n"
     ]
    },
    {
     "name": "stderr",
     "output_type": "stream",
     "text": [
      "100%|██████████████████████████████████████████████████████████████████████████████████████████████████████████████| 34/34 [00:00<00:00, 293.87it/s, loss=0.63]\n"
     ]
    },
    {
     "name": "stdout",
     "output_type": "stream",
     "text": [
      "Ave Loss: 0.5936123045051799\n",
      "Epoch: 93\n"
     ]
    },
    {
     "name": "stderr",
     "output_type": "stream",
     "text": [
      "100%|█████████████████████████████████████████████████████████████████████████████████████████████████████████████| 34/34 [00:00<00:00, 217.23it/s, loss=0.578]\n"
     ]
    },
    {
     "name": "stdout",
     "output_type": "stream",
     "text": [
      "Ave Loss: 0.5931349344113294\n",
      "Epoch: 94\n"
     ]
    },
    {
     "name": "stderr",
     "output_type": "stream",
     "text": [
      "100%|█████████████████████████████████████████████████████████████████████████████████████████████████████████████| 34/34 [00:00<00:00, 231.70it/s, loss=0.572]\n"
     ]
    },
    {
     "name": "stdout",
     "output_type": "stream",
     "text": [
      "Ave Loss: 0.5941649605246151\n",
      "Epoch: 95\n"
     ]
    },
    {
     "name": "stderr",
     "output_type": "stream",
     "text": [
      "100%|█████████████████████████████████████████████████████████████████████████████████████████████████████████████| 34/34 [00:00<00:00, 200.02it/s, loss=0.588]\n"
     ]
    },
    {
     "name": "stdout",
     "output_type": "stream",
     "text": [
      "Ave Loss: 0.5943479310063755\n",
      "Epoch: 96\n"
     ]
    },
    {
     "name": "stderr",
     "output_type": "stream",
     "text": [
      "100%|█████████████████████████████████████████████████████████████████████████████████████████████████████████████| 34/34 [00:00<00:00, 225.52it/s, loss=0.576]\n"
     ]
    },
    {
     "name": "stdout",
     "output_type": "stream",
     "text": [
      "Ave Loss: 0.5929851742351756\n",
      "Epoch: 97\n"
     ]
    },
    {
     "name": "stderr",
     "output_type": "stream",
     "text": [
      "100%|█████████████████████████████████████████████████████████████████████████████████████████████████████████████| 34/34 [00:00<00:00, 273.19it/s, loss=0.635]\n"
     ]
    },
    {
     "name": "stdout",
     "output_type": "stream",
     "text": [
      "Ave Loss: 0.5934132705716526\n",
      "Epoch: 98\n"
     ]
    },
    {
     "name": "stderr",
     "output_type": "stream",
     "text": [
      "100%|█████████████████████████████████████████████████████████████████████████████████████████████████████████████| 34/34 [00:00<00:00, 226.94it/s, loss=0.623]\n"
     ]
    },
    {
     "name": "stdout",
     "output_type": "stream",
     "text": [
      "Ave Loss: 0.5938353520982406\n",
      "Epoch: 99\n"
     ]
    },
    {
     "name": "stderr",
     "output_type": "stream",
     "text": [
      "100%|█████████████████████████████████████████████████████████████████████████████████████████████████████████████| 34/34 [00:00<00:00, 250.90it/s, loss=0.589]"
     ]
    },
    {
     "name": "stdout",
     "output_type": "stream",
     "text": [
      "Ave Loss: 0.594499384655672\n"
     ]
    },
    {
     "name": "stderr",
     "output_type": "stream",
     "text": [
      "\n"
     ]
    }
   ],
   "source": [
    "epochs = 100\n",
    "losses = []\n",
    "\n",
    "for epoch in range(epochs):\n",
    "    print(\"Epoch: {}\".format(epoch))\n",
    "\n",
    "    ave_loss = train_fn(train_loader, model_bcd, optimizer_bcd, loss_fn, batch_size)\n",
    "\n",
    "    losses.append(ave_loss)\n",
    "\n",
    "    print(\"Ave Loss: {}\".format(ave_loss))\n",
    "\n",
    "    state = {\"state_dict\": model.state_dict()}\n",
    "\n",
    "    torch.save(state, \"./models/variational-bcd.pth\")"
   ]
  },
  {
   "cell_type": "code",
   "execution_count": 47,
   "metadata": {},
   "outputs": [
    {
     "data": {
      "image/png": "[encoded data removed]",
      "text/plain": [
       "<Figure size 640x480 with 1 Axes>"
      ]
     },
     "metadata": {},
     "output_type": "display_data"
    }
   ],
   "source": [
    "plt.plot(losses, label=\"loss\", color=\"red\")\n",
    "plt.title(\"Training Evaluation\", fontsize=14)\n",
    "plt.xlabel(\"Epoch\", fontsize=14)\n",
    "plt.ylabel(\"Error Value\", fontsize=14)\n",
    "plt.grid(True)\n",
    "plt.legend()\n",
    "plt.show()"
   ]
  },
  {
   "attachments": {},
   "cell_type": "markdown",
   "metadata": {},
   "source": [
    "**Generating new records for our minority class**"
   ]
  },
  {
   "cell_type": "code",
   "execution_count": 48,
   "metadata": {},
   "outputs": [
    {
     "name": "stdout",
     "output_type": "stream",
     "text": [
      "tensor([[0., 0., 0.]])\n"
     ]
    },
    {
     "data": {
      "text/plain": [
       "torch.Size([1, 3])"
      ]
     },
     "execution_count": 48,
     "metadata": {},
     "output_type": "execute_result"
    }
   ],
   "source": [
    "# Create a vector of zero tensors representing 0 average per num_feature (right in the middle of the dist)\n",
    "sampled_mu = torch.Tensor([np.zeros(num_features)])\n",
    "\n",
    "# Create a vector of zero tensors representing 0 standard deviations away from the mean to create variations\n",
    "# Change this is you want to sample away from the mean to create \"off-quality\" data\n",
    "# Example: we add a log-variance of 3 to all features\n",
    "# sampled_logvar = torch.Tensor([np.zeros(num_features) + random.randint(0,2)])\n",
    "sampled_logvar = torch.Tensor([np.zeros(num_features)])\n",
    "\n",
    "print(sampled_logvar)\n",
    "\n",
    "sampled_logvar.shape\n"
   ]
  },
  {
   "cell_type": "code",
   "execution_count": 49,
   "metadata": {},
   "outputs": [
    {
     "data": {
      "text/plain": [
       "tensor([[0.5064, 0.4187, 0.5016, 0.3611, 0.4535, 0.3918, 0.3851, 0.4455, 0.4560,\n",
       "         0.2813, 0.1892, 0.1964, 0.1848, 0.1290, 0.1735, 0.2432, 0.1080, 0.3042,\n",
       "         0.1762, 0.1237, 0.4897, 0.4603, 0.4674, 0.3264, 0.4772, 0.3509, 0.3747,\n",
       "         0.6517, 0.3361, 0.2527]], grad_fn=<SigmoidBackward0>)"
      ]
     },
     "execution_count": 49,
     "metadata": {},
     "output_type": "execute_result"
    }
   ],
   "source": [
    "# Grab a reconstructed sample from the trained model\n",
    "# NOTE: reconstruction returns as an array because it's possible to have multiple predictions later on\n",
    "reconstruction = model_bcd.sample(sampled_mu, sampled_logvar)\n",
    "reconstruction\n"
   ]
  },
  {
   "cell_type": "code",
   "execution_count": 50,
   "metadata": {},
   "outputs": [
    {
     "data": {
      "text/plain": [
       "tensor([0.5064, 0.4187, 0.5016, 0.3611, 0.4535, 0.3918, 0.3851, 0.4455, 0.4560,\n",
       "        0.2813, 0.1892, 0.1964, 0.1848, 0.1290, 0.1735, 0.2432, 0.1080, 0.3042,\n",
       "        0.1762, 0.1237, 0.4897, 0.4603, 0.4674, 0.3264, 0.4772, 0.3509, 0.3747,\n",
       "        0.6517, 0.3361, 0.2527], grad_fn=<SelectBackward0>)"
      ]
     },
     "execution_count": 50,
     "metadata": {},
     "output_type": "execute_result"
    }
   ],
   "source": [
    "reconstruction[0]\n"
   ]
  },
  {
   "cell_type": "code",
   "execution_count": 51,
   "metadata": {},
   "outputs": [
    {
     "data": {
      "text/plain": [
       "[array([0.5187979 , 0.4135827 , 0.50443447, 0.36967483, 0.44582304,\n",
       "        0.39862216, 0.39426094, 0.43977472, 0.43170837, 0.26264402,\n",
       "        0.17681384, 0.18911232, 0.17676023, 0.12360607, 0.17139472,\n",
       "        0.22526439, 0.10591746, 0.28907925, 0.17658082, 0.11600029,\n",
       "        0.4692245 , 0.4689457 , 0.45786124, 0.32057747, 0.47989628,\n",
       "        0.3521162 , 0.36690372, 0.62482965, 0.30819282, 0.24423723],\n",
       "       dtype=float32),\n",
       " array([0.49363208, 0.403599  , 0.52126   , 0.39104974, 0.465375  ,\n",
       "        0.3888461 , 0.40115836, 0.44509327, 0.44757766, 0.26809853,\n",
       "        0.2035269 , 0.19692236, 0.18717726, 0.15172419, 0.18880308,\n",
       "        0.24726163, 0.11784467, 0.28267825, 0.17970976, 0.10902075,\n",
       "        0.49114332, 0.46100554, 0.47000575, 0.32623717, 0.48489758,\n",
       "        0.35926437, 0.38335824, 0.63121563, 0.31862286, 0.2328048 ],\n",
       "       dtype=float32),\n",
       " array([0.5050472 , 0.42017943, 0.5075678 , 0.3726702 , 0.45135656,\n",
       "        0.3907017 , 0.38755465, 0.44075483, 0.46094292, 0.2911732 ,\n",
       "        0.21406527, 0.20453857, 0.19763777, 0.1475686 , 0.19581984,\n",
       "        0.24185608, 0.11524181, 0.30315313, 0.18853763, 0.12084452,\n",
       "        0.47986794, 0.46036425, 0.46353194, 0.33647093, 0.46949783,\n",
       "        0.3514158 , 0.38125828, 0.63017404, 0.32974395, 0.2606231 ],\n",
       "       dtype=float32),\n",
       " array([0.50760037, 0.4018083 , 0.4902262 , 0.37377432, 0.44906512,\n",
       "        0.39602044, 0.39691377, 0.44917235, 0.4479244 , 0.2814265 ,\n",
       "        0.20942694, 0.21811242, 0.19706708, 0.16404232, 0.19608003,\n",
       "        0.23543169, 0.12696503, 0.3001158 , 0.19938143, 0.11997651,\n",
       "        0.4824571 , 0.45232067, 0.46520448, 0.3424649 , 0.47718006,\n",
       "        0.3489937 , 0.37014186, 0.6231644 , 0.3344806 , 0.2614664 ],\n",
       "       dtype=float32),\n",
       " array([0.50065994, 0.3944748 , 0.4921746 , 0.37570077, 0.45358166,\n",
       "        0.39334208, 0.3955327 , 0.45068458, 0.4469982 , 0.27221897,\n",
       "        0.20938338, 0.21260759, 0.18947615, 0.16015439, 0.191356  ,\n",
       "        0.22656718, 0.12350787, 0.28796163, 0.19109982, 0.11060946,\n",
       "        0.48305058, 0.4490704 , 0.46514133, 0.33789614, 0.4825633 ,\n",
       "        0.3415457 , 0.364992  , 0.62350094, 0.32907036, 0.25163502],\n",
       "       dtype=float32),\n",
       " array([0.5056761 , 0.4033032 , 0.525319  , 0.36916596, 0.44541493,\n",
       "        0.37578627, 0.37919638, 0.4555544 , 0.43760237, 0.24649687,\n",
       "        0.18218984, 0.17670108, 0.16640927, 0.13523027, 0.16541032,\n",
       "        0.23651102, 0.10730666, 0.2802337 , 0.16577165, 0.09936102,\n",
       "        0.4943916 , 0.45890725, 0.48460034, 0.31127176, 0.48096076,\n",
       "        0.34240976, 0.36394876, 0.6531002 , 0.3242627 , 0.21500726],\n",
       "       dtype=float32),\n",
       " array([0.5149217 , 0.3959423 , 0.53576714, 0.36749166, 0.43574604,\n",
       "        0.3622857 , 0.35902852, 0.45070782, 0.4046722 , 0.20490846,\n",
       "        0.15495652, 0.13974339, 0.13730793, 0.10244396, 0.13487954,\n",
       "        0.20457233, 0.07781048, 0.26183882, 0.13340035, 0.06922018,\n",
       "        0.49347445, 0.4711346 , 0.4767429 , 0.2875156 , 0.48961058,\n",
       "        0.31439903, 0.343696  , 0.6599186 , 0.2943816 , 0.18388174],\n",
       "       dtype=float32),\n",
       " array([0.5050156 , 0.41653547, 0.5082004 , 0.37673882, 0.453592  ,\n",
       "        0.40203044, 0.39226663, 0.44559428, 0.4645    , 0.30526045,\n",
       "        0.21503067, 0.22322614, 0.20610452, 0.1682617 , 0.20100366,\n",
       "        0.25041276, 0.12623608, 0.31662238, 0.19714648, 0.13851357,\n",
       "        0.48364848, 0.45122007, 0.46604428, 0.33765137, 0.47579423,\n",
       "        0.35334474, 0.38599426, 0.63009834, 0.341902  , 0.26376244],\n",
       "       dtype=float32),\n",
       " array([0.501197  , 0.3916477 , 0.4892192 , 0.3756716 , 0.4523741 ,\n",
       "        0.3909025 , 0.39626977, 0.44876108, 0.44055584, 0.25967115,\n",
       "        0.20732355, 0.20248006, 0.18209743, 0.14649649, 0.18729042,\n",
       "        0.21554469, 0.11941569, 0.27464715, 0.18701705, 0.10225116,\n",
       "        0.47524256, 0.45514706, 0.46195543, 0.33525097, 0.483725  ,\n",
       "        0.33846545, 0.3590396 , 0.61600536, 0.3180548 , 0.24687976],\n",
       "       dtype=float32),\n",
       " array([0.51419824, 0.41806892, 0.5073415 , 0.37067932, 0.45605192,\n",
       "        0.41155156, 0.39366725, 0.43641475, 0.4480107 , 0.29737836,\n",
       "        0.20467451, 0.23154739, 0.19963123, 0.16522725, 0.19791467,\n",
       "        0.25194508, 0.13342181, 0.3204135 , 0.1956486 , 0.13549082,\n",
       "        0.47850707, 0.45956725, 0.4523614 , 0.31711477, 0.4793716 ,\n",
       "        0.36054775, 0.38057622, 0.61738884, 0.33763224, 0.25603527],\n",
       "       dtype=float32),\n",
       " array([0.4909589 , 0.39896917, 0.5098045 , 0.37444174, 0.46218634,\n",
       "        0.3963318 , 0.38407794, 0.45598817, 0.44557348, 0.2770981 ,\n",
       "        0.2009812 , 0.20817475, 0.16976319, 0.13460839, 0.18134138,\n",
       "        0.24337289, 0.11512702, 0.29133984, 0.17499231, 0.11402721,\n",
       "        0.49421176, 0.45671278, 0.47208554, 0.32311618, 0.5004066 ,\n",
       "        0.3368933 , 0.3659039 , 0.63685673, 0.33618122, 0.2410231 ],\n",
       "       dtype=float32),\n",
       " array([0.49423942, 0.39891514, 0.5067663 , 0.3710803 , 0.46223298,\n",
       "        0.39445093, 0.38294846, 0.45892683, 0.4448083 , 0.2688704 ,\n",
       "        0.19035034, 0.19794129, 0.16676722, 0.12643494, 0.17127964,\n",
       "        0.2405324 , 0.10939373, 0.2886368 , 0.16880912, 0.11422323,\n",
       "        0.49881408, 0.45771387, 0.47567016, 0.31948742, 0.50167215,\n",
       "        0.33580083, 0.3631752 , 0.6487144 , 0.33848643, 0.23684531],\n",
       "       dtype=float32),\n",
       " array([0.51497644, 0.4099037 , 0.5074252 , 0.3715234 , 0.44358128,\n",
       "        0.39595872, 0.39671794, 0.44925702, 0.43506792, 0.25849006,\n",
       "        0.17641924, 0.19170235, 0.17005739, 0.12180353, 0.17249809,\n",
       "        0.22691669, 0.11007901, 0.2766958 , 0.1720335 , 0.11606229,\n",
       "        0.46560693, 0.4670304 , 0.4611139 , 0.31853345, 0.4826026 ,\n",
       "        0.35659137, 0.3626206 , 0.62598544, 0.3060834 , 0.24311708],\n",
       "       dtype=float32),\n",
       " array([0.51486075, 0.40343723, 0.4932211 , 0.3582798 , 0.455184  ,\n",
       "        0.3954758 , 0.39064074, 0.42932624, 0.41686544, 0.23343267,\n",
       "        0.18023804, 0.17875049, 0.16041982, 0.10589189, 0.16338071,\n",
       "        0.2062281 , 0.10961808, 0.26447833, 0.16924779, 0.09211975,\n",
       "        0.46127984, 0.4821196 , 0.4459462 , 0.2969927 , 0.48637038,\n",
       "        0.34385347, 0.34988672, 0.6081523 , 0.29958984, 0.22307697],\n",
       "       dtype=float32),\n",
       " array([0.50998026, 0.42585826, 0.50227445, 0.36257675, 0.45020303,\n",
       "        0.38849372, 0.38573945, 0.43848678, 0.45970044, 0.28566018,\n",
       "        0.1985105 , 0.19682617, 0.1937026 , 0.13408606, 0.1828153 ,\n",
       "        0.242153  , 0.1085013 , 0.30553538, 0.18056752, 0.12065601,\n",
       "        0.4826855 , 0.46338865, 0.4610019 , 0.33086795, 0.46596387,\n",
       "        0.35584795, 0.37910104, 0.6433159 , 0.3299341 , 0.260605  ],\n",
       "       dtype=float32),\n",
       " array([0.5229624 , 0.40325022, 0.5190988 , 0.3470356 , 0.43229294,\n",
       "        0.36575952, 0.3648337 , 0.45597962, 0.41221952, 0.21231791,\n",
       "        0.14925928, 0.15573454, 0.14054567, 0.10681614, 0.136159  ,\n",
       "        0.21891081, 0.09340715, 0.2681426 , 0.14213821, 0.08220138,\n",
       "        0.49188933, 0.46632996, 0.47947243, 0.2841219 , 0.47886333,\n",
       "        0.33551383, 0.3388059 , 0.66899323, 0.31379628, 0.19508699],\n",
       "       dtype=float32),\n",
       " array([0.4870057 , 0.40432242, 0.5074512 , 0.3760571 , 0.46369973,\n",
       "        0.37755853, 0.38724658, 0.43659678, 0.45321104, 0.25171325,\n",
       "        0.21454571, 0.17237052, 0.17124844, 0.11353069, 0.18042567,\n",
       "        0.20734504, 0.10060725, 0.25227123, 0.16577268, 0.08777288,\n",
       "        0.46834543, 0.46831447, 0.45873645, 0.32473785, 0.47952244,\n",
       "        0.33474302, 0.36450896, 0.6197023 , 0.29857033, 0.23376243],\n",
       "       dtype=float32),\n",
       " array([0.53570426, 0.41078812, 0.5049514 , 0.34465933, 0.41658765,\n",
       "        0.40319207, 0.37354782, 0.44385296, 0.3951769 , 0.24355553,\n",
       "        0.14784297, 0.18049279, 0.14590557, 0.09634694, 0.14050111,\n",
       "        0.22352074, 0.10357581, 0.3098173 , 0.17298445, 0.11695052,\n",
       "        0.46224472, 0.4844779 , 0.46594608, 0.2997534 , 0.4931884 ,\n",
       "        0.3348292 , 0.35070089, 0.6274721 , 0.31356993, 0.2192106 ],\n",
       "       dtype=float32),\n",
       " array([0.5011858 , 0.39615008, 0.5057606 , 0.35570922, 0.4530443 ,\n",
       "        0.39862686, 0.3671566 , 0.45056042, 0.42110175, 0.2541835 ,\n",
       "        0.16943792, 0.18056706, 0.14872792, 0.103375  , 0.1453535 ,\n",
       "        0.22275023, 0.09587162, 0.29900172, 0.16129754, 0.10684089,\n",
       "        0.49533564, 0.46485105, 0.47495502, 0.30594608, 0.5113679 ,\n",
       "        0.3121073 , 0.35294026, 0.6495555 , 0.33343115, 0.21638249],\n",
       "       dtype=float32),\n",
       " array([0.5130674 , 0.39078486, 0.5028693 , 0.35231963, 0.43971866,\n",
       "        0.37879694, 0.36751482, 0.4571058 , 0.42389128, 0.23327681,\n",
       "        0.16599281, 0.17626607, 0.15537329, 0.1286167 , 0.14696752,\n",
       "        0.21028428, 0.09774138, 0.28352138, 0.15542439, 0.08949236,\n",
       "        0.49660805, 0.4484141 , 0.47450736, 0.30376256, 0.4877598 ,\n",
       "        0.31790105, 0.34124535, 0.66019565, 0.326662  , 0.21255653],\n",
       "       dtype=float32),\n",
       " array([0.51046705, 0.39981222, 0.4969928 , 0.35292047, 0.45764148,\n",
       "        0.39460278, 0.3835074 , 0.44159317, 0.42789117, 0.24969797,\n",
       "        0.17471017, 0.19415155, 0.16832292, 0.13206169, 0.15966731,\n",
       "        0.22674924, 0.1134529 , 0.29222867, 0.17067212, 0.10282554,\n",
       "        0.4925268 , 0.45843372, 0.4622761 , 0.30093336, 0.4880129 ,\n",
       "        0.34060168, 0.354773  , 0.6428772 , 0.33096   , 0.22301829],\n",
       "       dtype=float32),\n",
       " array([0.4975596 , 0.39789912, 0.512062  , 0.3787173 , 0.46420655,\n",
       "        0.38554636, 0.39015865, 0.43892762, 0.42773154, 0.24920823,\n",
       "        0.18481867, 0.17342184, 0.17098156, 0.12616804, 0.16646434,\n",
       "        0.22458552, 0.09806626, 0.27864122, 0.17137246, 0.09395736,\n",
       "        0.4951927 , 0.46440083, 0.4718776 , 0.32390323, 0.49004856,\n",
       "        0.33603925, 0.36829078, 0.63614225, 0.31077245, 0.2216223 ],\n",
       "       dtype=float32),\n",
       " array([0.50040966, 0.40671265, 0.50753474, 0.37284803, 0.4555882 ,\n",
       "        0.3987595 , 0.3903329 , 0.45568973, 0.45283934, 0.28278044,\n",
       "        0.19458055, 0.20989643, 0.18110545, 0.14133324, 0.18094113,\n",
       "        0.24645667, 0.11832374, 0.29874408, 0.17971087, 0.12836   ,\n",
       "        0.48913577, 0.45484963, 0.47185186, 0.3262024 , 0.49046218,\n",
       "        0.34875104, 0.37276855, 0.6420531 , 0.33785108, 0.24822424],\n",
       "       dtype=float32),\n",
       " array([0.49713528, 0.41317028, 0.5170409 , 0.37629557, 0.4602061 ,\n",
       "        0.3962426 , 0.38464218, 0.4433265 , 0.453357  , 0.2874753 ,\n",
       "        0.21348888, 0.2086838 , 0.18374869, 0.14248691, 0.19391838,\n",
       "        0.24544209, 0.11764096, 0.2978242 , 0.1815833 , 0.11705096,\n",
       "        0.48357937, 0.462042  , 0.46392047, 0.32294318, 0.48550197,\n",
       "        0.34568843, 0.37689295, 0.62540466, 0.3302236 , 0.24716657],\n",
       "       dtype=float32),\n",
       " array([0.523658  , 0.40262344, 0.4976434 , 0.3428873 , 0.4493529 ,\n",
       "        0.3974887 , 0.3849641 , 0.44349346, 0.4118989 , 0.23339671,\n",
       "        0.15015788, 0.15986149, 0.15431187, 0.08939543, 0.14682518,\n",
       "        0.19889164, 0.08326824, 0.2642942 , 0.16592616, 0.09378475,\n",
       "        0.47158617, 0.466362  , 0.45947915, 0.31807244, 0.49010524,\n",
       "        0.31976756, 0.33408397, 0.63534003, 0.30121174, 0.22725102],\n",
       "       dtype=float32),\n",
       " array([0.49937838, 0.41700706, 0.51655805, 0.37770686, 0.46052882,\n",
       "        0.40114698, 0.38827536, 0.44149044, 0.4603457 , 0.29968828,\n",
       "        0.2168117 , 0.21993123, 0.19498344, 0.15637754, 0.2003053 ,\n",
       "        0.25057808, 0.12314925, 0.3080028 , 0.18706831, 0.12711501,\n",
       "        0.48272613, 0.45722696, 0.46039224, 0.3255455 , 0.48133412,\n",
       "        0.35175088, 0.38334548, 0.62484634, 0.33455676, 0.2548734 ],\n",
       "       dtype=float32),\n",
       " array([0.5019481 , 0.420703  , 0.5186513 , 0.37980276, 0.46064642,\n",
       "        0.40767032, 0.39147523, 0.43988737, 0.4671135 , 0.31260544,\n",
       "        0.22046867, 0.22983691, 0.20693693, 0.17173687, 0.20622472,\n",
       "        0.25568038, 0.12986992, 0.31938577, 0.19473521, 0.14116962,\n",
       "        0.48138052, 0.45274228, 0.46007752, 0.32733148, 0.47861966,\n",
       "        0.3560297 , 0.3910965 , 0.623474  , 0.34045988, 0.25929236],\n",
       "       dtype=float32),\n",
       " array([0.5014294 , 0.4100853 , 0.51362836, 0.3694661 , 0.4616087 ,\n",
       "        0.3949465 , 0.39495236, 0.4464307 , 0.45189762, 0.2801338 ,\n",
       "        0.19899447, 0.21160586, 0.19049668, 0.15926868, 0.1870928 ,\n",
       "        0.2592056 , 0.1310192 , 0.30222318, 0.18999732, 0.12478107,\n",
       "        0.49580136, 0.45567298, 0.47518235, 0.31929058, 0.48006517,\n",
       "        0.36283955, 0.3796962 , 0.64061147, 0.34271517, 0.23812012],\n",
       "       dtype=float32),\n",
       " array([0.49622324, 0.40006462, 0.51374334, 0.38135326, 0.4636132 ,\n",
       "        0.387646  , 0.39745665, 0.44211468, 0.43591234, 0.25371546,\n",
       "        0.18821155, 0.18210316, 0.1732837 , 0.12993003, 0.17377812,\n",
       "        0.22791608, 0.10550709, 0.2713622 , 0.17206608, 0.09957542,\n",
       "        0.48580644, 0.4627115 , 0.46819726, 0.32337463, 0.4873057 ,\n",
       "        0.34782913, 0.3698251 , 0.63063675, 0.3069483 , 0.22789338],\n",
       "       dtype=float32),\n",
       " array([0.50226235, 0.39008668, 0.5173311 , 0.37235034, 0.46330613,\n",
       "        0.38517997, 0.36493993, 0.4597212 , 0.4180368 , 0.21530136,\n",
       "        0.16165593, 0.14736433, 0.13432245, 0.08512136, 0.1355973 ,\n",
       "        0.20424482, 0.08009639, 0.25415874, 0.13032703, 0.08475181,\n",
       "        0.4977274 , 0.47743687, 0.4734    , 0.28253278, 0.5214012 ,\n",
       "        0.30735898, 0.34125873, 0.6603531 , 0.31362638, 0.19418882],\n",
       "       dtype=float32),\n",
       " array([0.49991852, 0.40820548, 0.51948136, 0.39103663, 0.45953292,\n",
       "        0.39498568, 0.4018124 , 0.44525814, 0.45035776, 0.27672324,\n",
       "        0.20445411, 0.20553128, 0.19169082, 0.15499191, 0.19339925,\n",
       "        0.24644928, 0.12068095, 0.28894225, 0.18230356, 0.11802416,\n",
       "        0.48213434, 0.46078542, 0.46388125, 0.3270109 , 0.48273692,\n",
       "        0.3616718 , 0.38434896, 0.62514657, 0.31821895, 0.2422473 ],\n",
       "       dtype=float32),\n",
       " array([0.49089998, 0.4090605 , 0.5101681 , 0.37834686, 0.46221125,\n",
       "        0.38546255, 0.3888612 , 0.43817252, 0.45875737, 0.2707748 ,\n",
       "        0.21910517, 0.1898276 , 0.18306643, 0.13131247, 0.1905157 ,\n",
       "        0.22155379, 0.10904225, 0.27157927, 0.17512114, 0.10107645,\n",
       "        0.47242218, 0.46264854, 0.45897204, 0.3284833 , 0.47798336,\n",
       "        0.3413496 , 0.37286845, 0.62027687, 0.3108621 , 0.24397579],\n",
       "       dtype=float32),\n",
       " array([0.5043278 , 0.4004894 , 0.49855775, 0.3640827 , 0.4584166 ,\n",
       "        0.39742017, 0.38888052, 0.4476457 , 0.44485587, 0.27536193,\n",
       "        0.19346525, 0.21532917, 0.18676431, 0.16103354, 0.1791167 ,\n",
       "        0.24039322, 0.12351536, 0.30585733, 0.18480274, 0.1167561 ,\n",
       "        0.4971252 , 0.44688877, 0.466881  , 0.3205758 , 0.48458174,\n",
       "        0.34513253, 0.36701033, 0.6416414 , 0.34306422, 0.24132538],\n",
       "       dtype=float32),\n",
       " array([0.50823003, 0.41909164, 0.5191729 , 0.37975827, 0.455391  ,\n",
       "        0.411455  , 0.39372438, 0.4439285 , 0.45960733, 0.3081487 ,\n",
       "        0.21221724, 0.23202911, 0.20330045, 0.17173861, 0.20353538,\n",
       "        0.2584654 , 0.13456336, 0.32066756, 0.19700761, 0.1471928 ,\n",
       "        0.47909814, 0.45513722, 0.46264642, 0.32357016, 0.48173547,\n",
       "        0.35943803, 0.3886657 , 0.62148994, 0.341427  , 0.25619525],\n",
       "       dtype=float32),\n",
       " array([0.48479894, 0.40734714, 0.51564604, 0.37635165, 0.46508655,\n",
       "        0.37814534, 0.38225064, 0.43873194, 0.45437777, 0.25773904,\n",
       "        0.21536484, 0.17350191, 0.16869937, 0.11248522, 0.18093681,\n",
       "        0.21653055, 0.1000012 , 0.25853518, 0.16450782, 0.09059956,\n",
       "        0.47437292, 0.46938404, 0.4637637 , 0.32237825, 0.48318857,\n",
       "        0.33352798, 0.3674553 , 0.62476885, 0.30480883, 0.23191273],\n",
       "       dtype=float32),\n",
       " array([0.5240746 , 0.3833892 , 0.55028594, 0.36315635, 0.42458013,\n",
       "        0.34486723, 0.33127633, 0.44648692, 0.3637945 , 0.15842573,\n",
       "        0.12485371, 0.09970493, 0.10420803, 0.06886384, 0.10163981,\n",
       "        0.16381778, 0.04898888, 0.2351565 , 0.09932574, 0.04163086,\n",
       "        0.49261495, 0.48311034, 0.46962857, 0.26059338, 0.50327307,\n",
       "        0.2723655 , 0.31413156, 0.669217  , 0.25811473, 0.14740294],\n",
       "       dtype=float32),\n",
       " array([0.5085282 , 0.41709608, 0.5193312 , 0.38320768, 0.449407  ,\n",
       "        0.40106013, 0.40076607, 0.44992173, 0.4597735 , 0.29141873,\n",
       "        0.20582864, 0.22074991, 0.19753778, 0.16299875, 0.20048888,\n",
       "        0.25393158, 0.13243285, 0.29901296, 0.18948811, 0.1376977 ,\n",
       "        0.4723869 , 0.4577781 , 0.4640626 , 0.32548442, 0.47610542,\n",
       "        0.36985004, 0.38501778, 0.6239267 , 0.32745016, 0.25425282],\n",
       "       dtype=float32),\n",
       " array([0.5040773 , 0.415022  , 0.5151264 , 0.38292205, 0.45623964,\n",
       "        0.40963748, 0.39373595, 0.4451074 , 0.4639389 , 0.3150572 ,\n",
       "        0.22459342, 0.2371424 , 0.21116091, 0.18588285, 0.21205033,\n",
       "        0.2571254 , 0.13687105, 0.32388148, 0.20555888, 0.14605078,\n",
       "        0.48288378, 0.44923228, 0.4660086 , 0.3353726 , 0.48011765,\n",
       "        0.35368046, 0.39019752, 0.6193474 , 0.3465119 , 0.26239875],\n",
       "       dtype=float32),\n",
       " array([0.5066729 , 0.37962443, 0.48307237, 0.36977938, 0.43990895,\n",
       "        0.37620056, 0.38701588, 0.44914636, 0.41526857, 0.21297477,\n",
       "        0.18891129, 0.162058  , 0.15139008, 0.1050441 , 0.1615417 ,\n",
       "        0.17704278, 0.09767654, 0.23538259, 0.16419603, 0.07428101,\n",
       "        0.4564962 , 0.47001153, 0.4590706 , 0.322511  , 0.48835394,\n",
       "        0.3160295 , 0.33250532, 0.6073543 , 0.28593552, 0.2222862 ],\n",
       "       dtype=float32),\n",
       " array([0.50910753, 0.4228874 , 0.50350124, 0.36722863, 0.44997486,\n",
       "        0.3913517 , 0.38752234, 0.44034803, 0.45986766, 0.29041752,\n",
       "        0.2050225 , 0.20413402, 0.19732101, 0.14387432, 0.18976462,\n",
       "        0.24384181, 0.1136008 , 0.3078219 , 0.18635353, 0.12361471,\n",
       "        0.48198923, 0.4607517 , 0.46208423, 0.33417863, 0.46782732,\n",
       "        0.35490415, 0.38042167, 0.6371182 , 0.33214673, 0.26250848],\n",
       "       dtype=float32),\n",
       " array([0.51428026, 0.40503615, 0.5144822 , 0.3807718 , 0.4406549 ,\n",
       "        0.4011787 , 0.39840642, 0.46202964, 0.4348015 , 0.2677518 ,\n",
       "        0.18755674, 0.21364072, 0.17255485, 0.14102913, 0.18679911,\n",
       "        0.24901372, 0.1295543 , 0.28672415, 0.18203062, 0.12801775,\n",
       "        0.47166902, 0.46679533, 0.46900854, 0.3176741 , 0.49135092,\n",
       "        0.36321202, 0.3667237 , 0.6215211 , 0.32296973, 0.24392818],\n",
       "       dtype=float32),\n",
       " array([0.49960786, 0.41322443, 0.51608646, 0.37782758, 0.4607822 ,\n",
       "        0.40572995, 0.38913414, 0.44579533, 0.45842966, 0.30115473,\n",
       "        0.21262394, 0.22419155, 0.19390808, 0.15995327, 0.19756638,\n",
       "        0.25321758, 0.12647076, 0.31218773, 0.18938561, 0.13405621,\n",
       "        0.48612848, 0.45422682, 0.4649287 , 0.32476023, 0.48711276,\n",
       "        0.34990695, 0.382669  , 0.6275614 , 0.34099346, 0.25237584],\n",
       "       dtype=float32),\n",
       " array([0.50185126, 0.4068146 , 0.502684  , 0.37613025, 0.45662287,\n",
       "        0.39564022, 0.39331013, 0.44037333, 0.44948122, 0.27543136,\n",
       "        0.21222366, 0.20624259, 0.18810198, 0.14533994, 0.19322322,\n",
       "        0.22780758, 0.11973941, 0.28617805, 0.18573725, 0.11128198,\n",
       "        0.4727956 , 0.46059957, 0.4567271 , 0.32757816, 0.4798971 ,\n",
       "        0.34674084, 0.37108305, 0.61510134, 0.3195253 , 0.2496537 ],\n",
       "       dtype=float32),\n",
       " array([0.50386035, 0.41420308, 0.51550704, 0.385639  , 0.4540393 ,\n",
       "        0.4076991 , 0.39816874, 0.44910318, 0.4662155 , 0.30929518,\n",
       "        0.2190723 , 0.23408176, 0.20818049, 0.18044724, 0.20908388,\n",
       "        0.25419268, 0.13550268, 0.31363747, 0.1992472 , 0.14601612,\n",
       "        0.47796333, 0.44899964, 0.46476352, 0.33492237, 0.4796525 ,\n",
       "        0.35897008, 0.38902673, 0.62141305, 0.33922213, 0.2625333 ],\n",
       "       dtype=float32),\n",
       " array([0.5105054 , 0.37635276, 0.48845488, 0.36114556, 0.43268707,\n",
       "        0.36925864, 0.37291852, 0.45510158, 0.40841734, 0.20128946,\n",
       "        0.17292668, 0.15010223, 0.14003016, 0.09891009, 0.14466645,\n",
       "        0.17098887, 0.0875256 , 0.23626709, 0.15056188, 0.06845576,\n",
       "        0.46516922, 0.46502936, 0.46643257, 0.31196404, 0.491088  ,\n",
       "        0.3019963 , 0.32309315, 0.6269924 , 0.28829923, 0.20749858],\n",
       "       dtype=float32),\n",
       " array([0.5139988 , 0.41595283, 0.5056017 , 0.37676725, 0.44882536,\n",
       "        0.40455663, 0.39414227, 0.44437823, 0.45138726, 0.2952575 ,\n",
       "        0.20190813, 0.21671662, 0.20214362, 0.16047446, 0.19280033,\n",
       "        0.24811126, 0.12279043, 0.31879872, 0.19639528, 0.13808055,\n",
       "        0.48226887, 0.45792174, 0.46465385, 0.33421835, 0.47801736,\n",
       "        0.3546962 , 0.3837975 , 0.6286813 , 0.3374084 , 0.259382  ],\n",
       "       dtype=float32),\n",
       " array([0.50543964, 0.4151825 , 0.5132818 , 0.37223336, 0.46159488,\n",
       "        0.40845546, 0.39259878, 0.44129428, 0.45590663, 0.30173543,\n",
       "        0.20814604, 0.22890322, 0.20156287, 0.1719639 , 0.19690447,\n",
       "        0.2596415 , 0.1346755 , 0.32199135, 0.19777006, 0.13962658,\n",
       "        0.49011362, 0.45306084, 0.465852  , 0.3211146 , 0.4820865 ,\n",
       "        0.35765818, 0.38552693, 0.6294562 , 0.3482748 , 0.24984866],\n",
       "       dtype=float32),\n",
       " array([0.4975917 , 0.40779644, 0.5208417 , 0.37600026, 0.45633602,\n",
       "        0.38607588, 0.39448336, 0.45424244, 0.45652562, 0.27553988,\n",
       "        0.20337357, 0.20243448, 0.18833502, 0.1589596 , 0.18902302,\n",
       "        0.2578326 , 0.12812565, 0.29135543, 0.18820146, 0.12116347,\n",
       "        0.4948911 , 0.45428556, 0.48536152, 0.32668757, 0.47798237,\n",
       "        0.36096635, 0.38044307, 0.64393234, 0.33863455, 0.2353012 ],\n",
       "       dtype=float32),\n",
       " array([0.51628876, 0.39779943, 0.5044823 , 0.3633026 , 0.44595662,\n",
       "        0.3825084 , 0.38265657, 0.4660976 , 0.4207612 , 0.21953173,\n",
       "        0.15619694, 0.15868299, 0.14164804, 0.09179059, 0.14676107,\n",
       "        0.21317191, 0.093242  , 0.24851044, 0.14630915, 0.09591544,\n",
       "        0.48133227, 0.47568613, 0.47664532, 0.2985784 , 0.49912557,\n",
       "        0.3379702 , 0.33817092, 0.65255004, 0.30895972, 0.21777692],\n",
       "       dtype=float32),\n",
       " array([0.50746197, 0.4011671 , 0.4869139 , 0.3656319 , 0.4449108 ,\n",
       "        0.37851888, 0.38954395, 0.44354984, 0.43567976, 0.24432518,\n",
       "        0.19709942, 0.17472899, 0.17284347, 0.11640038, 0.17402458,\n",
       "        0.20803264, 0.10411364, 0.26511526, 0.17882565, 0.09284386,\n",
       "        0.47053945, 0.47039476, 0.4647009 , 0.3345136 , 0.4745421 ,\n",
       "        0.3375362 , 0.3553913 , 0.6234503 , 0.30789796, 0.24334686],\n",
       "       dtype=float32),\n",
       " array([0.5158038 , 0.4014799 , 0.49829566, 0.3350306 , 0.43372062,\n",
       "        0.40365276, 0.35893273, 0.44088975, 0.4003947 , 0.2512186 ,\n",
       "        0.15013546, 0.17592877, 0.1407014 , 0.09047155, 0.12891601,\n",
       "        0.21689014, 0.09203589, 0.3217463 , 0.16759416, 0.11079921,\n",
       "        0.48542988, 0.472038  , 0.47345743, 0.30333516, 0.5075528 ,\n",
       "        0.30552727, 0.3480875 , 0.64673406, 0.33107287, 0.21204273],\n",
       "       dtype=float32),\n",
       " array([0.5063398 , 0.40004683, 0.4943245 , 0.3618164 , 0.45971122,\n",
       "        0.39733237, 0.39170074, 0.44190302, 0.43621984, 0.2620645 ,\n",
       "        0.18934381, 0.2055985 , 0.17933296, 0.14358619, 0.17457677,\n",
       "        0.23108262, 0.12121198, 0.29263595, 0.18168023, 0.10900027,\n",
       "        0.48808083, 0.4569774 , 0.46065462, 0.3140611 , 0.4855911 ,\n",
       "        0.34676233, 0.36183932, 0.63194466, 0.33111414, 0.23628321],\n",
       "       dtype=float32),\n",
       " array([0.50168085, 0.3971414 , 0.51358795, 0.37879017, 0.45426795,\n",
       "        0.38833246, 0.3797757 , 0.44787186, 0.4372224 , 0.26413208,\n",
       "        0.19520609, 0.1897119 , 0.1797319 , 0.15004334, 0.17338993,\n",
       "        0.22827083, 0.10399074, 0.29890278, 0.174884  , 0.10254384,\n",
       "        0.49899077, 0.45203546, 0.4737791 , 0.32583258, 0.4893155 ,\n",
       "        0.326066  , 0.369222  , 0.6416901 , 0.32891673, 0.22774807],\n",
       "       dtype=float32),\n",
       " array([0.5055658 , 0.39169055, 0.49306172, 0.3656866 , 0.45002973,\n",
       "        0.38807654, 0.38651738, 0.4492756 , 0.43272626, 0.24839397,\n",
       "        0.19023661, 0.19168621, 0.17096838, 0.13633278, 0.1703372 ,\n",
       "        0.21292725, 0.11137205, 0.2769641 , 0.17495868, 0.09717708,\n",
       "        0.4821345 , 0.4549799 , 0.46482483, 0.32080993, 0.48626867,\n",
       "        0.3316487 , 0.3522129 , 0.63052654, 0.3203237 , 0.23237719],\n",
       "       dtype=float32),\n",
       " array([0.5008264 , 0.40850407, 0.51106745, 0.38363943, 0.45616886,\n",
       "        0.4009576 , 0.39689314, 0.45000905, 0.4608372 , 0.29898033,\n",
       "        0.21543536, 0.22277044, 0.20437947, 0.17547454, 0.20176774,\n",
       "        0.25201455, 0.12989892, 0.31023178, 0.19903591, 0.13557696,\n",
       "        0.48794568, 0.44904584, 0.4721652 , 0.3393133 , 0.48082986,\n",
       "        0.35358244, 0.3860401 , 0.62931514, 0.34143138, 0.25620052],\n",
       "       dtype=float32),\n",
       " array([0.51051015, 0.41139498, 0.5057172 , 0.37894675, 0.45412934,\n",
       "        0.40125996, 0.39351478, 0.44128308, 0.44411322, 0.28649125,\n",
       "        0.20009018, 0.20776732, 0.19841257, 0.1561482 , 0.18802415,\n",
       "        0.24590273, 0.11736151, 0.3157071 , 0.19404987, 0.12715043,\n",
       "        0.4896378 , 0.4604656 , 0.4664539 , 0.33392036, 0.48163068,\n",
       "        0.34993258, 0.38314223, 0.63023484, 0.3349279 , 0.25089812],\n",
       "       dtype=float32),\n",
       " array([0.4964436 , 0.4078288 , 0.5128354 , 0.38511568, 0.45908868,\n",
       "        0.40449035, 0.3962611 , 0.45154306, 0.46871305, 0.31142053,\n",
       "        0.22585766, 0.23408568, 0.21056204, 0.18958363, 0.21001977,\n",
       "        0.25591514, 0.13653381, 0.31606078, 0.20489861, 0.14299719,\n",
       "        0.48952037, 0.44259983, 0.4740185 , 0.34243038, 0.48195556,\n",
       "        0.35135287, 0.38915333, 0.6276596 , 0.34933215, 0.26025808],\n",
       "       dtype=float32),\n",
       " array([0.49362332, 0.41628942, 0.5158613 , 0.38058105, 0.46207437,\n",
       "        0.39288405, 0.38921005, 0.43844342, 0.46672568, 0.2926401 ,\n",
       "        0.2247102 , 0.20724599, 0.19570418, 0.14977193, 0.20106968,\n",
       "        0.23797807, 0.11678213, 0.2923716 , 0.18319146, 0.1163911 ,\n",
       "        0.47687104, 0.4576294 , 0.45904064, 0.330901  , 0.47575802,\n",
       "        0.3484716 , 0.38326612, 0.62231463, 0.32328606, 0.25384814],\n",
       "       dtype=float32),\n",
       " array([0.5016471 , 0.39120123, 0.48369673, 0.36926708, 0.44922304,\n",
       "        0.37789363, 0.39291427, 0.44417942, 0.43097788, 0.23310216,\n",
       "        0.19861902, 0.17172772, 0.1661705 , 0.11285466, 0.17230947,\n",
       "        0.19675817, 0.10404814, 0.24946174, 0.17485753, 0.08468688,\n",
       "        0.46597174, 0.46983957, 0.46158603, 0.33185223, 0.48074192,\n",
       "        0.3322035 , 0.3484116 , 0.61493915, 0.29883263, 0.2362055 ],\n",
       "       dtype=float32),\n",
       " array([0.51560503, 0.41778758, 0.51452255, 0.3844238 , 0.4478243 ,\n",
       "        0.40179315, 0.40044218, 0.44263068, 0.44564432, 0.27999437,\n",
       "        0.19453807, 0.20832193, 0.1927833 , 0.14728709, 0.19055262,\n",
       "        0.24420461, 0.11965702, 0.29893526, 0.18311831, 0.128224  ,\n",
       "        0.47000337, 0.46732202, 0.4551683 , 0.3230995 , 0.47790167,\n",
       "        0.36629647, 0.38256553, 0.62037385, 0.31566444, 0.25177708],\n",
       "       dtype=float32),\n",
       " array([0.52020615, 0.39279625, 0.51441705, 0.36774746, 0.44000587,\n",
       "        0.37725517, 0.35704637, 0.43996996, 0.39722016, 0.21919231,\n",
       "        0.15823577, 0.14928155, 0.14862134, 0.10919642, 0.13599846,\n",
       "        0.19592044, 0.07359097, 0.28978065, 0.14311679, 0.07319793,\n",
       "        0.49922514, 0.46773988, 0.46386936, 0.3005644 , 0.49599403,\n",
       "        0.2976677 , 0.34554115, 0.6516799 , 0.30308062, 0.19826812],\n",
       "       dtype=float32),\n",
       " array([0.4937693 , 0.40480846, 0.51579195, 0.383577  , 0.46066773,\n",
       "        0.3932934 , 0.3977893 , 0.45269912, 0.46165392, 0.28946835,\n",
       "        0.21502918, 0.2152175 , 0.19856417, 0.17277996, 0.19894679,\n",
       "        0.25528026, 0.13057822, 0.298735  , 0.19513054, 0.12698631,\n",
       "        0.49410424, 0.4485273 , 0.479598  , 0.3366594 , 0.48124656,\n",
       "        0.35614258, 0.3848498 , 0.6357661 , 0.34088132, 0.24614385],\n",
       "       dtype=float32),\n",
       " array([0.5198375 , 0.410951  , 0.5070159 , 0.3488353 , 0.43680865,\n",
       "        0.40843934, 0.37098008, 0.43981537, 0.415742  , 0.26908755,\n",
       "        0.16701703, 0.1946048 , 0.16049877, 0.11348961, 0.15197913,\n",
       "        0.23256364, 0.10722093, 0.32519633, 0.179789  , 0.1248022 ,\n",
       "        0.47910303, 0.4705592 , 0.4679695 , 0.30668047, 0.49641547,\n",
       "        0.3273623 , 0.36219692, 0.63360643, 0.33322117, 0.22609247],\n",
       "       dtype=float32),\n",
       " array([0.4960931 , 0.4050104 , 0.50372094, 0.3754664 , 0.45935082,\n",
       "        0.38780096, 0.3908592 , 0.43863314, 0.4493535 , 0.26287836,\n",
       "        0.21179038, 0.19014537, 0.17949186, 0.12944454, 0.18640839,\n",
       "        0.21754445, 0.11094173, 0.27007154, 0.17656551, 0.0996296 ,\n",
       "        0.47034168, 0.464603  , 0.4572582 , 0.3255193 , 0.4801332 ,\n",
       "        0.34125113, 0.3669612 , 0.61651593, 0.30955794, 0.24177277],\n",
       "       dtype=float32),\n",
       " array([0.50517654, 0.42109275, 0.5170711 , 0.37628007, 0.45876712,\n",
       "        0.40557396, 0.38933367, 0.43786696, 0.45886704, 0.30388525,\n",
       "        0.21573508, 0.22493258, 0.19985612, 0.16177127, 0.20260467,\n",
       "        0.25367796, 0.1272347 , 0.3158775 , 0.19148068, 0.13308363,\n",
       "        0.4799632 , 0.45875165, 0.45723918, 0.32250524, 0.478632  ,\n",
       "        0.3560838 , 0.38602915, 0.6209321 , 0.33613795, 0.2564822 ],\n",
       "       dtype=float32),\n",
       " array([0.49457166, 0.39996132, 0.5116234 , 0.3783731 , 0.4602037 ,\n",
       "        0.4029455 , 0.38988015, 0.45879847, 0.45021453, 0.28552845,\n",
       "        0.20110705, 0.21808162, 0.1780978 , 0.1479309 , 0.186004  ,\n",
       "        0.2487435 , 0.12329502, 0.29822114, 0.18170175, 0.12794618,\n",
       "        0.49184367, 0.45226112, 0.4737377 , 0.32476392, 0.49970227,\n",
       "        0.3433215 , 0.3714972 , 0.6356133 , 0.3410282 , 0.2443795 ],\n",
       "       dtype=float32),\n",
       " array([0.51025915, 0.3963443 , 0.5141531 , 0.38197884, 0.44842234,\n",
       "        0.38945383, 0.3908572 , 0.46943966, 0.42807153, 0.23695648,\n",
       "        0.1744642 , 0.18221506, 0.15340455, 0.11362842, 0.16668673,\n",
       "        0.23246641, 0.10863097, 0.2596327 , 0.1560642 , 0.10574945,\n",
       "        0.48194227, 0.47328162, 0.4732624 , 0.30432564, 0.5029811 ,\n",
       "        0.34922692, 0.35263488, 0.63984096, 0.3153269 , 0.22493531],\n",
       "       dtype=float32),\n",
       " array([0.500419  , 0.41266075, 0.50918865, 0.36962596, 0.46141857,\n",
       "        0.39091218, 0.38754198, 0.43191117, 0.4457548 , 0.26156577,\n",
       "        0.20361342, 0.18664066, 0.17569858, 0.12077839, 0.18030827,\n",
       "        0.22102258, 0.10904181, 0.27430743, 0.1715161 , 0.10079093,\n",
       "        0.46910948, 0.4714329 , 0.45274636, 0.31211194, 0.48005983,\n",
       "        0.34512815, 0.36827746, 0.61785567, 0.30849436, 0.23555428],\n",
       "       dtype=float32),\n",
       " array([0.5137154 , 0.41982916, 0.50521666, 0.3712739 , 0.4500981 ,\n",
       "        0.4011274 , 0.3922246 , 0.4424958 , 0.4533847 , 0.29049444,\n",
       "        0.19466925, 0.20821758, 0.19776602, 0.14786777, 0.18459027,\n",
       "        0.24658887, 0.11665024, 0.3150032 , 0.18811643, 0.13498802,\n",
       "        0.48293462, 0.4601708 , 0.46327862, 0.32950807, 0.4758661 ,\n",
       "        0.35656986, 0.38275868, 0.63706946, 0.33479065, 0.25696442],\n",
       "       dtype=float32),\n",
       " array([0.5050409 , 0.41706014, 0.49797654, 0.3558118 , 0.4516473 ,\n",
       "        0.37969145, 0.37934446, 0.444515  , 0.44559577, 0.26164314,\n",
       "        0.18381912, 0.17983049, 0.1690965 , 0.1083423 , 0.16542526,\n",
       "        0.2347999 , 0.0974957 , 0.28730592, 0.16470702, 0.1028015 ,\n",
       "        0.4895686 , 0.4702643 , 0.4652822 , 0.32317856, 0.4766337 ,\n",
       "        0.34655014, 0.36352554, 0.65330446, 0.32415092, 0.24758013],\n",
       "       dtype=float32),\n",
       " array([0.49458367, 0.39840788, 0.53222996, 0.392559  , 0.46068045,\n",
       "        0.3807039 , 0.38412178, 0.44380304, 0.4330518 , 0.24995227,\n",
       "        0.19489628, 0.172764  , 0.17134678, 0.13625376, 0.17248523,\n",
       "        0.22907214, 0.09768284, 0.2779155 , 0.16383617, 0.09099647,\n",
       "        0.49542361, 0.46357283, 0.47372636, 0.31845573, 0.4914398 ,\n",
       "        0.33305576, 0.37476802, 0.6363346 , 0.30838904, 0.2127987 ],\n",
       "       dtype=float32),\n",
       " array([0.5339584 , 0.4133739 , 0.5056036 , 0.34288445, 0.4205801 ,\n",
       "        0.40613532, 0.37077272, 0.4393037 , 0.3990676 , 0.25175905,\n",
       "        0.15146098, 0.18353638, 0.15038218, 0.09985821, 0.14184065,\n",
       "        0.22533894, 0.1036873 , 0.31964093, 0.17600052, 0.12036336,\n",
       "        0.46573126, 0.48191136, 0.4652315 , 0.30011523, 0.4926874 ,\n",
       "        0.3314308 , 0.35471871, 0.62848634, 0.31936792, 0.22030993],\n",
       "       dtype=float32),\n",
       " array([0.5216949 , 0.4087183 , 0.5173326 , 0.3761958 , 0.4324871 ,\n",
       "        0.39387456, 0.40030313, 0.46121684, 0.4262503 , 0.2505687 ,\n",
       "        0.17452075, 0.19932766, 0.16435775, 0.1272317 , 0.1774632 ,\n",
       "        0.24736202, 0.12644422, 0.2757023 , 0.17566997, 0.12066784,\n",
       "        0.46477744, 0.47620666, 0.4692891 , 0.3099155 , 0.4850279 ,\n",
       "        0.37343433, 0.36307493, 0.62332433, 0.311234  , 0.23538433],\n",
       "       dtype=float32),\n",
       " array([0.5132017 , 0.38989633, 0.5031812 , 0.35243866, 0.43822116,\n",
       "        0.37745473, 0.36633527, 0.45836642, 0.42349982, 0.23176128,\n",
       "        0.1654968 , 0.1746908 , 0.15429227, 0.12812778, 0.14606345,\n",
       "        0.20859265, 0.09649918, 0.2823472 , 0.15427588, 0.08829979,\n",
       "        0.49661022, 0.44772378, 0.47542855, 0.304204  , 0.48776546,\n",
       "        0.31594503, 0.3400351 , 0.66119015, 0.32594872, 0.21177761],\n",
       "       dtype=float32),\n",
       " array([0.50909376, 0.4185354 , 0.5254634 , 0.37421155, 0.4505621 ,\n",
       "        0.38903278, 0.39918888, 0.44915956, 0.4500414 , 0.26750034,\n",
       "        0.19006205, 0.19922872, 0.18256809, 0.14286327, 0.1851794 ,\n",
       "        0.25938967, 0.12806487, 0.28499535, 0.17962028, 0.12307701,\n",
       "        0.47926003, 0.46767187, 0.4726088 , 0.31169465, 0.47358888,\n",
       "        0.37859106, 0.3801465 , 0.6366111 , 0.3231928 , 0.23459238],\n",
       "       dtype=float32),\n",
       " array([0.5137084 , 0.4157944 , 0.4951594 , 0.36501282, 0.44177204,\n",
       "        0.38501975, 0.38693157, 0.44321546, 0.44735655, 0.27233243,\n",
       "        0.20119955, 0.19114135, 0.18926685, 0.13393529, 0.18434079,\n",
       "        0.23159045, 0.1102484 , 0.296061  , 0.18888776, 0.11279841,\n",
       "        0.4782134 , 0.4662891 , 0.46742967, 0.33907586, 0.46748704,\n",
       "        0.34787574, 0.3704652 , 0.63230705, 0.3260024 , 0.257902  ],\n",
       "       dtype=float32),\n",
       " array([0.50967103, 0.41188306, 0.50543994, 0.3519472 , 0.4607246 ,\n",
       "        0.35440835, 0.35809478, 0.44593424, 0.4171523 , 0.1984017 ,\n",
       "        0.15886965, 0.12434778, 0.12902695, 0.06415763, 0.13474634,\n",
       "        0.20505825, 0.06671178, 0.23551175, 0.12053145, 0.06241678,\n",
       "        0.49947342, 0.49976724, 0.46447295, 0.28500447, 0.49001762,\n",
       "        0.32475695, 0.3325156 , 0.67154527, 0.2972862 , 0.20796661],\n",
       "       dtype=float32),\n",
       " array([0.507735  , 0.40024826, 0.50362027, 0.36873844, 0.4584049 ,\n",
       "        0.38776663, 0.38230917, 0.43427047, 0.41648817, 0.24621153,\n",
       "        0.17450358, 0.16614097, 0.1682653 , 0.11694984, 0.15643644,\n",
       "        0.21792199, 0.09045591, 0.29086432, 0.17246221, 0.09341141,\n",
       "        0.49760717, 0.4685106 , 0.47159296, 0.32367358, 0.48994356,\n",
       "        0.3256182 , 0.3632128 , 0.63957393, 0.31410804, 0.22179922],\n",
       "       dtype=float32),\n",
       " array([0.51244015, 0.42254502, 0.5074744 , 0.3697058 , 0.450799  ,\n",
       "        0.39851308, 0.39269346, 0.44252518, 0.4568443 , 0.28717005,\n",
       "        0.19118655, 0.20415021, 0.19444948, 0.14081234, 0.18134287,\n",
       "        0.24606717, 0.11442679, 0.30824184, 0.18136694, 0.13324247,\n",
       "        0.48047328, 0.4613638 , 0.46145785, 0.32528767, 0.47407782,\n",
       "        0.36083603, 0.38242224, 0.64086175, 0.33031306, 0.2553697 ],\n",
       "       dtype=float32),\n",
       " array([0.50121635, 0.4196329 , 0.51122826, 0.37567526, 0.4581112 ,\n",
       "        0.39956594, 0.39080682, 0.44206613, 0.46819085, 0.3037116 ,\n",
       "        0.21458402, 0.21823053, 0.20330623, 0.15989508, 0.19824131,\n",
       "        0.249044  , 0.12146604, 0.3115373 , 0.18924887, 0.13340844,\n",
       "        0.48323345, 0.4527647 , 0.46207422, 0.33291772, 0.4748794 ,\n",
       "        0.354379  , 0.38685682, 0.632889  , 0.33714223, 0.26138613],\n",
       "       dtype=float32),\n",
       " array([0.5132928 , 0.42141888, 0.50852156, 0.3726777 , 0.44999236,\n",
       "        0.39961544, 0.39412528, 0.44266075, 0.45455974, 0.28665823,\n",
       "        0.19246742, 0.20588641, 0.19480638, 0.14326862, 0.18375681,\n",
       "        0.24595933, 0.11595207, 0.3075808 , 0.18275656, 0.13294475,\n",
       "        0.47864184, 0.4622056 , 0.4604814 , 0.3255089 , 0.47492942,\n",
       "        0.36145982, 0.3825949 , 0.63644934, 0.3283018 , 0.25522417],\n",
       "       dtype=float32),\n",
       " array([0.5127114 , 0.41945142, 0.51809496, 0.37045842, 0.45359164,\n",
       "        0.4152663 , 0.3855908 , 0.43968198, 0.44732562, 0.30485913,\n",
       "        0.20306353, 0.22767864, 0.19502558, 0.16074248, 0.19268604,\n",
       "        0.2576537 , 0.13072449, 0.33209503, 0.19741625, 0.14606464,\n",
       "        0.48258016, 0.45978016, 0.4640243 , 0.31615934, 0.48678476,\n",
       "        0.3503656 , 0.3844557 , 0.62248236, 0.34653085, 0.24807116],\n",
       "       dtype=float32),\n",
       " array([0.5032858 , 0.40951085, 0.4985226 , 0.35839674, 0.45390484,\n",
       "        0.3870503 , 0.3810054 , 0.45225623, 0.44390726, 0.26407218,\n",
       "        0.18009579, 0.18634804, 0.16764814, 0.1139471 , 0.16296686,\n",
       "        0.23822694, 0.10206358, 0.29174155, 0.16725616, 0.11151488,\n",
       "        0.4954752 , 0.46426535, 0.47259113, 0.32188717, 0.48748246,\n",
       "        0.34245276, 0.362675  , 0.6568171 , 0.33402216, 0.24289575],\n",
       "       dtype=float32),\n",
       " array([0.5012751 , 0.39705712, 0.49210334, 0.37325072, 0.45763466,\n",
       "        0.3964707 , 0.3974389 , 0.44661573, 0.44564143, 0.27294582,\n",
       "        0.20691678, 0.21457288, 0.18967836, 0.15772405, 0.1905212 ,\n",
       "        0.23044537, 0.1260532 , 0.290008  , 0.19160452, 0.11252796,\n",
       "        0.48338065, 0.4521228 , 0.4621806 , 0.33239284, 0.4830888 ,\n",
       "        0.3466628 , 0.3666128 , 0.6224009 , 0.32990754, 0.2502806 ],\n",
       "       dtype=float32),\n",
       " array([0.5014117 , 0.4024404 , 0.5043786 , 0.36895648, 0.4543696 ,\n",
       "        0.3950301 , 0.38728568, 0.45987025, 0.44408327, 0.26884717,\n",
       "        0.18431354, 0.19929619, 0.16962221, 0.12740794, 0.17046559,\n",
       "        0.24244896, 0.11225434, 0.2910539 , 0.17235775, 0.12064372,\n",
       "        0.4929665 , 0.45890865, 0.4755192 , 0.321729  , 0.4957682 ,\n",
       "        0.3443048 , 0.36449134, 0.6485869 , 0.33650076, 0.24113677],\n",
       "       dtype=float32),\n",
       " array([0.51039535, 0.42431152, 0.5014017 , 0.35965776, 0.45193136,\n",
       "        0.39387935, 0.38658705, 0.4423462 , 0.46091425, 0.28783906,\n",
       "        0.1890166 , 0.19839767, 0.19296052, 0.13390505, 0.17483349,\n",
       "        0.24537337, 0.10941622, 0.31177193, 0.1798004 , 0.1313136 ,\n",
       "        0.48790357, 0.4592068 , 0.46602032, 0.32770738, 0.47146642,\n",
       "        0.355405  , 0.37990648, 0.65314686, 0.33833528, 0.25693262],\n",
       "       dtype=float32),\n",
       " array([0.5003007 , 0.40757462, 0.5116511 , 0.37029353, 0.46107975,\n",
       "        0.39469013, 0.3941815 , 0.4480394 , 0.4527548 , 0.2809477 ,\n",
       "        0.20068817, 0.21263698, 0.19115038, 0.1620148 , 0.18747996,\n",
       "        0.25618422, 0.1300955 , 0.30242923, 0.1903583 , 0.12404157,\n",
       "        0.49661994, 0.45270583, 0.47573134, 0.3223996 , 0.4808885 ,\n",
       "        0.35882035, 0.37848055, 0.64101094, 0.34363246, 0.23952314],\n",
       "       dtype=float32),\n",
       " array([0.49836278, 0.4075255 , 0.5143116 , 0.37334386, 0.4605134 ,\n",
       "        0.3931867 , 0.39476886, 0.44998008, 0.45586523, 0.2830213 ,\n",
       "        0.20464955, 0.21214674, 0.19280797, 0.1645584 , 0.19057518,\n",
       "        0.25774264, 0.13083373, 0.30103222, 0.19207424, 0.1252749 ,\n",
       "        0.49651575, 0.4519394 , 0.47903326, 0.32606122, 0.48025668,\n",
       "        0.35898334, 0.3806836 , 0.6408612 , 0.34388423, 0.24027562],\n",
       "       dtype=float32),\n",
       " array([0.5375182 , 0.4231018 , 0.48261392, 0.35025796, 0.43932718,\n",
       "        0.39222947, 0.37967807, 0.42466533, 0.40973827, 0.2523976 ,\n",
       "        0.16021186, 0.1664055 , 0.17791818, 0.10403985, 0.15104705,\n",
       "        0.22410384, 0.08742949, 0.32025856, 0.17919041, 0.10619543,\n",
       "        0.48883352, 0.4865257 , 0.45756406, 0.32482862, 0.4725593 ,\n",
       "        0.3403933 , 0.36534956, 0.64348155, 0.3200522 , 0.24585973],\n",
       "       dtype=float32),\n",
       " array([0.49271247, 0.420508  , 0.51839113, 0.37802032, 0.46155283,\n",
       "        0.38754454, 0.38548833, 0.4369972 , 0.46909603, 0.2901036 ,\n",
       "        0.22334965, 0.19726053, 0.19313927, 0.14004827, 0.1969355 ,\n",
       "        0.23733714, 0.11052053, 0.28983867, 0.17882673, 0.11298804,\n",
       "        0.47778353, 0.46087033, 0.4613515 , 0.33090866, 0.47262585,\n",
       "        0.34738111, 0.38414627, 0.62812084, 0.32132766, 0.25208506],\n",
       "       dtype=float32),\n",
       " array([0.5237549 , 0.42223513, 0.5102442 , 0.34891433, 0.44233027,\n",
       "        0.41410625, 0.37432075, 0.42890614, 0.42578498, 0.28528354,\n",
       "        0.1756219 , 0.20601067, 0.17742594, 0.12901226, 0.16272505,\n",
       "        0.24166283, 0.11493246, 0.34012657, 0.18830983, 0.13512161,\n",
       "        0.47789654, 0.46926528, 0.45985234, 0.3041289 , 0.48605052,\n",
       "        0.3386924 , 0.3739538 , 0.6287746 , 0.33830723, 0.23324083],\n",
       "       dtype=float32),\n",
       " array([0.49837086, 0.41038257, 0.515812  , 0.37924418, 0.46050575,\n",
       "        0.40190053, 0.39414293, 0.44857562, 0.46307996, 0.30274555,\n",
       "        0.2174484 , 0.22589248, 0.20408915, 0.17912687, 0.20245394,\n",
       "        0.25956598, 0.13492605, 0.31453764, 0.20086366, 0.1381263 ,\n",
       "        0.4927534 , 0.4479909 , 0.47574317, 0.33308354, 0.4813735 ,\n",
       "        0.35472104, 0.387611  , 0.63223195, 0.34918565, 0.25109112],\n",
       "       dtype=float32),\n",
       " array([0.4996356 , 0.408157  , 0.5095359 , 0.37318483, 0.46280745,\n",
       "        0.4012235 , 0.39483845, 0.44656134, 0.45711935, 0.2938512 ,\n",
       "        0.20857078, 0.22365442, 0.19907378, 0.1724319 , 0.19483086,\n",
       "        0.25704592, 0.13360244, 0.311784  , 0.19675885, 0.13193405,\n",
       "        0.49547407, 0.44912472, 0.47236302, 0.32736775, 0.48220623,\n",
       "        0.35619774, 0.38228092, 0.63555616, 0.34821662, 0.24760684],\n",
       "       dtype=float32),\n",
       " array([0.5150135 , 0.40574574, 0.4954522 , 0.36175057, 0.454643  ,\n",
       "        0.3992131 , 0.3919387 , 0.43170232, 0.42337942, 0.24677074,\n",
       "        0.18607314, 0.19054043, 0.16897655, 0.11834977, 0.17150363,\n",
       "        0.21536447, 0.11525445, 0.276093  , 0.17585039, 0.10068343,\n",
       "        0.46464497, 0.47665274, 0.4475112 , 0.3026498 , 0.48493886,\n",
       "        0.34734467, 0.3561866 , 0.6091147 , 0.30781358, 0.23103881],\n",
       "       dtype=float32),\n",
       " array([0.50584257, 0.40579793, 0.5022155 , 0.36453664, 0.45250234,\n",
       "        0.3922577 , 0.38534686, 0.4581957 , 0.44230366, 0.26303223,\n",
       "        0.17787169, 0.19085462, 0.16794454, 0.11987194, 0.16439717,\n",
       "        0.24005564, 0.10730837, 0.29024428, 0.16851361, 0.11844098,\n",
       "        0.49348086, 0.4625927 , 0.47519565, 0.31883547, 0.49271783,\n",
       "        0.34502688, 0.36297   , 0.65422994, 0.33519477, 0.23958427],\n",
       "       dtype=float32),\n",
       " array([0.5090458 , 0.41496298, 0.5287978 , 0.37598106, 0.44985586,\n",
       "        0.37876388, 0.40409335, 0.4482529 , 0.43679222, 0.23747411,\n",
       "        0.17266662, 0.17560336, 0.16393852, 0.11654361, 0.17048244,\n",
       "        0.24432942, 0.11433032, 0.25423187, 0.16089328, 0.10227779,\n",
       "        0.47028875, 0.47826907, 0.46742186, 0.3018494 , 0.47434837,\n",
       "        0.38382205, 0.36981985, 0.6357417 , 0.29556197, 0.22046165],\n",
       "       dtype=float32),\n",
       " array([0.5082241 , 0.42046815, 0.523525  , 0.37403885, 0.4564129 ,\n",
       "        0.40244284, 0.39325225, 0.4429334 , 0.45477635, 0.29265273,\n",
       "        0.20321977, 0.21712826, 0.19548675, 0.16065852, 0.19463953,\n",
       "        0.26309827, 0.13262902, 0.31156656, 0.19201808, 0.13703828,\n",
       "        0.4844229 , 0.46083546, 0.46937126, 0.31590107, 0.47820768,\n",
       "        0.3661272 , 0.3868801 , 0.6303854 , 0.3394291 , 0.24329665],\n",
       "       dtype=float32),\n",
       " array([0.49771783, 0.41535   , 0.5177332 , 0.37672883, 0.4604247 ,\n",
       "        0.39641953, 0.38556817, 0.44069806, 0.455992  , 0.28897294,\n",
       "        0.21557994, 0.2079905 , 0.18709885, 0.1439688 , 0.19543046,\n",
       "        0.24392262, 0.11787142, 0.29781705, 0.18253861, 0.11794293,\n",
       "        0.48089162, 0.46211526, 0.46219274, 0.32310888, 0.4825844 ,\n",
       "        0.3470658 , 0.3791754 , 0.6236037 , 0.32841387, 0.24784425],\n",
       "       dtype=float32),\n",
       " array([0.5227084 , 0.40188307, 0.49999166, 0.33991486, 0.425968  ,\n",
       "        0.40087265, 0.3655996 , 0.44581294, 0.396136  , 0.2419705 ,\n",
       "        0.14688051, 0.17460018, 0.13873725, 0.08958869, 0.13145415,\n",
       "        0.21730353, 0.09512465, 0.30920342, 0.16627276, 0.1095956 ,\n",
       "        0.47605172, 0.4777019 , 0.47188166, 0.30182448, 0.5039789 ,\n",
       "        0.31673124, 0.34558043, 0.6405194 , 0.32098332, 0.21310712],\n",
       "       dtype=float32),\n",
       " array([0.5067628 , 0.40090212, 0.49389133, 0.36094356, 0.46095392,\n",
       "        0.398307  , 0.3925773 , 0.44024518, 0.43523479, 0.26150653,\n",
       "        0.18845257, 0.20559375, 0.17904367, 0.14179869, 0.17417929,\n",
       "        0.23173647, 0.12189499, 0.2924594 , 0.1818283 , 0.1091838 ,\n",
       "        0.4874713 , 0.4587061 , 0.45932105, 0.3121939 , 0.48570517,\n",
       "        0.34859753, 0.36206225, 0.6308168 , 0.3305755 , 0.2357828 ],\n",
       "       dtype=float32),\n",
       " array([0.5072615 , 0.41949064, 0.5192048 , 0.3768933 , 0.45807457,\n",
       "        0.4121301 , 0.38973516, 0.4412409 , 0.45729312, 0.30931136,\n",
       "        0.21319114, 0.23133288, 0.20149145, 0.16917855, 0.202223  ,\n",
       "        0.25936097, 0.13285993, 0.32497782, 0.19711652, 0.14471172,\n",
       "        0.48282114, 0.45632997, 0.4627208 , 0.32135457, 0.4836579 ,\n",
       "        0.3550538 , 0.38792887, 0.6219447 , 0.34482318, 0.25415945],\n",
       "       dtype=float32),\n",
       " array([0.5128823 , 0.4097122 , 0.5098495 , 0.35842425, 0.44524774,\n",
       "        0.40877137, 0.37696242, 0.4438383 , 0.42807382, 0.27877825,\n",
       "        0.17986895, 0.20514551, 0.16942713, 0.12761745, 0.1651831 ,\n",
       "        0.2404935 , 0.11430503, 0.32123667, 0.18322581, 0.12893821,\n",
       "        0.483377  , 0.46467867, 0.4689194 , 0.31181455, 0.49626642,\n",
       "        0.33381265, 0.36775833, 0.6324873 , 0.3381573 , 0.23318483],\n",
       "       dtype=float32),\n",
       " array([0.5152721 , 0.40307125, 0.51122934, 0.36209747, 0.4689765 ,\n",
       "        0.37255973, 0.36045027, 0.45814964, 0.417313  , 0.19877979,\n",
       "        0.14971633, 0.127418  , 0.1324383 , 0.0714426 , 0.1276421 ,\n",
       "        0.20953205, 0.07095733, 0.24612343, 0.11949641, 0.0775804 ,\n",
       "        0.5126914 , 0.49331415, 0.47545496, 0.270608  , 0.51194906,\n",
       "        0.31829503, 0.33672127, 0.68402696, 0.31910074, 0.19321524],\n",
       "       dtype=float32),\n",
       " array([0.5033342 , 0.41313565, 0.5155704 , 0.37343347, 0.4577588 ,\n",
       "        0.40481296, 0.3853935 , 0.44451764, 0.44851008, 0.29308206,\n",
       "        0.20628329, 0.21859355, 0.18579018, 0.14958324, 0.19185597,\n",
       "        0.25174698, 0.12362526, 0.31165668, 0.18715453, 0.12835239,\n",
       "        0.48565528, 0.46024755, 0.46473423, 0.31960225, 0.4890155 ,\n",
       "        0.347373  , 0.37760526, 0.62600994, 0.33887622, 0.24742033],\n",
       "       dtype=float32),\n",
       " array([0.50996494, 0.4147041 , 0.5168556 , 0.3728639 , 0.45368743,\n",
       "        0.41227925, 0.3875354 , 0.44515803, 0.44631934, 0.2982252 ,\n",
       "        0.20133992, 0.22533703, 0.18993899, 0.15716241, 0.1913513 ,\n",
       "        0.25603437, 0.12992103, 0.32234433, 0.19362655, 0.14159542,\n",
       "        0.4834722 , 0.4592616 , 0.46635577, 0.3174145 , 0.48979658,\n",
       "        0.35051167, 0.3805941 , 0.6244076 , 0.34401605, 0.24694334],\n",
       "       dtype=float32),\n",
       " array([0.49718672, 0.39116913, 0.5137341 , 0.36324176, 0.4659069 ,\n",
       "        0.38494802, 0.3567088 , 0.45177954, 0.4175798 , 0.2205238 ,\n",
       "        0.16285668, 0.14578226, 0.13310608, 0.08133782, 0.1308373 ,\n",
       "        0.20073521, 0.07558929, 0.26417127, 0.13101032, 0.0819006 ,\n",
       "        0.5021096 , 0.4753794 , 0.4722725 , 0.28491604, 0.52148604,\n",
       "        0.29610825, 0.3413258 , 0.66315925, 0.3173139 , 0.19361119],\n",
       "       dtype=float32),\n",
       " array([0.5099613 , 0.41047612, 0.49579135, 0.37095615, 0.4458652 ,\n",
       "        0.39065725, 0.39116535, 0.4446199 , 0.4487201 , 0.2772934 ,\n",
       "        0.20743196, 0.20275947, 0.19243547, 0.14578699, 0.19131547,\n",
       "        0.23204792, 0.11712643, 0.29591963, 0.19218493, 0.11551293,\n",
       "        0.47712302, 0.46105757, 0.464383  , 0.3390883 , 0.47229147,\n",
       "        0.3479783 , 0.37123814, 0.6247623 , 0.32681775, 0.25892717],\n",
       "       dtype=float32),\n",
       " array([0.50108385, 0.41219676, 0.51440054, 0.3849256 , 0.45702288,\n",
       "        0.40860227, 0.39618832, 0.44878757, 0.46736917, 0.3140741 ,\n",
       "        0.22359964, 0.2368687 , 0.21105549, 0.1870263 , 0.21071555,\n",
       "        0.25595757, 0.136783  , 0.31943426, 0.20372641, 0.1471759 ,\n",
       "        0.48372945, 0.4457948 , 0.46818087, 0.3379234 , 0.481315  ,\n",
       "        0.35410005, 0.3901279 , 0.6230369 , 0.34622523, 0.26242423],\n",
       "       dtype=float32),\n",
       " array([0.48869938, 0.4153281 , 0.5056808 , 0.35357574, 0.45528585,\n",
       "        0.344135  , 0.36820292, 0.42881247, 0.44241926, 0.2080274 ,\n",
       "        0.18910995, 0.11537457, 0.14217173, 0.06306   , 0.14415872,\n",
       "        0.18418463, 0.06921494, 0.2197802 , 0.13890965, 0.0620373 ,\n",
       "        0.46625775, 0.49623573, 0.46978012, 0.3171034 , 0.4670345 ,\n",
       "        0.32167265, 0.34947327, 0.6458175 , 0.27488363, 0.21172926],\n",
       "       dtype=float32),\n",
       " array([0.5002818 , 0.39874607, 0.5256214 , 0.38021696, 0.45212087,\n",
       "        0.38044533, 0.37883276, 0.45065707, 0.43642214, 0.25261095,\n",
       "        0.19104317, 0.17886907, 0.17108124, 0.14114106, 0.16979222,\n",
       "        0.22990918, 0.10220774, 0.2848795 , 0.16646473, 0.09645873,\n",
       "        0.49644795, 0.456664  , 0.47853935, 0.31761506, 0.48760623,\n",
       "        0.33111727, 0.3681151 , 0.64491856, 0.3206524 , 0.21671219],\n",
       "       dtype=float32),\n",
       " array([0.49553204, 0.3984688 , 0.50470465, 0.36026657, 0.4542517 ,\n",
       "        0.39257428, 0.37300017, 0.45026037, 0.4294359 , 0.26130128,\n",
       "        0.18325427, 0.18929635, 0.15453957, 0.11039236, 0.15969566,\n",
       "        0.2291621 , 0.10115802, 0.2923702 , 0.16631456, 0.10313769,\n",
       "        0.49206793, 0.46405864, 0.47117957, 0.31653142, 0.50258666,\n",
       "        0.32276657, 0.35611585, 0.6418331 , 0.3288896 , 0.22939365],\n",
       "       dtype=float32),\n",
       " array([0.4931902 , 0.39796546, 0.5108243 , 0.37831113, 0.46058142,\n",
       "        0.401961  , 0.3895973 , 0.46044293, 0.44924262, 0.2830531 ,\n",
       "        0.19991064, 0.21657875, 0.17557737, 0.14554632, 0.18425398,\n",
       "        0.24766159, 0.12216196, 0.29566664, 0.1800867 , 0.12600043,\n",
       "        0.4930105 , 0.451996  , 0.47486705, 0.3249407 , 0.5014936 ,\n",
       "        0.34181088, 0.3696816 , 0.63703376, 0.34076402, 0.24321078],\n",
       "       dtype=float32),\n",
       " array([0.50669473, 0.42024416, 0.5061176 , 0.37102735, 0.4527659 ,\n",
       "        0.3971661 , 0.38977325, 0.4428994 , 0.46312892, 0.2979191 ,\n",
       "        0.20784691, 0.21275513, 0.20120145, 0.15405354, 0.19312283,\n",
       "        0.24745338, 0.11900979, 0.3126261 , 0.19014916, 0.13212605,\n",
       "        0.48363855, 0.45558524, 0.46421322, 0.33448917, 0.47236046,\n",
       "        0.35439754, 0.3835866 , 0.6361354 , 0.33769265, 0.2621553 ],\n",
       "       dtype=float32),\n",
       " array([0.5182317 , 0.3898385 , 0.49805614, 0.33578524, 0.45801467,\n",
       "        0.38792393, 0.36917865, 0.4400115 , 0.39277372, 0.2134779 ,\n",
       "        0.14171973, 0.13514598, 0.14231162, 0.07801572, 0.12938297,\n",
       "        0.18645239, 0.06673629, 0.26257235, 0.15858886, 0.07325786,\n",
       "        0.49609727, 0.46624178, 0.47135454, 0.3185209 , 0.5013835 ,\n",
       "        0.2876553 , 0.3229571 , 0.65096194, 0.30465907, 0.20365053],\n",
       "       dtype=float32),\n",
       " array([0.5089991 , 0.4198374 , 0.51699007, 0.37874234, 0.45616123,\n",
       "        0.41270202, 0.39224946, 0.44054547, 0.45945027, 0.3133758 ,\n",
       "        0.21789055, 0.2362142 , 0.20840678, 0.1788652 , 0.20802853,\n",
       "        0.25907022, 0.13639554, 0.32763493, 0.20273817, 0.14728291,\n",
       "        0.48065552, 0.454307  , 0.46139282, 0.32617265, 0.47984874,\n",
       "        0.35708398, 0.38997692, 0.6181486 , 0.34507382, 0.25935727],\n",
       "       dtype=float32)]"
      ]
     },
     "execution_count": 51,
     "metadata": {},
     "output_type": "execute_result"
    }
   ],
   "source": [
    "x_train_minority_copy = x_train_minority.detach().cpu().numpy().copy()\n",
    "added_data_to_minority = []\n",
    "\n",
    "for i in range(115):\n",
    "    sampled_mu = torch.Tensor([np.zeros(num_features)])\n",
    "    sampled_logvar = torch.Tensor([np.zeros(num_features)])\n",
    "    reconstruction = model_bcd.sample(sampled_mu, sampled_logvar)\n",
    "    reconstruction = reconstruction[0].detach().cpu().numpy()\n",
    "    added_data_to_minority.append(reconstruction)\n",
    "\n",
    "added_data_to_minority\n"
   ]
  },
  {
   "attachments": {},
   "cell_type": "markdown",
   "metadata": {},
   "source": [
    "**Combining our generated records to the original minority class**"
   ]
  },
  {
   "cell_type": "code",
   "execution_count": 52,
   "metadata": {},
   "outputs": [
    {
     "data": {
      "text/plain": [
       "(285, 30)"
      ]
     },
     "execution_count": 52,
     "metadata": {},
     "output_type": "execute_result"
    }
   ],
   "source": [
    "x_minority = np.concatenate((x_train_minority_copy, added_data_to_minority))\n",
    "x_minority.shape\n"
   ]
  },
  {
   "attachments": {},
   "cell_type": "markdown",
   "metadata": {},
   "source": [
    "Our class **\"M\"** now has the same number of records with class **\"B\"** after adding the data we generated using Variational Autoencoder."
   ]
  },
  {
   "attachments": {},
   "cell_type": "markdown",
   "metadata": {},
   "source": [
    "#### **Recreating our DataFrame**"
   ]
  },
  {
   "attachments": {},
   "cell_type": "markdown",
   "metadata": {},
   "source": [
    "We add the **target** column for our class **\"M\"** dataset."
   ]
  },
  {
   "cell_type": "code",
   "execution_count": 53,
   "metadata": {},
   "outputs": [
    {
     "data": {
      "text/html": [
       "<div>\n",
       "<style scoped>\n",
       "    .dataframe tbody tr th:only-of-type {\n",
       "        vertical-align: middle;\n",
       "    }\n",
       "\n",
       "    .dataframe tbody tr th {\n",
       "        vertical-align: top;\n",
       "    }\n",
       "\n",
       "    .dataframe thead th {\n",
       "        text-align: right;\n",
       "    }\n",
       "</style>\n",
       "<table border=\"1\" class=\"dataframe\">\n",
       "  <thead>\n",
       "    <tr style=\"text-align: right;\">\n",
       "      <th></th>\n",
       "      <th>0</th>\n",
       "      <th>1</th>\n",
       "      <th>2</th>\n",
       "      <th>3</th>\n",
       "      <th>4</th>\n",
       "      <th>5</th>\n",
       "      <th>6</th>\n",
       "      <th>7</th>\n",
       "      <th>8</th>\n",
       "      <th>9</th>\n",
       "      <th>...</th>\n",
       "      <th>21</th>\n",
       "      <th>22</th>\n",
       "      <th>23</th>\n",
       "      <th>24</th>\n",
       "      <th>25</th>\n",
       "      <th>26</th>\n",
       "      <th>27</th>\n",
       "      <th>28</th>\n",
       "      <th>29</th>\n",
       "      <th>30</th>\n",
       "    </tr>\n",
       "  </thead>\n",
       "  <tbody>\n",
       "    <tr>\n",
       "      <th>0</th>\n",
       "      <td>0.521037</td>\n",
       "      <td>0.370308</td>\n",
       "      <td>0.511437</td>\n",
       "      <td>0.359788</td>\n",
       "      <td>0.460143</td>\n",
       "      <td>0.340531</td>\n",
       "      <td>0.281396</td>\n",
       "      <td>0.438569</td>\n",
       "      <td>0.470707</td>\n",
       "      <td>0.225990</td>\n",
       "      <td>...</td>\n",
       "      <td>0.356876</td>\n",
       "      <td>0.436725</td>\n",
       "      <td>0.286030</td>\n",
       "      <td>0.508684</td>\n",
       "      <td>0.335895</td>\n",
       "      <td>0.263658</td>\n",
       "      <td>0.678351</td>\n",
       "      <td>0.294697</td>\n",
       "      <td>0.196707</td>\n",
       "      <td>M</td>\n",
       "    </tr>\n",
       "    <tr>\n",
       "      <th>1</th>\n",
       "      <td>0.629893</td>\n",
       "      <td>0.156578</td>\n",
       "      <td>0.630986</td>\n",
       "      <td>0.489289</td>\n",
       "      <td>0.430351</td>\n",
       "      <td>0.347893</td>\n",
       "      <td>0.463918</td>\n",
       "      <td>0.518390</td>\n",
       "      <td>0.378283</td>\n",
       "      <td>0.186816</td>\n",
       "      <td>...</td>\n",
       "      <td>0.123934</td>\n",
       "      <td>0.506948</td>\n",
       "      <td>0.341575</td>\n",
       "      <td>0.437364</td>\n",
       "      <td>0.172415</td>\n",
       "      <td>0.319489</td>\n",
       "      <td>0.558419</td>\n",
       "      <td>0.157500</td>\n",
       "      <td>0.142595</td>\n",
       "      <td>M</td>\n",
       "    </tr>\n",
       "    <tr>\n",
       "      <th>2</th>\n",
       "      <td>0.610961</td>\n",
       "      <td>0.356781</td>\n",
       "      <td>0.599198</td>\n",
       "      <td>0.454083</td>\n",
       "      <td>0.461045</td>\n",
       "      <td>0.342372</td>\n",
       "      <td>0.330600</td>\n",
       "      <td>0.468738</td>\n",
       "      <td>0.374747</td>\n",
       "      <td>0.251053</td>\n",
       "      <td>...</td>\n",
       "      <td>0.352079</td>\n",
       "      <td>0.548284</td>\n",
       "      <td>0.359025</td>\n",
       "      <td>0.465760</td>\n",
       "      <td>0.294564</td>\n",
       "      <td>0.334265</td>\n",
       "      <td>0.554296</td>\n",
       "      <td>0.193968</td>\n",
       "      <td>0.238226</td>\n",
       "      <td>M</td>\n",
       "    </tr>\n",
       "    <tr>\n",
       "      <th>3</th>\n",
       "      <td>0.642198</td>\n",
       "      <td>0.377071</td>\n",
       "      <td>0.649644</td>\n",
       "      <td>0.493955</td>\n",
       "      <td>0.469170</td>\n",
       "      <td>0.473959</td>\n",
       "      <td>0.488519</td>\n",
       "      <td>0.657058</td>\n",
       "      <td>0.538889</td>\n",
       "      <td>0.264322</td>\n",
       "      <td>...</td>\n",
       "      <td>0.358742</td>\n",
       "      <td>0.546790</td>\n",
       "      <td>0.399086</td>\n",
       "      <td>0.367364</td>\n",
       "      <td>0.277682</td>\n",
       "      <td>0.354073</td>\n",
       "      <td>0.738144</td>\n",
       "      <td>0.298048</td>\n",
       "      <td>0.135445</td>\n",
       "      <td>M</td>\n",
       "    </tr>\n",
       "    <tr>\n",
       "      <th>4</th>\n",
       "      <td>0.768091</td>\n",
       "      <td>0.583700</td>\n",
       "      <td>0.758137</td>\n",
       "      <td>0.647508</td>\n",
       "      <td>0.383317</td>\n",
       "      <td>0.456475</td>\n",
       "      <td>0.456888</td>\n",
       "      <td>0.614811</td>\n",
       "      <td>0.428788</td>\n",
       "      <td>0.276537</td>\n",
       "      <td>...</td>\n",
       "      <td>0.599414</td>\n",
       "      <td>0.774889</td>\n",
       "      <td>0.678038</td>\n",
       "      <td>0.508024</td>\n",
       "      <td>0.373830</td>\n",
       "      <td>0.464856</td>\n",
       "      <td>0.891065</td>\n",
       "      <td>0.303174</td>\n",
       "      <td>0.208120</td>\n",
       "      <td>M</td>\n",
       "    </tr>\n",
       "    <tr>\n",
       "      <th>...</th>\n",
       "      <td>...</td>\n",
       "      <td>...</td>\n",
       "      <td>...</td>\n",
       "      <td>...</td>\n",
       "      <td>...</td>\n",
       "      <td>...</td>\n",
       "      <td>...</td>\n",
       "      <td>...</td>\n",
       "      <td>...</td>\n",
       "      <td>...</td>\n",
       "      <td>...</td>\n",
       "      <td>...</td>\n",
       "      <td>...</td>\n",
       "      <td>...</td>\n",
       "      <td>...</td>\n",
       "      <td>...</td>\n",
       "      <td>...</td>\n",
       "      <td>...</td>\n",
       "      <td>...</td>\n",
       "      <td>...</td>\n",
       "      <td>...</td>\n",
       "    </tr>\n",
       "    <tr>\n",
       "      <th>280</th>\n",
       "      <td>0.495532</td>\n",
       "      <td>0.398469</td>\n",
       "      <td>0.504705</td>\n",
       "      <td>0.360267</td>\n",
       "      <td>0.454252</td>\n",
       "      <td>0.392574</td>\n",
       "      <td>0.373000</td>\n",
       "      <td>0.450260</td>\n",
       "      <td>0.429436</td>\n",
       "      <td>0.261301</td>\n",
       "      <td>...</td>\n",
       "      <td>0.464059</td>\n",
       "      <td>0.471180</td>\n",
       "      <td>0.316531</td>\n",
       "      <td>0.502587</td>\n",
       "      <td>0.322767</td>\n",
       "      <td>0.356116</td>\n",
       "      <td>0.641833</td>\n",
       "      <td>0.328890</td>\n",
       "      <td>0.229394</td>\n",
       "      <td>M</td>\n",
       "    </tr>\n",
       "    <tr>\n",
       "      <th>281</th>\n",
       "      <td>0.493190</td>\n",
       "      <td>0.397965</td>\n",
       "      <td>0.510824</td>\n",
       "      <td>0.378311</td>\n",
       "      <td>0.460581</td>\n",
       "      <td>0.401961</td>\n",
       "      <td>0.389597</td>\n",
       "      <td>0.460443</td>\n",
       "      <td>0.449243</td>\n",
       "      <td>0.283053</td>\n",
       "      <td>...</td>\n",
       "      <td>0.451996</td>\n",
       "      <td>0.474867</td>\n",
       "      <td>0.324941</td>\n",
       "      <td>0.501494</td>\n",
       "      <td>0.341811</td>\n",
       "      <td>0.369682</td>\n",
       "      <td>0.637034</td>\n",
       "      <td>0.340764</td>\n",
       "      <td>0.243211</td>\n",
       "      <td>M</td>\n",
       "    </tr>\n",
       "    <tr>\n",
       "      <th>282</th>\n",
       "      <td>0.506695</td>\n",
       "      <td>0.420244</td>\n",
       "      <td>0.506118</td>\n",
       "      <td>0.371027</td>\n",
       "      <td>0.452766</td>\n",
       "      <td>0.397166</td>\n",
       "      <td>0.389773</td>\n",
       "      <td>0.442899</td>\n",
       "      <td>0.463129</td>\n",
       "      <td>0.297919</td>\n",
       "      <td>...</td>\n",
       "      <td>0.455585</td>\n",
       "      <td>0.464213</td>\n",
       "      <td>0.334489</td>\n",
       "      <td>0.472360</td>\n",
       "      <td>0.354398</td>\n",
       "      <td>0.383587</td>\n",
       "      <td>0.636135</td>\n",
       "      <td>0.337693</td>\n",
       "      <td>0.262155</td>\n",
       "      <td>M</td>\n",
       "    </tr>\n",
       "    <tr>\n",
       "      <th>283</th>\n",
       "      <td>0.518232</td>\n",
       "      <td>0.389838</td>\n",
       "      <td>0.498056</td>\n",
       "      <td>0.335785</td>\n",
       "      <td>0.458015</td>\n",
       "      <td>0.387924</td>\n",
       "      <td>0.369179</td>\n",
       "      <td>0.440012</td>\n",
       "      <td>0.392774</td>\n",
       "      <td>0.213478</td>\n",
       "      <td>...</td>\n",
       "      <td>0.466242</td>\n",
       "      <td>0.471355</td>\n",
       "      <td>0.318521</td>\n",
       "      <td>0.501383</td>\n",
       "      <td>0.287655</td>\n",
       "      <td>0.322957</td>\n",
       "      <td>0.650962</td>\n",
       "      <td>0.304659</td>\n",
       "      <td>0.203651</td>\n",
       "      <td>M</td>\n",
       "    </tr>\n",
       "    <tr>\n",
       "      <th>284</th>\n",
       "      <td>0.508999</td>\n",
       "      <td>0.419837</td>\n",
       "      <td>0.516990</td>\n",
       "      <td>0.378742</td>\n",
       "      <td>0.456161</td>\n",
       "      <td>0.412702</td>\n",
       "      <td>0.392249</td>\n",
       "      <td>0.440545</td>\n",
       "      <td>0.459450</td>\n",
       "      <td>0.313376</td>\n",
       "      <td>...</td>\n",
       "      <td>0.454307</td>\n",
       "      <td>0.461393</td>\n",
       "      <td>0.326173</td>\n",
       "      <td>0.479849</td>\n",
       "      <td>0.357084</td>\n",
       "      <td>0.389977</td>\n",
       "      <td>0.618149</td>\n",
       "      <td>0.345074</td>\n",
       "      <td>0.259357</td>\n",
       "      <td>M</td>\n",
       "    </tr>\n",
       "  </tbody>\n",
       "</table>\n",
       "<p>285 rows × 31 columns</p>\n",
       "</div>"
      ],
      "text/plain": [
       "           0         1         2         3         4         5         6   \\\n",
       "0    0.521037  0.370308  0.511437  0.359788  0.460143  0.340531  0.281396   \n",
       "1    0.629893  0.156578  0.630986  0.489289  0.430351  0.347893  0.463918   \n",
       "2    0.610961  0.356781  0.599198  0.454083  0.461045  0.342372  0.330600   \n",
       "3    0.642198  0.377071  0.649644  0.493955  0.469170  0.473959  0.488519   \n",
       "4    0.768091  0.583700  0.758137  0.647508  0.383317  0.456475  0.456888   \n",
       "..        ...       ...       ...       ...       ...       ...       ...   \n",
       "280  0.495532  0.398469  0.504705  0.360267  0.454252  0.392574  0.373000   \n",
       "281  0.493190  0.397965  0.510824  0.378311  0.460581  0.401961  0.389597   \n",
       "282  0.506695  0.420244  0.506118  0.371027  0.452766  0.397166  0.389773   \n",
       "283  0.518232  0.389838  0.498056  0.335785  0.458015  0.387924  0.369179   \n",
       "284  0.508999  0.419837  0.516990  0.378742  0.456161  0.412702  0.392249   \n",
       "\n",
       "           7         8         9   ...        21        22        23  \\\n",
       "0    0.438569  0.470707  0.225990  ...  0.356876  0.436725  0.286030   \n",
       "1    0.518390  0.378283  0.186816  ...  0.123934  0.506948  0.341575   \n",
       "2    0.468738  0.374747  0.251053  ...  0.352079  0.548284  0.359025   \n",
       "3    0.657058  0.538889  0.264322  ...  0.358742  0.546790  0.399086   \n",
       "4    0.614811  0.428788  0.276537  ...  0.599414  0.774889  0.678038   \n",
       "..        ...       ...       ...  ...       ...       ...       ...   \n",
       "280  0.450260  0.429436  0.261301  ...  0.464059  0.471180  0.316531   \n",
       "281  0.460443  0.449243  0.283053  ...  0.451996  0.474867  0.324941   \n",
       "282  0.442899  0.463129  0.297919  ...  0.455585  0.464213  0.334489   \n",
       "283  0.440012  0.392774  0.213478  ...  0.466242  0.471355  0.318521   \n",
       "284  0.440545  0.459450  0.313376  ...  0.454307  0.461393  0.326173   \n",
       "\n",
       "           24        25        26        27        28        29  30  \n",
       "0    0.508684  0.335895  0.263658  0.678351  0.294697  0.196707   M  \n",
       "1    0.437364  0.172415  0.319489  0.558419  0.157500  0.142595   M  \n",
       "2    0.465760  0.294564  0.334265  0.554296  0.193968  0.238226   M  \n",
       "3    0.367364  0.277682  0.354073  0.738144  0.298048  0.135445   M  \n",
       "4    0.508024  0.373830  0.464856  0.891065  0.303174  0.208120   M  \n",
       "..        ...       ...       ...       ...       ...       ...  ..  \n",
       "280  0.502587  0.322767  0.356116  0.641833  0.328890  0.229394   M  \n",
       "281  0.501494  0.341811  0.369682  0.637034  0.340764  0.243211   M  \n",
       "282  0.472360  0.354398  0.383587  0.636135  0.337693  0.262155   M  \n",
       "283  0.501383  0.287655  0.322957  0.650962  0.304659  0.203651   M  \n",
       "284  0.479849  0.357084  0.389977  0.618149  0.345074  0.259357   M  \n",
       "\n",
       "[285 rows x 31 columns]"
      ]
     },
     "execution_count": 53,
     "metadata": {},
     "output_type": "execute_result"
    }
   ],
   "source": [
    "x_minority = pd.DataFrame(x_minority)\n",
    "x_minority[30] = \"M\"\n",
    "x_minority"
   ]
  },
  {
   "cell_type": "code",
   "execution_count": 54,
   "metadata": {},
   "outputs": [
    {
     "data": {
      "text/html": [
       "<div>\n",
       "<style scoped>\n",
       "    .dataframe tbody tr th:only-of-type {\n",
       "        vertical-align: middle;\n",
       "    }\n",
       "\n",
       "    .dataframe tbody tr th {\n",
       "        vertical-align: top;\n",
       "    }\n",
       "\n",
       "    .dataframe thead th {\n",
       "        text-align: right;\n",
       "    }\n",
       "</style>\n",
       "<table border=\"1\" class=\"dataframe\">\n",
       "  <thead>\n",
       "    <tr style=\"text-align: right;\">\n",
       "      <th></th>\n",
       "      <th>0</th>\n",
       "      <th>1</th>\n",
       "      <th>2</th>\n",
       "      <th>3</th>\n",
       "      <th>4</th>\n",
       "      <th>5</th>\n",
       "      <th>6</th>\n",
       "      <th>7</th>\n",
       "      <th>8</th>\n",
       "      <th>9</th>\n",
       "      <th>...</th>\n",
       "      <th>21</th>\n",
       "      <th>22</th>\n",
       "      <th>23</th>\n",
       "      <th>24</th>\n",
       "      <th>25</th>\n",
       "      <th>26</th>\n",
       "      <th>27</th>\n",
       "      <th>28</th>\n",
       "      <th>29</th>\n",
       "      <th>30</th>\n",
       "    </tr>\n",
       "  </thead>\n",
       "  <tbody>\n",
       "    <tr>\n",
       "      <th>0</th>\n",
       "      <td>0.095556</td>\n",
       "      <td>0.158607</td>\n",
       "      <td>0.086863</td>\n",
       "      <td>0.043606</td>\n",
       "      <td>0.157263</td>\n",
       "      <td>0.036133</td>\n",
       "      <td>0.008625</td>\n",
       "      <td>0.017256</td>\n",
       "      <td>0.367677</td>\n",
       "      <td>0.3869</td>\n",
       "      <td>...</td>\n",
       "      <td>0.214552</td>\n",
       "      <td>0.052244</td>\n",
       "      <td>0.024651</td>\n",
       "      <td>0.181206</td>\n",
       "      <td>0.024284</td>\n",
       "      <td>0.011757</td>\n",
       "      <td>0.047732</td>\n",
       "      <td>0.281096</td>\n",
       "      <td>0.150859</td>\n",
       "      <td>B</td>\n",
       "    </tr>\n",
       "    <tr>\n",
       "      <th>1</th>\n",
       "      <td>0.24748</td>\n",
       "      <td>0.148123</td>\n",
       "      <td>0.241794</td>\n",
       "      <td>0.135101</td>\n",
       "      <td>0.256838</td>\n",
       "      <td>0.18051</td>\n",
       "      <td>0.160239</td>\n",
       "      <td>0.125944</td>\n",
       "      <td>0.29596</td>\n",
       "      <td>0.243892</td>\n",
       "      <td>...</td>\n",
       "      <td>0.193763</td>\n",
       "      <td>0.185467</td>\n",
       "      <td>0.084718</td>\n",
       "      <td>0.207555</td>\n",
       "      <td>0.20938</td>\n",
       "      <td>0.245687</td>\n",
       "      <td>0.314089</td>\n",
       "      <td>0.2192</td>\n",
       "      <td>0.217762</td>\n",
       "      <td>B</td>\n",
       "    </tr>\n",
       "    <tr>\n",
       "      <th>2</th>\n",
       "      <td>0.253632</td>\n",
       "      <td>0.177207</td>\n",
       "      <td>0.238408</td>\n",
       "      <td>0.138112</td>\n",
       "      <td>0.308658</td>\n",
       "      <td>0.080762</td>\n",
       "      <td>0.049414</td>\n",
       "      <td>0.102087</td>\n",
       "      <td>0.258081</td>\n",
       "      <td>0.149958</td>\n",
       "      <td>...</td>\n",
       "      <td>0.128731</td>\n",
       "      <td>0.167837</td>\n",
       "      <td>0.085504</td>\n",
       "      <td>0.222083</td>\n",
       "      <td>0.038954</td>\n",
       "      <td>0.039305</td>\n",
       "      <td>0.164708</td>\n",
       "      <td>0.14449</td>\n",
       "      <td>0.030828</td>\n",
       "      <td>B</td>\n",
       "    </tr>\n",
       "    <tr>\n",
       "      <th>3</th>\n",
       "      <td>0.3729</td>\n",
       "      <td>0.244505</td>\n",
       "      <td>0.35312</td>\n",
       "      <td>0.224899</td>\n",
       "      <td>0.330505</td>\n",
       "      <td>0.157536</td>\n",
       "      <td>0.078397</td>\n",
       "      <td>0.142992</td>\n",
       "      <td>0.259091</td>\n",
       "      <td>0.148905</td>\n",
       "      <td>...</td>\n",
       "      <td>0.227079</td>\n",
       "      <td>0.258429</td>\n",
       "      <td>0.145571</td>\n",
       "      <td>0.334346</td>\n",
       "      <td>0.123905</td>\n",
       "      <td>0.097444</td>\n",
       "      <td>0.273918</td>\n",
       "      <td>0.189237</td>\n",
       "      <td>0.086777</td>\n",
       "      <td>B</td>\n",
       "    </tr>\n",
       "    <tr>\n",
       "      <th>4</th>\n",
       "      <td>0.310426</td>\n",
       "      <td>0.157254</td>\n",
       "      <td>0.301776</td>\n",
       "      <td>0.179343</td>\n",
       "      <td>0.407692</td>\n",
       "      <td>0.189896</td>\n",
       "      <td>0.156139</td>\n",
       "      <td>0.237624</td>\n",
       "      <td>0.416667</td>\n",
       "      <td>0.162174</td>\n",
       "      <td>...</td>\n",
       "      <td>0.192964</td>\n",
       "      <td>0.24548</td>\n",
       "      <td>0.129276</td>\n",
       "      <td>0.480948</td>\n",
       "      <td>0.14554</td>\n",
       "      <td>0.190895</td>\n",
       "      <td>0.442612</td>\n",
       "      <td>0.278336</td>\n",
       "      <td>0.115112</td>\n",
       "      <td>B</td>\n",
       "    </tr>\n",
       "    <tr>\n",
       "      <th>...</th>\n",
       "      <td>...</td>\n",
       "      <td>...</td>\n",
       "      <td>...</td>\n",
       "      <td>...</td>\n",
       "      <td>...</td>\n",
       "      <td>...</td>\n",
       "      <td>...</td>\n",
       "      <td>...</td>\n",
       "      <td>...</td>\n",
       "      <td>...</td>\n",
       "      <td>...</td>\n",
       "      <td>...</td>\n",
       "      <td>...</td>\n",
       "      <td>...</td>\n",
       "      <td>...</td>\n",
       "      <td>...</td>\n",
       "      <td>...</td>\n",
       "      <td>...</td>\n",
       "      <td>...</td>\n",
       "      <td>...</td>\n",
       "      <td>...</td>\n",
       "    </tr>\n",
       "    <tr>\n",
       "      <th>280</th>\n",
       "      <td>0.15519</td>\n",
       "      <td>0.084883</td>\n",
       "      <td>0.151752</td>\n",
       "      <td>0.075546</td>\n",
       "      <td>0.427282</td>\n",
       "      <td>0.171891</td>\n",
       "      <td>0.045056</td>\n",
       "      <td>0.097813</td>\n",
       "      <td>0.373737</td>\n",
       "      <td>0.331297</td>\n",
       "      <td>...</td>\n",
       "      <td>0.096748</td>\n",
       "      <td>0.113651</td>\n",
       "      <td>0.05144</td>\n",
       "      <td>0.416892</td>\n",
       "      <td>0.133607</td>\n",
       "      <td>0.06881</td>\n",
       "      <td>0.230103</td>\n",
       "      <td>0.270451</td>\n",
       "      <td>0.145481</td>\n",
       "      <td>B</td>\n",
       "    </tr>\n",
       "    <tr>\n",
       "      <th>281</th>\n",
       "      <td>0.441053</td>\n",
       "      <td>0.20257</td>\n",
       "      <td>0.420911</td>\n",
       "      <td>0.286872</td>\n",
       "      <td>0.375914</td>\n",
       "      <td>0.146433</td>\n",
       "      <td>0.129475</td>\n",
       "      <td>0.226789</td>\n",
       "      <td>0.328788</td>\n",
       "      <td>0.139217</td>\n",
       "      <td>...</td>\n",
       "      <td>0.152985</td>\n",
       "      <td>0.295782</td>\n",
       "      <td>0.182609</td>\n",
       "      <td>0.424156</td>\n",
       "      <td>0.105568</td>\n",
       "      <td>0.155511</td>\n",
       "      <td>0.466323</td>\n",
       "      <td>0.144885</td>\n",
       "      <td>0.11321</td>\n",
       "      <td>B</td>\n",
       "    </tr>\n",
       "    <tr>\n",
       "      <th>282</th>\n",
       "      <td>0.17838</td>\n",
       "      <td>0.177883</td>\n",
       "      <td>0.169097</td>\n",
       "      <td>0.089841</td>\n",
       "      <td>0.228401</td>\n",
       "      <td>0.098184</td>\n",
       "      <td>0.052741</td>\n",
       "      <td>0.03914</td>\n",
       "      <td>0.171212</td>\n",
       "      <td>0.145746</td>\n",
       "      <td>...</td>\n",
       "      <td>0.231876</td>\n",
       "      <td>0.136361</td>\n",
       "      <td>0.062918</td>\n",
       "      <td>0.240573</td>\n",
       "      <td>0.092179</td>\n",
       "      <td>0.077915</td>\n",
       "      <td>0.117285</td>\n",
       "      <td>0.144885</td>\n",
       "      <td>0.082973</td>\n",
       "      <td>B</td>\n",
       "    </tr>\n",
       "    <tr>\n",
       "      <th>283</th>\n",
       "      <td>0.333617</td>\n",
       "      <td>0.39026</td>\n",
       "      <td>0.317877</td>\n",
       "      <td>0.19508</td>\n",
       "      <td>0.343685</td>\n",
       "      <td>0.15358</td>\n",
       "      <td>0.034255</td>\n",
       "      <td>0.094235</td>\n",
       "      <td>0.230808</td>\n",
       "      <td>0.176706</td>\n",
       "      <td>...</td>\n",
       "      <td>0.486674</td>\n",
       "      <td>0.238358</td>\n",
       "      <td>0.130333</td>\n",
       "      <td>0.379912</td>\n",
       "      <td>0.120315</td>\n",
       "      <td>0.049768</td>\n",
       "      <td>0.273643</td>\n",
       "      <td>0.130298</td>\n",
       "      <td>0.138594</td>\n",
       "      <td>B</td>\n",
       "    </tr>\n",
       "    <tr>\n",
       "      <th>284</th>\n",
       "      <td>0.286289</td>\n",
       "      <td>0.294555</td>\n",
       "      <td>0.268261</td>\n",
       "      <td>0.161315</td>\n",
       "      <td>0.335831</td>\n",
       "      <td>0.05607</td>\n",
       "      <td>0.060028</td>\n",
       "      <td>0.145278</td>\n",
       "      <td>0.205556</td>\n",
       "      <td>0.182603</td>\n",
       "      <td>...</td>\n",
       "      <td>0.28758</td>\n",
       "      <td>0.16958</td>\n",
       "      <td>0.08865</td>\n",
       "      <td>0.17064</td>\n",
       "      <td>0.018337</td>\n",
       "      <td>0.038602</td>\n",
       "      <td>0.172268</td>\n",
       "      <td>0.083185</td>\n",
       "      <td>0.043618</td>\n",
       "      <td>B</td>\n",
       "    </tr>\n",
       "  </tbody>\n",
       "</table>\n",
       "<p>285 rows × 31 columns</p>\n",
       "</div>"
      ],
      "text/plain": [
       "           0         1         2         3         4         5         6   \\\n",
       "0    0.095556  0.158607  0.086863  0.043606  0.157263  0.036133  0.008625   \n",
       "1     0.24748  0.148123  0.241794  0.135101  0.256838   0.18051  0.160239   \n",
       "2    0.253632  0.177207  0.238408  0.138112  0.308658  0.080762  0.049414   \n",
       "3      0.3729  0.244505   0.35312  0.224899  0.330505  0.157536  0.078397   \n",
       "4    0.310426  0.157254  0.301776  0.179343  0.407692  0.189896  0.156139   \n",
       "..        ...       ...       ...       ...       ...       ...       ...   \n",
       "280   0.15519  0.084883  0.151752  0.075546  0.427282  0.171891  0.045056   \n",
       "281  0.441053   0.20257  0.420911  0.286872  0.375914  0.146433  0.129475   \n",
       "282   0.17838  0.177883  0.169097  0.089841  0.228401  0.098184  0.052741   \n",
       "283  0.333617   0.39026  0.317877   0.19508  0.343685   0.15358  0.034255   \n",
       "284  0.286289  0.294555  0.268261  0.161315  0.335831   0.05607  0.060028   \n",
       "\n",
       "           7         8         9   ...        21        22        23  \\\n",
       "0    0.017256  0.367677    0.3869  ...  0.214552  0.052244  0.024651   \n",
       "1    0.125944   0.29596  0.243892  ...  0.193763  0.185467  0.084718   \n",
       "2    0.102087  0.258081  0.149958  ...  0.128731  0.167837  0.085504   \n",
       "3    0.142992  0.259091  0.148905  ...  0.227079  0.258429  0.145571   \n",
       "4    0.237624  0.416667  0.162174  ...  0.192964   0.24548  0.129276   \n",
       "..        ...       ...       ...  ...       ...       ...       ...   \n",
       "280  0.097813  0.373737  0.331297  ...  0.096748  0.113651   0.05144   \n",
       "281  0.226789  0.328788  0.139217  ...  0.152985  0.295782  0.182609   \n",
       "282   0.03914  0.171212  0.145746  ...  0.231876  0.136361  0.062918   \n",
       "283  0.094235  0.230808  0.176706  ...  0.486674  0.238358  0.130333   \n",
       "284  0.145278  0.205556  0.182603  ...   0.28758   0.16958   0.08865   \n",
       "\n",
       "           24        25        26        27        28        29 30  \n",
       "0    0.181206  0.024284  0.011757  0.047732  0.281096  0.150859  B  \n",
       "1    0.207555   0.20938  0.245687  0.314089    0.2192  0.217762  B  \n",
       "2    0.222083  0.038954  0.039305  0.164708   0.14449  0.030828  B  \n",
       "3    0.334346  0.123905  0.097444  0.273918  0.189237  0.086777  B  \n",
       "4    0.480948   0.14554  0.190895  0.442612  0.278336  0.115112  B  \n",
       "..        ...       ...       ...       ...       ...       ... ..  \n",
       "280  0.416892  0.133607   0.06881  0.230103  0.270451  0.145481  B  \n",
       "281  0.424156  0.105568  0.155511  0.466323  0.144885   0.11321  B  \n",
       "282  0.240573  0.092179  0.077915  0.117285  0.144885  0.082973  B  \n",
       "283  0.379912  0.120315  0.049768  0.273643  0.130298  0.138594  B  \n",
       "284   0.17064  0.018337  0.038602  0.172268  0.083185  0.043618  B  \n",
       "\n",
       "[285 rows x 31 columns]"
      ]
     },
     "execution_count": 54,
     "metadata": {},
     "output_type": "execute_result"
    }
   ],
   "source": [
    "x_majority = pd.DataFrame(df_train_majority)\n",
    "x_majority\n"
   ]
  },
  {
   "attachments": {},
   "cell_type": "markdown",
   "metadata": {},
   "source": [
    "Combining the two classes into one dataset."
   ]
  },
  {
   "cell_type": "code",
   "execution_count": 55,
   "metadata": {},
   "outputs": [
    {
     "data": {
      "text/html": [
       "<div>\n",
       "<style scoped>\n",
       "    .dataframe tbody tr th:only-of-type {\n",
       "        vertical-align: middle;\n",
       "    }\n",
       "\n",
       "    .dataframe tbody tr th {\n",
       "        vertical-align: top;\n",
       "    }\n",
       "\n",
       "    .dataframe thead th {\n",
       "        text-align: right;\n",
       "    }\n",
       "</style>\n",
       "<table border=\"1\" class=\"dataframe\">\n",
       "  <thead>\n",
       "    <tr style=\"text-align: right;\">\n",
       "      <th></th>\n",
       "      <th>0</th>\n",
       "      <th>1</th>\n",
       "      <th>2</th>\n",
       "      <th>3</th>\n",
       "      <th>4</th>\n",
       "      <th>5</th>\n",
       "      <th>6</th>\n",
       "      <th>7</th>\n",
       "      <th>8</th>\n",
       "      <th>9</th>\n",
       "      <th>...</th>\n",
       "      <th>21</th>\n",
       "      <th>22</th>\n",
       "      <th>23</th>\n",
       "      <th>24</th>\n",
       "      <th>25</th>\n",
       "      <th>26</th>\n",
       "      <th>27</th>\n",
       "      <th>28</th>\n",
       "      <th>29</th>\n",
       "      <th>30</th>\n",
       "    </tr>\n",
       "  </thead>\n",
       "  <tbody>\n",
       "    <tr>\n",
       "      <th>0</th>\n",
       "      <td>0.507262</td>\n",
       "      <td>0.419491</td>\n",
       "      <td>0.519205</td>\n",
       "      <td>0.376893</td>\n",
       "      <td>0.458075</td>\n",
       "      <td>0.41213</td>\n",
       "      <td>0.389735</td>\n",
       "      <td>0.441241</td>\n",
       "      <td>0.457293</td>\n",
       "      <td>0.309311</td>\n",
       "      <td>...</td>\n",
       "      <td>0.45633</td>\n",
       "      <td>0.462721</td>\n",
       "      <td>0.321355</td>\n",
       "      <td>0.483658</td>\n",
       "      <td>0.355054</td>\n",
       "      <td>0.387929</td>\n",
       "      <td>0.621945</td>\n",
       "      <td>0.344823</td>\n",
       "      <td>0.254159</td>\n",
       "      <td>M</td>\n",
       "    </tr>\n",
       "    <tr>\n",
       "      <th>1</th>\n",
       "      <td>0.455251</td>\n",
       "      <td>0.621238</td>\n",
       "      <td>0.445788</td>\n",
       "      <td>0.303118</td>\n",
       "      <td>0.288165</td>\n",
       "      <td>0.25434</td>\n",
       "      <td>0.216753</td>\n",
       "      <td>0.263519</td>\n",
       "      <td>0.267677</td>\n",
       "      <td>0.137321</td>\n",
       "      <td>...</td>\n",
       "      <td>0.589019</td>\n",
       "      <td>0.379949</td>\n",
       "      <td>0.230731</td>\n",
       "      <td>0.282177</td>\n",
       "      <td>0.273705</td>\n",
       "      <td>0.271805</td>\n",
       "      <td>0.487285</td>\n",
       "      <td>0.128721</td>\n",
       "      <td>0.151909</td>\n",
       "      <td>M</td>\n",
       "    </tr>\n",
       "    <tr>\n",
       "      <th>2</th>\n",
       "      <td>0.46661</td>\n",
       "      <td>0.329726</td>\n",
       "      <td>0.446479</td>\n",
       "      <td>0.312492</td>\n",
       "      <td>0.196985</td>\n",
       "      <td>0.162107</td>\n",
       "      <td>0.120665</td>\n",
       "      <td>0.137724</td>\n",
       "      <td>0.39596</td>\n",
       "      <td>0.057287</td>\n",
       "      <td>...</td>\n",
       "      <td>0.427772</td>\n",
       "      <td>0.348075</td>\n",
       "      <td>0.20812</td>\n",
       "      <td>0.109423</td>\n",
       "      <td>0.139428</td>\n",
       "      <td>0.150319</td>\n",
       "      <td>0.289897</td>\n",
       "      <td>0.189631</td>\n",
       "      <td>0.030697</td>\n",
       "      <td>B</td>\n",
       "    </tr>\n",
       "    <tr>\n",
       "      <th>3</th>\n",
       "      <td>0.384259</td>\n",
       "      <td>0.225905</td>\n",
       "      <td>0.38553</td>\n",
       "      <td>0.225239</td>\n",
       "      <td>0.563059</td>\n",
       "      <td>0.494816</td>\n",
       "      <td>0.266635</td>\n",
       "      <td>0.424155</td>\n",
       "      <td>0.475253</td>\n",
       "      <td>0.309815</td>\n",
       "      <td>...</td>\n",
       "      <td>0.168177</td>\n",
       "      <td>0.276358</td>\n",
       "      <td>0.141909</td>\n",
       "      <td>0.445288</td>\n",
       "      <td>0.253233</td>\n",
       "      <td>0.15655</td>\n",
       "      <td>0.489003</td>\n",
       "      <td>0.20205</td>\n",
       "      <td>0.149219</td>\n",
       "      <td>B</td>\n",
       "    </tr>\n",
       "    <tr>\n",
       "      <th>4</th>\n",
       "      <td>0.401297</td>\n",
       "      <td>0.481569</td>\n",
       "      <td>0.414691</td>\n",
       "      <td>0.249332</td>\n",
       "      <td>0.59285</td>\n",
       "      <td>0.51414</td>\n",
       "      <td>0.475633</td>\n",
       "      <td>0.423459</td>\n",
       "      <td>0.377273</td>\n",
       "      <td>0.439553</td>\n",
       "      <td>...</td>\n",
       "      <td>0.647921</td>\n",
       "      <td>0.335126</td>\n",
       "      <td>0.177989</td>\n",
       "      <td>0.673777</td>\n",
       "      <td>0.455424</td>\n",
       "      <td>0.472125</td>\n",
       "      <td>0.743299</td>\n",
       "      <td>0.285433</td>\n",
       "      <td>0.338843</td>\n",
       "      <td>M</td>\n",
       "    </tr>\n",
       "    <tr>\n",
       "      <th>...</th>\n",
       "      <td>...</td>\n",
       "      <td>...</td>\n",
       "      <td>...</td>\n",
       "      <td>...</td>\n",
       "      <td>...</td>\n",
       "      <td>...</td>\n",
       "      <td>...</td>\n",
       "      <td>...</td>\n",
       "      <td>...</td>\n",
       "      <td>...</td>\n",
       "      <td>...</td>\n",
       "      <td>...</td>\n",
       "      <td>...</td>\n",
       "      <td>...</td>\n",
       "      <td>...</td>\n",
       "      <td>...</td>\n",
       "      <td>...</td>\n",
       "      <td>...</td>\n",
       "      <td>...</td>\n",
       "      <td>...</td>\n",
       "      <td>...</td>\n",
       "    </tr>\n",
       "    <tr>\n",
       "      <th>565</th>\n",
       "      <td>0.353495</td>\n",
       "      <td>0.355428</td>\n",
       "      <td>0.350356</td>\n",
       "      <td>0.21175</td>\n",
       "      <td>0.416087</td>\n",
       "      <td>0.310472</td>\n",
       "      <td>0.276476</td>\n",
       "      <td>0.297217</td>\n",
       "      <td>0.449495</td>\n",
       "      <td>0.309604</td>\n",
       "      <td>...</td>\n",
       "      <td>0.482409</td>\n",
       "      <td>0.336122</td>\n",
       "      <td>0.21107</td>\n",
       "      <td>0.55491</td>\n",
       "      <td>0.367038</td>\n",
       "      <td>0.396725</td>\n",
       "      <td>0.631615</td>\n",
       "      <td>0.628425</td>\n",
       "      <td>0.303424</td>\n",
       "      <td>M</td>\n",
       "    </tr>\n",
       "    <tr>\n",
       "      <th>566</th>\n",
       "      <td>0.430167</td>\n",
       "      <td>0.336152</td>\n",
       "      <td>0.416765</td>\n",
       "      <td>0.285981</td>\n",
       "      <td>0.352532</td>\n",
       "      <td>0.198945</td>\n",
       "      <td>0.228889</td>\n",
       "      <td>0.32992</td>\n",
       "      <td>0.372727</td>\n",
       "      <td>0.083193</td>\n",
       "      <td>...</td>\n",
       "      <td>0.334222</td>\n",
       "      <td>0.390408</td>\n",
       "      <td>0.255063</td>\n",
       "      <td>0.520571</td>\n",
       "      <td>0.17193</td>\n",
       "      <td>0.225958</td>\n",
       "      <td>0.522337</td>\n",
       "      <td>0.213877</td>\n",
       "      <td>0.057917</td>\n",
       "      <td>M</td>\n",
       "    </tr>\n",
       "    <tr>\n",
       "      <th>567</th>\n",
       "      <td>0.097544</td>\n",
       "      <td>0.310788</td>\n",
       "      <td>0.112501</td>\n",
       "      <td>0.042842</td>\n",
       "      <td>0.424754</td>\n",
       "      <td>0.545427</td>\n",
       "      <td>0.462746</td>\n",
       "      <td>0.243936</td>\n",
       "      <td>0.641414</td>\n",
       "      <td>0.789174</td>\n",
       "      <td>...</td>\n",
       "      <td>0.303305</td>\n",
       "      <td>0.090692</td>\n",
       "      <td>0.027502</td>\n",
       "      <td>0.336327</td>\n",
       "      <td>0.337156</td>\n",
       "      <td>0.368131</td>\n",
       "      <td>0.393471</td>\n",
       "      <td>0.309482</td>\n",
       "      <td>0.330972</td>\n",
       "      <td>B</td>\n",
       "    </tr>\n",
       "    <tr>\n",
       "      <th>568</th>\n",
       "      <td>0.510467</td>\n",
       "      <td>0.399812</td>\n",
       "      <td>0.496993</td>\n",
       "      <td>0.35292</td>\n",
       "      <td>0.457641</td>\n",
       "      <td>0.394603</td>\n",
       "      <td>0.383507</td>\n",
       "      <td>0.441593</td>\n",
       "      <td>0.427891</td>\n",
       "      <td>0.249698</td>\n",
       "      <td>...</td>\n",
       "      <td>0.458434</td>\n",
       "      <td>0.462276</td>\n",
       "      <td>0.300933</td>\n",
       "      <td>0.488013</td>\n",
       "      <td>0.340602</td>\n",
       "      <td>0.354773</td>\n",
       "      <td>0.642877</td>\n",
       "      <td>0.33096</td>\n",
       "      <td>0.223018</td>\n",
       "      <td>M</td>\n",
       "    </tr>\n",
       "    <tr>\n",
       "      <th>569</th>\n",
       "      <td>0.395617</td>\n",
       "      <td>0.153872</td>\n",
       "      <td>0.405708</td>\n",
       "      <td>0.237922</td>\n",
       "      <td>0.493545</td>\n",
       "      <td>0.595424</td>\n",
       "      <td>0.486645</td>\n",
       "      <td>0.484891</td>\n",
       "      <td>0.737879</td>\n",
       "      <td>0.428812</td>\n",
       "      <td>...</td>\n",
       "      <td>0.188166</td>\n",
       "      <td>0.371981</td>\n",
       "      <td>0.195561</td>\n",
       "      <td>0.44793</td>\n",
       "      <td>0.551183</td>\n",
       "      <td>0.503594</td>\n",
       "      <td>0.822337</td>\n",
       "      <td>0.611472</td>\n",
       "      <td>0.291355</td>\n",
       "      <td>M</td>\n",
       "    </tr>\n",
       "  </tbody>\n",
       "</table>\n",
       "<p>570 rows × 31 columns</p>\n",
       "</div>"
      ],
      "text/plain": [
       "           0         1         2         3         4         5         6   \\\n",
       "0    0.507262  0.419491  0.519205  0.376893  0.458075   0.41213  0.389735   \n",
       "1    0.455251  0.621238  0.445788  0.303118  0.288165   0.25434  0.216753   \n",
       "2     0.46661  0.329726  0.446479  0.312492  0.196985  0.162107  0.120665   \n",
       "3    0.384259  0.225905   0.38553  0.225239  0.563059  0.494816  0.266635   \n",
       "4    0.401297  0.481569  0.414691  0.249332   0.59285   0.51414  0.475633   \n",
       "..        ...       ...       ...       ...       ...       ...       ...   \n",
       "565  0.353495  0.355428  0.350356   0.21175  0.416087  0.310472  0.276476   \n",
       "566  0.430167  0.336152  0.416765  0.285981  0.352532  0.198945  0.228889   \n",
       "567  0.097544  0.310788  0.112501  0.042842  0.424754  0.545427  0.462746   \n",
       "568  0.510467  0.399812  0.496993   0.35292  0.457641  0.394603  0.383507   \n",
       "569  0.395617  0.153872  0.405708  0.237922  0.493545  0.595424  0.486645   \n",
       "\n",
       "           7         8         9   ...        21        22        23  \\\n",
       "0    0.441241  0.457293  0.309311  ...   0.45633  0.462721  0.321355   \n",
       "1    0.263519  0.267677  0.137321  ...  0.589019  0.379949  0.230731   \n",
       "2    0.137724   0.39596  0.057287  ...  0.427772  0.348075   0.20812   \n",
       "3    0.424155  0.475253  0.309815  ...  0.168177  0.276358  0.141909   \n",
       "4    0.423459  0.377273  0.439553  ...  0.647921  0.335126  0.177989   \n",
       "..        ...       ...       ...  ...       ...       ...       ...   \n",
       "565  0.297217  0.449495  0.309604  ...  0.482409  0.336122   0.21107   \n",
       "566   0.32992  0.372727  0.083193  ...  0.334222  0.390408  0.255063   \n",
       "567  0.243936  0.641414  0.789174  ...  0.303305  0.090692  0.027502   \n",
       "568  0.441593  0.427891  0.249698  ...  0.458434  0.462276  0.300933   \n",
       "569  0.484891  0.737879  0.428812  ...  0.188166  0.371981  0.195561   \n",
       "\n",
       "           24        25        26        27        28        29 30  \n",
       "0    0.483658  0.355054  0.387929  0.621945  0.344823  0.254159  M  \n",
       "1    0.282177  0.273705  0.271805  0.487285  0.128721  0.151909  M  \n",
       "2    0.109423  0.139428  0.150319  0.289897  0.189631  0.030697  B  \n",
       "3    0.445288  0.253233   0.15655  0.489003   0.20205  0.149219  B  \n",
       "4    0.673777  0.455424  0.472125  0.743299  0.285433  0.338843  M  \n",
       "..        ...       ...       ...       ...       ...       ... ..  \n",
       "565   0.55491  0.367038  0.396725  0.631615  0.628425  0.303424  M  \n",
       "566  0.520571   0.17193  0.225958  0.522337  0.213877  0.057917  M  \n",
       "567  0.336327  0.337156  0.368131  0.393471  0.309482  0.330972  B  \n",
       "568  0.488013  0.340602  0.354773  0.642877   0.33096  0.223018  M  \n",
       "569   0.44793  0.551183  0.503594  0.822337  0.611472  0.291355  M  \n",
       "\n",
       "[570 rows x 31 columns]"
      ]
     },
     "execution_count": 55,
     "metadata": {},
     "output_type": "execute_result"
    }
   ],
   "source": [
    "df_balanced = pd.concat([x_minority, x_majority], ignore_index=True)\n",
    "# We shuffle the records to prevent bias in our training\n",
    "df_balanced = df_balanced.sample(frac=1).reset_index(drop=True)\n",
    "df_balanced\n"
   ]
  },
  {
   "attachments": {},
   "cell_type": "markdown",
   "metadata": {},
   "source": [
    "We can now train a machine learning model or a neural network from our balanced dataset."
   ]
  },
  {
   "attachments": {},
   "cell_type": "markdown",
   "metadata": {},
   "source": [
    "#### **End. Thank you!**"
   ]
  }
 ],
 "metadata": {
  "kernelspec": {
   "display_name": "Python 3 (ipykernel)",
   "language": "python",
   "name": "python3"
  },
  "language_info": {
   "codemirror_mode": {
    "name": "ipython",
    "version": 3
   },
   "file_extension": ".py",
   "mimetype": "text/x-python",
   "name": "python",
   "nbconvert_exporter": "python",
   "pygments_lexer": "ipython3",
   "version": "3.9.13"
  },
  "vscode": {
   "interpreter": {
    "hash": "e3f35b7f9850f6ea2c39d92ee5437d43183f63b63fc8326fb3a6d8bba7d8e4e9"
   }
  }
 },
 "nbformat": 4,
 "nbformat_minor": 2
}
